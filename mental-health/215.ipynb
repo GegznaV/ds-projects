{
 "cells": [
  {
   "cell_type": "markdown",
   "id": "125d27ee-f919-4aa8-9eae-70256d42c511",
   "metadata": {},
   "source": [
    "# Module 2: Data Analysis\n",
    "## Sprint 1: Introduction to SQL & Statistics Fundamentals\n",
    "### Part 5: Analysis of the Mental Health in the Tech Industry"
   ]
  },
  {
   "cell_type": "markdown",
   "id": "7a3d776e-2520-48fd-b27f-c169f6c03e76",
   "metadata": {},
   "source": [
    "<details><summary>About</summary>\n",
    "\n",
    "## About this Part\n",
    "\n",
    "Congrats!\n",
    "You have reached the last Part of this Sprint.\n",
    "As the final assignment of this Sprint, you will analyse the Mental Health in the Tech Industry Dataset.\n",
    "You will have to apply all that you have learned about SQL, Statistics, and Data Analysis to complete this task.\n",
    "Our expectation is that you'll use your own judgement how to perform the analysis and how to select the most important avenues of exploration.\n",
    "You'll have to iteratively raise hypotheses and use your data analysis skills to get answers.\n",
    "\n",
    "P.S. we don't expect this project to be perfect - you will continue to improve your skills and there will be many projects for you to apply your newly gained skills in the future.\n",
    "For now just use what you have learned and try your best!\n",
    "\n",
    "## Objectives for this Part\n",
    "\n",
    "- Practice working with SQLite datasets.\n",
    "- Practice performing EDA.\n",
    "- Practice visualizing data with Matplotlib & Seaborn.\n",
    "- Practice reading data, performing queries and filtering data using SQL and Pandas.\n",
    "\n",
    "## Requirements\n",
    "\n",
    "- Download the data from [Mental Health in the Tech Industry](https://www.kaggle.com/anth7310/mental-health-in-the-tech-industry).\n",
    "- Load the data using SQLite and Pandas.\n",
    "- Perform exploratory data analysis. This should include creating statistical summaries and charts, testing for anomalies, checking for correlations and other relations between variables, and other EDA elements.\n",
    "- Provide clear explanations in your notebook. Your explanations should inform the reader what you are trying to achieve, what results did you get, and what these results mean.\n",
    "- Provide suggestions about how your analysis can be improved.\n",
    "\n",
    "## Evaluation Criteria\n",
    "\n",
    "- Adherence to the requirements. How well did you meet the requirements?\n",
    "- Depth of your analysis. Did you just skim the surface or did you explored the dataset in depth?\n",
    "- Visualization quality. Did you use charts effectively to visualize patterns in the data? Are your visualizations properly labeled? Did you use colors effectively? Did you adhere to the principle of proportional ink?\n",
    "- Code quality. Was your code well-structure? Did you use the appropriate levels of abstraction? Did you remove commented out and unused code? Did you adhere to the PEP8?\n",
    "- Code performance. Did you use the suitable algorithms and data structures to solve the problems?\n",
    "\n",
    "## Sample Correction Questions\n",
    "\n",
    "During a correction, you may get asked questions that test your understanding of covered topics.\n",
    "\n",
    "## Correction\n",
    "\n",
    "During your project correction, you should present your project as if talking to a product manager and senior data analyst working in your team.\n",
    "You will have to find the right balance between explaining the business side and the technical aspects of your work.\n",
    "You can assume that both of your colleagues have a strong understanding of and are very interested in the business aspect of your project, so be sure to clearly explain what new insights you've found while analyzing the dataset and which directions look the most promising for further research.\n",
    "However, you should also spend time explaining the technical aspects of your work, especially the more complex or unconventional choices.\n",
    "\n",
    "During a correction, you may get asked questions that test your understanding of covered topics.\n",
    "\n",
    "- What are the main types and subtypes of data?\n",
    "- What are the main metrics of location? What advantages and disadvantages each of them have?\n",
    "- What is variability? What are the main metrics of variability? What advantages and disadvantages each of them have?\n",
    "- What is correlation? How do we use it to analyse data?\n",
    "- What is a contingency table?\n",
    "\n",
    "</details>"
   ]
  },
  {
   "cell_type": "markdown",
   "id": "5b2750db",
   "metadata": {},
   "source": [
    "***"
   ]
  },
  {
   "cell_type": "markdown",
   "id": "26ea51df",
   "metadata": {},
   "source": [
    "# The Analysis of Mental Health in the Tech Industry"
   ]
  },
  {
   "cell_type": "markdown",
   "id": "d67eb937",
   "metadata": {},
   "source": [
    "Project by **Vilmantas Gėgžna**  \n",
    "\n",
    "**Tools:** SQL, Python  \n",
    "Helper tools: VSCode, Git  \n",
    "**Skills:**  \n",
    "-- statistical programming,   \n",
    "-- data pre-processing,   \n",
    "-- descriptive statistics and data visualization, EDA.  "
   ]
  },
  {
   "cell_type": "markdown",
   "id": "047e491b",
   "metadata": {},
   "source": [
    "**Abbreviations**\n",
    "\n",
    "- IT -- information technologies\n",
    "- MH -- mental health\n",
    "- MHD -- mental health disorder \n",
    "- n -- sample/group size\n",
    "- tech -- technology\n",
    "- UK -- United Kingdom  \n",
    "- USA, US -- United States of America  "
   ]
  },
  {
   "cell_type": "markdown",
   "id": "034d466f",
   "metadata": {},
   "source": [
    "**Contents:**\n",
    "\n",
    "- Introduction\n",
    "- Setup\n",
    "- Overview of Data \n",
    "\t- Investigation of Database Tables \n",
    "\t- Investigation of Questionnaires \n",
    "- Exploratory Data Analysis \n",
    "\t- Data Pre-Processing \n",
    "\t- Activity of Respondents \n",
    "\t- Respondent's Profile \n",
    "\t- Productivity and Mental Health \n",
    "\t- Factors Related to MHD Treatment Seeking \n",
    "- Take Away Points\n",
    "- Suggestions to Improve the Analysis "
   ]
  },
  {
   "cell_type": "markdown",
   "id": "14cc56a5",
   "metadata": {},
   "source": [
    "## Introduction"
   ]
  },
  {
   "cell_type": "markdown",
   "id": "a8b32076",
   "metadata": {},
   "source": [
    "Various mental disorders is a **widely spread** phenomenon: approximately **1 in 5 adults** (21%, 52.9 million people) in the US experienced mental illness in 2020 [1] and up to 1 billion people across the globe suffer from various mental disorders.\n",
    "**Loss in productivity** due to anxiety and depression — two most common conditions — alone **costs 1 trillion US dollars** annually worldwide [2]. \n",
    "Still, not enough attention is payed to mental health and not enough health care resources are assigned to improve the situation.\n",
    "As one of the solutions in the US, Open Sourcing Mental Health a non-profit corporation was found in 2013.\n",
    "The purpose it is to raise awareness, educate, and provide resources to support mental wellness in the tech and open source communities [3].\n",
    "Since 2014, the corporation organizes surveys to investigate and understand status of mental health as well as attitudes towards mental health and frequency of mental health disorders in the tech industry.\n",
    "This project is dedicated to the analysis of these surveys' data, acquired in 2014-2019. \n",
    "\n",
    "\n",
    "<div style=\"font-size:14px\">\n",
    "\n",
    "[1]: National Alliance of Mental Illness. URL: https://www.nami.org/mhstats (updated on June 2022)   \n",
    "[2]: Mental health matters. The Lancet Global Health, 2020. URL: https://www.thelancet.com/journals/langlo/article/PIIS2214-109X(20)30432-0/fulltext, DOI: https://doi.org/10.1016/S2214-109X(20)30432-0  \n",
    "[3]: Open Sourcing Mental Health (OSMI) website. URL: https://osmihelp.org/about/about-osmi (visited on 2022-11-15)  \n",
    "\n",
    "</div>\n"
   ]
  },
  {
   "cell_type": "markdown",
   "id": "13f450fd",
   "metadata": {},
   "source": [
    "## Setup"
   ]
  },
  {
   "cell_type": "code",
   "execution_count": 1,
   "id": "ca934416",
   "metadata": {},
   "outputs": [],
   "source": [
    "# Packages and modules -------------------------------\n",
    "# To connect SQL database\n",
    "import sqlalchemy as sqa\n",
    "\n",
    "# Data wrangling\n",
    "import pandas as pd\n",
    "\n",
    "# Visualization\n",
    "import matplotlib.pyplot as plt\n",
    "import seaborn as sns\n",
    "\n",
    "# Missing value identification\n",
    "import missingno as msno\n",
    "\n",
    "# Custom functions\n",
    "import functions as my\n",
    "\n",
    "# Settings --------------------------------------------\n",
    "# Default plot options\n",
    "plt.rc(\"figure\", titleweight=\"bold\")\n",
    "plt.rc(\"axes\", labelweight=\"bold\", titleweight=\"bold\")\n",
    "plt.rc(\"font\", weight=\"normal\", size=10)\n",
    "plt.rc(\"figure\", figsize=(7, 3))\n",
    "\n",
    "# Pandas options\n",
    "pd.set_option(\n",
    "    \"display.max_colwidth\",\n",
    "    None,\n",
    "    \"display.max_rows\",\n",
    "    1000,\n",
    "    \"display.max_columns\",\n",
    "    100,\n",
    ")\n",
    "\n",
    "# colors\n",
    "green, blue, orange, red = \"tab:green\", \"tab:blue\", \"tab:orange\", \"tab:red\""
   ]
  },
  {
   "cell_type": "markdown",
   "id": "d57bdc7b",
   "metadata": {},
   "source": [
    "Functions, that are generalizable and may be used in several projects, are in separate file `functions.py`. *Ad hoc* functions specific for this dataset are defined in this document:"
   ]
  },
  {
   "cell_type": "code",
   "execution_count": null,
   "id": "301bef76",
   "metadata": {},
   "outputs": [],
   "source": [
    "# FIXME: create a `as_cat()` function from all `as_cat__*()` functions."
   ]
  },
  {
   "cell_type": "code",
   "execution_count": 2,
   "id": "c7faf4ec",
   "metadata": {},
   "outputs": [],
   "source": [
    "# -- Custom ad-hoc functions\n",
    "# Convert to categorical\n",
    "def as_cat__yes_maybe_no(x):\n",
    "    \"\"\"Convert to categorical variable with levels \"Yes\", \"Maybe\", \"No\"\n",
    "\n",
    "    Args:\n",
    "        x (pandas.Series): Original variable\n",
    "\n",
    "    Returns:\n",
    "        pandas.Series: Variable with new data type\n",
    "    \"\"\"\n",
    "    return pd.Categorical(x, categories=[\"Yes\", \"Maybe\", \"No\"])\n",
    "\n",
    "\n",
    "def as_cat__yes_no(x):\n",
    "    \"\"\"Essentially the same function as as above (with other categories)\"\"\"\n",
    "    return pd.Categorical(x, categories=[\"Yes\", \"No\"])\n",
    "\n",
    "\n",
    "def as_cat__yes_no_dk(x):\n",
    "    \"\"\"Essentially the same function as as above (with other categories)\"\"\"\n",
    "    return pd.Categorical(x, categories=[\"Yes\", \"No\", \"Don't know\"])\n",
    "\n",
    "\n",
    "def as_cat__yes_no_ne_dk(x):\n",
    "    \"\"\"Essentially the same function as as above (with other categories)\"\"\"\n",
    "    return pd.Categorical(\n",
    "        x, categories=[\"Yes\", \"No\", \"Not eligible for coverage\", \"Don't know\"]\n",
    "    )\n",
    "\n",
    "def as_cat__yes_maybe_no(x):\n",
    "    \"\"\"Convert to categorical variable with levels \"Yes\", \"Maybe\", \"No\"\n",
    "\n",
    "    Args:\n",
    "        x (pandas.Series): Original variable\n",
    "\n",
    "    Returns:\n",
    "        pandas.Series: Variable with new data type\n",
    "    \"\"\"\n",
    "    return pd.Categorical(x, categories=[\"Yes\", \"Maybe\", \"No\"])\n",
    "\n",
    "\n",
    "def as_cat__yes_no(x):\n",
    "    \"\"\"Essentially the same function as as above (with other categories)\"\"\"\n",
    "    return pd.Categorical(x, categories=[\"Yes\", \"No\"])\n",
    "\n",
    "\n",
    "def as_cat__yes_no_dk(x):\n",
    "    \"\"\"Essentially the same function as as above (with other categories)\"\"\"\n",
    "    return pd.Categorical(x, categories=[\"Yes\", \"No\", \"Don't know\"])\n",
    "\n",
    "        \n",
    "    \"yes_no_ne_dk\"    categories=[\"Yes\", \"No\", \"Not eligible for coverage\", \"Don't know\"]\n",
    "\n",
    "\n",
    "# Get question text from 'Question' table by ID\n",
    "def print_questions(id):\n",
    "    \"\"\"Show question text by id\n",
    "\n",
    "    Args:\n",
    "        id (integer or tuple of integers): Question IDs in 'Question' table.\n",
    "    \"\"\"\n",
    "    if type(id) in [int, float]:\n",
    "        id = f\"({int(id)})\"\n",
    "        s = \"\"\n",
    "    else:\n",
    "        s = \"s\"\n",
    "\n",
    "    questions = pd.read_sql(\n",
    "        f\"\"\"--sql\n",
    "        SELECT questionid ID, questiontext 'Question'\n",
    "        FROM Question \n",
    "        WHERE QuestionID IN {id};\n",
    "        \"\"\",\n",
    "        db_engine,\n",
    "    )\n",
    "    print(f\"Question{s}:\")\n",
    "    display(questions)"
   ]
  },
  {
   "cell_type": "markdown",
   "id": "ad0c7c93",
   "metadata": {},
   "source": [
    "## Overview of Data"
   ]
  },
  {
   "attachments": {},
   "cell_type": "markdown",
   "id": "eb14d423",
   "metadata": {},
   "source": [
    "In this project, \"[Mental Health in the Tech Industry](https://www.kaggle.com/anth7310/mental-health-in-the-tech-industry)\" database from Kaggle, which covers surveys conducted in 2014-2019, was used.\n",
    "The database consists of 3 tables: 'Answer', 'Question', 'Survey':\n",
    "\n",
    "- Table '`Survey`' contains the names of surveys, which where performed in different years.\n",
    "The column with survey ID indicates the year of investigation.\n",
    "The data spans from 2014 to 2019 (excluding year 2015).\n",
    "\n",
    "- Table '`Question`' contains unique 105 questions used in all the surveys.\n",
    "  Question IDs range from 1 to 118 and IDs between 35 and 47 are missing.\n",
    "  Twelve questions are common for all surveys, some are used just in a single survey, but most are common for a subset of surveys.\n",
    "\n",
    "- Table '`Answer`' contains the answers to the questions of each survey in a long-format table (one row per combination of year, question, and respondent).\n",
    "Survey ID ranges from 2014 to 2019 with 5 unique values, user ID from 1 to 4218 with 4218 unique responses (filled survey questionnaires)**¹**, question ID from 1 to 118 with 105 unique values, so these numbers mach data from the other tables.\n",
    "\n",
    "    In the answer text field of this table, there are some strange values, e.g., \"`¯\\(°_o)/¯`\", that might need further investigation, if those questions are included in the analysis.\n",
    "\n",
    "    There are no NaN/Null values:\n",
    "\n",
    "    - Due to table form (long format), structural missing values are not present. It would be a case if there were one record per user or per user and survey combination.\n",
    "    - Unanswered/Skipped questions are either not included or missing values are coded in a different way (e.g., as `-1`: we will see this in another section). \n",
    "\n",
    "<div style=\"font-size:14px\">\n",
    "\n",
    "**¹** We will make an assumption that a single respondent participated in a single survey only once and, to avoid confusion, instead of term \"response to the survey\" we will use term \"respondent\".\n",
    "\n",
    "</div>"
   ]
  },
  {
   "cell_type": "markdown",
   "id": "30a1fea5",
   "metadata": {},
   "source": [
    "Find the details in the subsections below."
   ]
  },
  {
   "cell_type": "markdown",
   "id": "5e88becf",
   "metadata": {},
   "source": [
    "### Investigation of Database Tables"
   ]
  },
  {
   "cell_type": "code",
   "execution_count": 3,
   "id": "640d7b06",
   "metadata": {},
   "outputs": [],
   "source": [
    "# Create a connection to the database.\n",
    "db_engine = sqa.create_engine(\"sqlite:///data/mental_health.sqlite\")"
   ]
  },
  {
   "cell_type": "code",
   "execution_count": 4,
   "id": "13dda086",
   "metadata": {},
   "outputs": [
    {
     "data": {
      "text/plain": [
       "['Answer', 'Question', 'Survey']"
      ]
     },
     "execution_count": 4,
     "metadata": {},
     "output_type": "execute_result"
    }
   ],
   "source": [
    "# List tables\n",
    "sqa.inspect(db_engine).get_table_names()"
   ]
  },
  {
   "cell_type": "markdown",
   "id": "3e95b050",
   "metadata": {},
   "source": [
    "Let's look to each table separately."
   ]
  },
  {
   "cell_type": "markdown",
   "id": "aa838785",
   "metadata": {},
   "source": [
    "- Table '`Survey`' is small and self explanatory:"
   ]
  },
  {
   "cell_type": "code",
   "execution_count": 5,
   "id": "7f59bf7a",
   "metadata": {},
   "outputs": [
    {
     "data": {
      "text/html": [
       "<div>\n",
       "<style scoped>\n",
       "    .dataframe tbody tr th:only-of-type {\n",
       "        vertical-align: middle;\n",
       "    }\n",
       "\n",
       "    .dataframe tbody tr th {\n",
       "        vertical-align: top;\n",
       "    }\n",
       "\n",
       "    .dataframe thead th {\n",
       "        text-align: right;\n",
       "    }\n",
       "</style>\n",
       "<table border=\"1\" class=\"dataframe\">\n",
       "  <thead>\n",
       "    <tr style=\"text-align: right;\">\n",
       "      <th></th>\n",
       "      <th>n_rows</th>\n",
       "    </tr>\n",
       "  </thead>\n",
       "  <tbody>\n",
       "    <tr>\n",
       "      <th>0</th>\n",
       "      <td>5</td>\n",
       "    </tr>\n",
       "  </tbody>\n",
       "</table>\n",
       "</div>"
      ],
      "text/plain": [
       "   n_rows\n",
       "0       5"
      ]
     },
     "execution_count": 5,
     "metadata": {},
     "output_type": "execute_result"
    }
   ],
   "source": [
    "pd.read_sql(\"SELECT COUNT(*) n_rows FROM Survey;\", db_engine)"
   ]
  },
  {
   "cell_type": "code",
   "execution_count": 6,
   "id": "e4108dcc",
   "metadata": {},
   "outputs": [
    {
     "data": {
      "text/html": [
       "<div>\n",
       "<style scoped>\n",
       "    .dataframe tbody tr th:only-of-type {\n",
       "        vertical-align: middle;\n",
       "    }\n",
       "\n",
       "    .dataframe tbody tr th {\n",
       "        vertical-align: top;\n",
       "    }\n",
       "\n",
       "    .dataframe thead th {\n",
       "        text-align: right;\n",
       "    }\n",
       "</style>\n",
       "<table border=\"1\" class=\"dataframe\">\n",
       "  <thead>\n",
       "    <tr style=\"text-align: right;\">\n",
       "      <th></th>\n",
       "      <th>SurveyID</th>\n",
       "      <th>Description</th>\n",
       "    </tr>\n",
       "  </thead>\n",
       "  <tbody>\n",
       "    <tr>\n",
       "      <th>0</th>\n",
       "      <td>2014</td>\n",
       "      <td>mental health survey for 2014</td>\n",
       "    </tr>\n",
       "    <tr>\n",
       "      <th>1</th>\n",
       "      <td>2016</td>\n",
       "      <td>mental health survey for 2016</td>\n",
       "    </tr>\n",
       "    <tr>\n",
       "      <th>2</th>\n",
       "      <td>2017</td>\n",
       "      <td>mental health survey for 2017</td>\n",
       "    </tr>\n",
       "    <tr>\n",
       "      <th>3</th>\n",
       "      <td>2018</td>\n",
       "      <td>mental health survey for 2018</td>\n",
       "    </tr>\n",
       "    <tr>\n",
       "      <th>4</th>\n",
       "      <td>2019</td>\n",
       "      <td>mental health survey for 2019</td>\n",
       "    </tr>\n",
       "  </tbody>\n",
       "</table>\n",
       "</div>"
      ],
      "text/plain": [
       "   SurveyID                    Description\n",
       "0      2014  mental health survey for 2014\n",
       "1      2016  mental health survey for 2016\n",
       "2      2017  mental health survey for 2017\n",
       "3      2018  mental health survey for 2018\n",
       "4      2019  mental health survey for 2019"
      ]
     },
     "execution_count": 6,
     "metadata": {},
     "output_type": "execute_result"
    }
   ],
   "source": [
    "ds_survey = pd.read_sql(\"SELECT * FROM Survey;\", db_engine)\n",
    "ds_survey"
   ]
  },
  {
   "cell_type": "markdown",
   "id": "ca1c3211",
   "metadata": {},
   "source": [
    "- Table '`Question`' contains text of all questions:"
   ]
  },
  {
   "cell_type": "code",
   "execution_count": 7,
   "id": "e750c56b",
   "metadata": {},
   "outputs": [
    {
     "data": {
      "text/html": [
       "<div>\n",
       "<style scoped>\n",
       "    .dataframe tbody tr th:only-of-type {\n",
       "        vertical-align: middle;\n",
       "    }\n",
       "\n",
       "    .dataframe tbody tr th {\n",
       "        vertical-align: top;\n",
       "    }\n",
       "\n",
       "    .dataframe thead th {\n",
       "        text-align: right;\n",
       "    }\n",
       "</style>\n",
       "<table border=\"1\" class=\"dataframe\">\n",
       "  <thead>\n",
       "    <tr style=\"text-align: right;\">\n",
       "      <th></th>\n",
       "      <th>questiontext</th>\n",
       "      <th>questionid</th>\n",
       "    </tr>\n",
       "  </thead>\n",
       "  <tbody>\n",
       "    <tr>\n",
       "      <th>0</th>\n",
       "      <td>What is your age?</td>\n",
       "      <td>1</td>\n",
       "    </tr>\n",
       "    <tr>\n",
       "      <th>1</th>\n",
       "      <td>What is your gender?</td>\n",
       "      <td>2</td>\n",
       "    </tr>\n",
       "    <tr>\n",
       "      <th>2</th>\n",
       "      <td>What country do you live in?</td>\n",
       "      <td>3</td>\n",
       "    </tr>\n",
       "    <tr>\n",
       "      <th>3</th>\n",
       "      <td>If you live in the United States, which state or territory do you live in?</td>\n",
       "      <td>4</td>\n",
       "    </tr>\n",
       "    <tr>\n",
       "      <th>4</th>\n",
       "      <td>Are you self-employed?</td>\n",
       "      <td>5</td>\n",
       "    </tr>\n",
       "  </tbody>\n",
       "</table>\n",
       "</div>"
      ],
      "text/plain": [
       "                                                                 questiontext  \\\n",
       "0                                                           What is your age?   \n",
       "1                                                        What is your gender?   \n",
       "2                                                What country do you live in?   \n",
       "3  If you live in the United States, which state or territory do you live in?   \n",
       "4                                                      Are you self-employed?   \n",
       "\n",
       "   questionid  \n",
       "0           1  \n",
       "1           2  \n",
       "2           3  \n",
       "3           4  \n",
       "4           5  "
      ]
     },
     "execution_count": 7,
     "metadata": {},
     "output_type": "execute_result"
    }
   ],
   "source": [
    "ds_questions = pd.read_sql(\"SELECT * FROM Question;\", db_engine)\n",
    "ds_questions.head()"
   ]
  },
  {
   "cell_type": "code",
   "execution_count": 8,
   "id": "403be0b6",
   "metadata": {},
   "outputs": [
    {
     "data": {
      "text/html": [
       "<div>\n",
       "<style scoped>\n",
       "    .dataframe tbody tr th:only-of-type {\n",
       "        vertical-align: middle;\n",
       "    }\n",
       "\n",
       "    .dataframe tbody tr th {\n",
       "        vertical-align: top;\n",
       "    }\n",
       "\n",
       "    .dataframe thead th {\n",
       "        text-align: right;\n",
       "    }\n",
       "</style>\n",
       "<table border=\"1\" class=\"dataframe\">\n",
       "  <thead>\n",
       "    <tr style=\"text-align: right;\">\n",
       "      <th></th>\n",
       "      <th>n_rows</th>\n",
       "      <th>n_questions</th>\n",
       "      <th>question_id_min</th>\n",
       "      <th>question_id_max</th>\n",
       "    </tr>\n",
       "  </thead>\n",
       "  <tbody>\n",
       "    <tr>\n",
       "      <th>0</th>\n",
       "      <td>105</td>\n",
       "      <td>105</td>\n",
       "      <td>1</td>\n",
       "      <td>118</td>\n",
       "    </tr>\n",
       "  </tbody>\n",
       "</table>\n",
       "</div>"
      ],
      "text/plain": [
       "   n_rows  n_questions  question_id_min  question_id_max\n",
       "0     105          105                1              118"
      ]
     },
     "execution_count": 8,
     "metadata": {},
     "output_type": "execute_result"
    }
   ],
   "source": [
    "pd.read_sql(\n",
    "    \"\"\"--sql\n",
    "    SELECT \n",
    "        COUNT(*) n_rows,\n",
    "        COUNT(DISTINCT questiontext) n_questions,\n",
    "        MIN(questionid) question_id_min,\n",
    "        MAX(questionid) question_id_max\n",
    "    FROM Question;\n",
    "\"\"\",\n",
    "    db_engine,\n",
    ")"
   ]
  },
  {
   "cell_type": "code",
   "execution_count": 9,
   "id": "602b3e4b",
   "metadata": {},
   "outputs": [
    {
     "data": {
      "text/plain": [
       "questiontext    0\n",
       "questionid      0\n",
       "dtype: int64"
      ]
     },
     "execution_count": 9,
     "metadata": {},
     "output_type": "execute_result"
    }
   ],
   "source": [
    "ds_questions.isnull().sum()"
   ]
  },
  {
   "cell_type": "code",
   "execution_count": 10,
   "id": "f137303c",
   "metadata": {},
   "outputs": [
    {
     "data": {
      "text/plain": [
       "{35, 36, 37, 38, 39, 40, 41, 42, 43, 44, 45, 46, 47}"
      ]
     },
     "execution_count": 10,
     "metadata": {},
     "output_type": "execute_result"
    }
   ],
   "source": [
    "# Missing IDs\n",
    "set(range(1, ds_questions.questionid.max() + 1)) - set(ds_questions.questionid)"
   ]
  },
  {
   "cell_type": "markdown",
   "id": "83290158",
   "metadata": {},
   "source": [
    "* Table '`Answer`' is the biggest one:"
   ]
  },
  {
   "cell_type": "code",
   "execution_count": 11,
   "id": "a065e10d",
   "metadata": {},
   "outputs": [
    {
     "data": {
      "text/html": [
       "<div>\n",
       "<style scoped>\n",
       "    .dataframe tbody tr th:only-of-type {\n",
       "        vertical-align: middle;\n",
       "    }\n",
       "\n",
       "    .dataframe tbody tr th {\n",
       "        vertical-align: top;\n",
       "    }\n",
       "\n",
       "    .dataframe thead th {\n",
       "        text-align: right;\n",
       "    }\n",
       "</style>\n",
       "<table border=\"1\" class=\"dataframe\">\n",
       "  <thead>\n",
       "    <tr style=\"text-align: right;\">\n",
       "      <th></th>\n",
       "      <th>n_rows__in_answers_tbl</th>\n",
       "    </tr>\n",
       "  </thead>\n",
       "  <tbody>\n",
       "    <tr>\n",
       "      <th>0</th>\n",
       "      <td>236898</td>\n",
       "    </tr>\n",
       "  </tbody>\n",
       "</table>\n",
       "</div>"
      ],
      "text/plain": [
       "   n_rows__in_answers_tbl\n",
       "0                  236898"
      ]
     },
     "execution_count": 11,
     "metadata": {},
     "output_type": "execute_result"
    }
   ],
   "source": [
    "pd.read_sql(\n",
    "    \"\"\"--sql\n",
    "    SELECT COUNT(*) n_rows__in_answers_tbl FROM Answer;\n",
    "    \"\"\",\n",
    "    db_engine,\n",
    ")"
   ]
  },
  {
   "cell_type": "code",
   "execution_count": 12,
   "id": "d591d873",
   "metadata": {},
   "outputs": [
    {
     "data": {
      "text/html": [
       "<div>\n",
       "<style scoped>\n",
       "    .dataframe tbody tr th:only-of-type {\n",
       "        vertical-align: middle;\n",
       "    }\n",
       "\n",
       "    .dataframe tbody tr th {\n",
       "        vertical-align: top;\n",
       "    }\n",
       "\n",
       "    .dataframe thead th {\n",
       "        text-align: right;\n",
       "    }\n",
       "</style>\n",
       "<table border=\"1\" class=\"dataframe\">\n",
       "  <thead>\n",
       "    <tr style=\"text-align: right;\">\n",
       "      <th></th>\n",
       "      <th>AnswerText</th>\n",
       "      <th>SurveyID</th>\n",
       "      <th>UserID</th>\n",
       "      <th>QuestionID</th>\n",
       "    </tr>\n",
       "  </thead>\n",
       "  <tbody>\n",
       "    <tr>\n",
       "      <th>0</th>\n",
       "      <td>37</td>\n",
       "      <td>2014</td>\n",
       "      <td>1</td>\n",
       "      <td>1</td>\n",
       "    </tr>\n",
       "    <tr>\n",
       "      <th>1</th>\n",
       "      <td>44</td>\n",
       "      <td>2014</td>\n",
       "      <td>2</td>\n",
       "      <td>1</td>\n",
       "    </tr>\n",
       "    <tr>\n",
       "      <th>2</th>\n",
       "      <td>32</td>\n",
       "      <td>2014</td>\n",
       "      <td>3</td>\n",
       "      <td>1</td>\n",
       "    </tr>\n",
       "    <tr>\n",
       "      <th>3</th>\n",
       "      <td>31</td>\n",
       "      <td>2014</td>\n",
       "      <td>4</td>\n",
       "      <td>1</td>\n",
       "    </tr>\n",
       "    <tr>\n",
       "      <th>4</th>\n",
       "      <td>31</td>\n",
       "      <td>2014</td>\n",
       "      <td>5</td>\n",
       "      <td>1</td>\n",
       "    </tr>\n",
       "  </tbody>\n",
       "</table>\n",
       "</div>"
      ],
      "text/plain": [
       "  AnswerText  SurveyID  UserID  QuestionID\n",
       "0         37      2014       1           1\n",
       "1         44      2014       2           1\n",
       "2         32      2014       3           1\n",
       "3         31      2014       4           1\n",
       "4         31      2014       5           1"
      ]
     },
     "execution_count": 12,
     "metadata": {},
     "output_type": "execute_result"
    }
   ],
   "source": [
    "ds_answer = pd.read_sql(\"SELECT * FROM Answer;\", db_engine)\n",
    "ds_answer.head()"
   ]
  },
  {
   "cell_type": "code",
   "execution_count": 13,
   "id": "b24b1082",
   "metadata": {},
   "outputs": [
    {
     "data": {
      "text/plain": [
       "AnswerText    0\n",
       "SurveyID      0\n",
       "UserID        0\n",
       "QuestionID    0\n",
       "dtype: int64"
      ]
     },
     "execution_count": 13,
     "metadata": {},
     "output_type": "execute_result"
    }
   ],
   "source": [
    "ds_answer.isnull().sum()"
   ]
  },
  {
   "cell_type": "code",
   "execution_count": 14,
   "id": "ab200184",
   "metadata": {},
   "outputs": [
    {
     "data": {
      "text/html": [
       "<div>\n",
       "<style scoped>\n",
       "    .dataframe tbody tr th:only-of-type {\n",
       "        vertical-align: middle;\n",
       "    }\n",
       "\n",
       "    .dataframe tbody tr th {\n",
       "        vertical-align: top;\n",
       "    }\n",
       "\n",
       "    .dataframe thead th {\n",
       "        text-align: right;\n",
       "    }\n",
       "</style>\n",
       "<table border=\"1\" class=\"dataframe\">\n",
       "  <thead>\n",
       "    <tr style=\"text-align: right;\">\n",
       "      <th></th>\n",
       "      <th>AnswerText</th>\n",
       "      <th>SurveyID</th>\n",
       "      <th>UserID</th>\n",
       "      <th>QuestionID</th>\n",
       "    </tr>\n",
       "  </thead>\n",
       "  <tbody>\n",
       "    <tr>\n",
       "      <th>min</th>\n",
       "      <td>\\n</td>\n",
       "      <td>2014</td>\n",
       "      <td>1</td>\n",
       "      <td>1</td>\n",
       "    </tr>\n",
       "    <tr>\n",
       "      <th>max</th>\n",
       "      <td>¯\\(°_o)/¯</td>\n",
       "      <td>2019</td>\n",
       "      <td>4218</td>\n",
       "      <td>118</td>\n",
       "    </tr>\n",
       "    <tr>\n",
       "      <th>nunique</th>\n",
       "      <td>4215</td>\n",
       "      <td>5</td>\n",
       "      <td>4218</td>\n",
       "      <td>105</td>\n",
       "    </tr>\n",
       "  </tbody>\n",
       "</table>\n",
       "</div>"
      ],
      "text/plain": [
       "        AnswerText  SurveyID  UserID  QuestionID\n",
       "min             \\n      2014       1           1\n",
       "max      ¯\\(°_o)/¯      2019    4218         118\n",
       "nunique       4215         5    4218         105"
      ]
     },
     "execution_count": 14,
     "metadata": {},
     "output_type": "execute_result"
    }
   ],
   "source": [
    "ds_answer.agg([\"min\", \"max\", \"nunique\"])"
   ]
  },
  {
   "cell_type": "markdown",
   "id": "839634e1",
   "metadata": {},
   "source": [
    "***"
   ]
  },
  {
   "cell_type": "markdown",
   "id": "ef625635",
   "metadata": {},
   "source": [
    "### Investigation of Questionnaires"
   ]
  },
  {
   "cell_type": "markdown",
   "id": "0bcf1b12",
   "metadata": {},
   "source": [
    "In this subsection we will try to answer to the following questions:\n",
    "- **Are the number of questions in each survey the same?**\n",
    "- **Are there any questions common for all surveys? Which ones?**"
   ]
  },
  {
   "cell_type": "code",
   "execution_count": 15,
   "id": "bf20f67c",
   "metadata": {},
   "outputs": [
    {
     "name": "stdout",
     "output_type": "stream",
     "text": [
      "Bottom rows of reshaped dataset:\n",
      "\n",
      "year       2014  2016 2017 2018 2019\n",
      "QuestionID                          \n",
      "114         NaN  True  NaN  NaN  NaN\n",
      "115         NaN  True  NaN  NaN  NaN\n",
      "116         NaN  True  NaN  NaN  NaN\n",
      "117         NaN  True  NaN  NaN  NaN\n",
      "118         NaN  True  NaN  NaN  NaN\n"
     ]
    },
    {
     "data": {
      "image/png": "[encoded data removed]",
      "text/plain": [
       "<Figure size 800x400 with 1 Axes>"
      ]
     },
     "metadata": {},
     "output_type": "display_data"
    }
   ],
   "source": [
    "incl_questions = pd.read_sql(\n",
    "    \"\"\"--sql\n",
    "    SELECT DISTINCT SurveyID year, QuestionID, 'True' response \n",
    "    FROM Answer;\n",
    "    \"\"\",\n",
    "    db_engine,\n",
    ")\n",
    "\n",
    "incl_questions_by_year = incl_questions.pivot_table(\n",
    "    index=\"QuestionID\",\n",
    "    columns=\"year\",\n",
    "    values=\"response\",\n",
    "    aggfunc=\"first\",\n",
    ")\n",
    "\n",
    "# Preview reshaped dataset\n",
    "print(\"Bottom rows of reshaped dataset:\\n\")\n",
    "print(incl_questions_by_year.tail())\n",
    "\n",
    "# Plot missing values\n",
    "ax = msno.matrix(incl_questions_by_year, sparkline=False, figsize=(8, 4))\n",
    "ax.set_xlabel(\"Year\")\n",
    "ax.set_ylabel(\"Index of Row with Question\")\n",
    "ax.set_title(\"Questions Included in the Surveys \\nby Year\", fontsize=20);"
   ]
  },
  {
   "cell_type": "markdown",
   "id": "9500b3f2",
   "metadata": {},
   "source": [
    "Each row represents a unique question: if in the plot, the row is represented by dark square then the question is included while rectangles represent question that are not present in particular survey.\n",
    "\n",
    "It seems that 2017, 2018, and 2019 year surveys use the same questionnaires and around a half of the questions of these surveys overlap with questions with 2016 year survey.\n",
    "\n",
    "There are 12 questions common for all surveys, and there 31 more questions that are common for 2016-2019 year surveys.\n",
    "\n"
   ]
  },
  {
   "cell_type": "code",
   "execution_count": 16,
   "id": "b032bd70",
   "metadata": {},
   "outputs": [
    {
     "name": "stdout",
     "output_type": "stream",
     "text": [
      "N common questions for all the surveys: 12\n",
      "IDs of these questions:\n"
     ]
    },
    {
     "data": {
      "text/plain": [
       "[1, 2, 3, 4, 5, 6, 7, 8, 9, 10, 11, 12]"
      ]
     },
     "execution_count": 16,
     "metadata": {},
     "output_type": "execute_result"
    }
   ],
   "source": [
    "# -- IDs of questions common for all the surveys\n",
    "def get_all_true_rows(data):\n",
    "    is_all_true = (~data.isnull()).all(axis=1)\n",
    "    return [i for i in data[is_all_true].index]\n",
    "\n",
    "\n",
    "common_question_id = get_all_true_rows(incl_questions_by_year)\n",
    "print(f\"N common questions for all the surveys: {len(common_question_id)}\")\n",
    "print(\"IDs of these questions:\")\n",
    "common_question_id"
   ]
  },
  {
   "cell_type": "markdown",
   "id": "b7455a88",
   "metadata": {},
   "source": [
    "Additionally, questions that are common for 2016-2019 surveys (excluding the questions listed above):"
   ]
  },
  {
   "cell_type": "code",
   "execution_count": 17,
   "id": "d67f1590",
   "metadata": {},
   "outputs": [
    {
     "name": "stdout",
     "output_type": "stream",
     "text": [
      "N common questions just for 2016-2019 surveys: 31\n",
      "IDs of these questions:\n",
      "[13, 14, 15, 16, 17, 18, 19, 20, 21, 22, 23, 24, 25, 26, 27, 28, 29, 30, 31, 32]\n",
      "[33, 34, 48, 49, 50, 51, 52, 53, 54, 55, 56]\n"
     ]
    }
   ],
   "source": [
    "# -- IDs of questions common just for 2016-2019 surveys\n",
    "\n",
    "common_question_id_2 = get_all_true_rows(\n",
    "    incl_questions_by_year.drop(2014, axis=1)\n",
    ")\n",
    "q_id = list(set(common_question_id_2) - set(common_question_id))\n",
    "\n",
    "print(f\"N common questions just for 2016-2019 surveys: {len(q_id)}\")\n",
    "print(\"IDs of these questions:\")\n",
    "print(q_id[:20])\n",
    "print(q_id[20:])"
   ]
  },
  {
   "cell_type": "markdown",
   "id": "1d1c1a3d",
   "metadata": {},
   "source": [
    "If needed, you can find these questions listed in Supplement B  \n",
    "(file `supplement-b--commn-questions.ipynb`)"
   ]
  },
  {
   "cell_type": "markdown",
   "id": "7a670e51",
   "metadata": {},
   "source": [
    "***"
   ]
  },
  {
   "cell_type": "markdown",
   "id": "64900751",
   "metadata": {},
   "source": [
    "## Exploratory Data Analysis"
   ]
  },
  {
   "cell_type": "markdown",
   "id": "7fc31b10",
   "metadata": {},
   "source": [
    "Due to large number of questions, it was decided to concentrate mainly on the subset of questions which are common either to all surveys or to all surveys except from the first one (year 2014). More concretely, these topics will be the focus of this analysis:\n",
    "\n",
    "1) Activity of respondents to participate in each survey.\n",
    "2) Profile of typical respondent, who participated in the survey.\n",
    "3) Mental health and productivity.\n",
    "4) Factors related to MHD treatment seeking.\n",
    "\n",
    "Before delving into analysis, data must get prepared. So let's begin with pre-processing.\n",
    "\n"
   ]
  },
  {
   "cell_type": "markdown",
   "id": "aff71dd7",
   "metadata": {},
   "source": [
    "> **NOTE:** In my opinion, sections \"Mental Health and Productivity\" and \"Factors Related to MHD Treatment Seeking\" are the most important, so spend enough time exploring these.\n",
    ">"
   ]
  },
  {
   "cell_type": "markdown",
   "id": "894b84da",
   "metadata": {},
   "source": [
    "### Data Pre-Processing"
   ]
  },
  {
   "cell_type": "markdown",
   "id": "e775ac94",
   "metadata": {},
   "source": [
    "Most of data pre-processing steps are presented in this section.\n",
    "But some are in the other subsections of data analysis if this looked more convenient.\n",
    "\n",
    "A frequent pre-processing steps:\n",
    "\n",
    "- `-1` represents missing value so it is recoded into one.\n",
    "- in \"Yes/No\" questions, `0` recoded into `No`, and `1` into `Yes`."
   ]
  },
  {
   "cell_type": "markdown",
   "id": "14e31288",
   "metadata": {},
   "source": [
    "**Age.**\n",
    "In the dataset, there are negative as well as extremely large (>300) age values.\n",
    "It was decided, to include values between 18 and 80 years old:"
   ]
  },
  {
   "cell_type": "code",
   "execution_count": 18,
   "id": "81b82ae0",
   "metadata": {},
   "outputs": [
    {
     "data": {
      "text/html": [
       "<div>\n",
       "<style scoped>\n",
       "    .dataframe tbody tr th:only-of-type {\n",
       "        vertical-align: middle;\n",
       "    }\n",
       "\n",
       "    .dataframe tbody tr th {\n",
       "        vertical-align: top;\n",
       "    }\n",
       "\n",
       "    .dataframe thead th {\n",
       "        text-align: right;\n",
       "    }\n",
       "</style>\n",
       "<table border=\"1\" class=\"dataframe\">\n",
       "  <thead>\n",
       "    <tr style=\"text-align: right;\">\n",
       "      <th></th>\n",
       "      <th>count</th>\n",
       "      <th>mean</th>\n",
       "      <th>std</th>\n",
       "      <th>min</th>\n",
       "      <th>25%</th>\n",
       "      <th>50%</th>\n",
       "      <th>75%</th>\n",
       "      <th>max</th>\n",
       "    </tr>\n",
       "  </thead>\n",
       "  <tbody>\n",
       "    <tr>\n",
       "      <th>age</th>\n",
       "      <td>4218.0</td>\n",
       "      <td>33.915363</td>\n",
       "      <td>10.478054</td>\n",
       "      <td>-29.0</td>\n",
       "      <td>28.0</td>\n",
       "      <td>33.0</td>\n",
       "      <td>38.0</td>\n",
       "      <td>329.0</td>\n",
       "    </tr>\n",
       "  </tbody>\n",
       "</table>\n",
       "</div>"
      ],
      "text/plain": [
       "      count       mean        std   min   25%   50%   75%    max\n",
       "age  4218.0  33.915363  10.478054 -29.0  28.0  33.0  38.0  329.0"
      ]
     },
     "execution_count": 18,
     "metadata": {},
     "output_type": "execute_result"
    }
   ],
   "source": [
    "# Age: all_values\n",
    "v_age = pd.read_sql(\n",
    "    \"\"\"--sql\n",
    "    SELECT UserID user_id, CAST(AnswerText AS INT) AS age\n",
    "    FROM Answer \n",
    "    WHERE QuestionID = 1;\n",
    "    \"\"\",\n",
    "    db_engine,\n",
    ")\n",
    "\n",
    "v_age.drop(\"user_id\", axis=1).describe().T"
   ]
  },
  {
   "cell_type": "code",
   "execution_count": 19,
   "id": "29f8c664",
   "metadata": {},
   "outputs": [
    {
     "name": "stdout",
     "output_type": "stream",
     "text": [
      "Extreme values:\n"
     ]
    },
    {
     "data": {
      "text/html": [
       "<div>\n",
       "<style scoped>\n",
       "    .dataframe tbody tr th:only-of-type {\n",
       "        vertical-align: middle;\n",
       "    }\n",
       "\n",
       "    .dataframe tbody tr th {\n",
       "        vertical-align: top;\n",
       "    }\n",
       "\n",
       "    .dataframe thead th {\n",
       "        text-align: right;\n",
       "    }\n",
       "</style>\n",
       "<table border=\"1\" class=\"dataframe\">\n",
       "  <thead>\n",
       "    <tr style=\"text-align: right;\">\n",
       "      <th></th>\n",
       "      <th>0</th>\n",
       "      <th>1</th>\n",
       "      <th>2</th>\n",
       "      <th>3</th>\n",
       "      <th>4</th>\n",
       "      <th>5</th>\n",
       "      <th>6</th>\n",
       "      <th>7</th>\n",
       "      <th>8</th>\n",
       "      <th>9</th>\n",
       "      <th>10</th>\n",
       "      <th>11</th>\n",
       "      <th>12</th>\n",
       "      <th>13</th>\n",
       "      <th>14</th>\n",
       "      <th>15</th>\n",
       "      <th>16</th>\n",
       "      <th>17</th>\n",
       "      <th>18</th>\n",
       "    </tr>\n",
       "  </thead>\n",
       "  <tbody>\n",
       "    <tr>\n",
       "      <th>age_value</th>\n",
       "      <td>-29</td>\n",
       "      <td>-1</td>\n",
       "      <td>0</td>\n",
       "      <td>3</td>\n",
       "      <td>5</td>\n",
       "      <td>8</td>\n",
       "      <td>11</td>\n",
       "      <td>15</td>\n",
       "      <td>17</td>\n",
       "      <td>18</td>\n",
       "      <td>19</td>\n",
       "      <td>66</td>\n",
       "      <td>67</td>\n",
       "      <td>70</td>\n",
       "      <td>72</td>\n",
       "      <td>74</td>\n",
       "      <td>99</td>\n",
       "      <td>323</td>\n",
       "      <td>329</td>\n",
       "    </tr>\n",
       "    <tr>\n",
       "      <th>count</th>\n",
       "      <td>1</td>\n",
       "      <td>5</td>\n",
       "      <td>1</td>\n",
       "      <td>1</td>\n",
       "      <td>1</td>\n",
       "      <td>1</td>\n",
       "      <td>1</td>\n",
       "      <td>1</td>\n",
       "      <td>1</td>\n",
       "      <td>9</td>\n",
       "      <td>20</td>\n",
       "      <td>2</td>\n",
       "      <td>2</td>\n",
       "      <td>1</td>\n",
       "      <td>1</td>\n",
       "      <td>1</td>\n",
       "      <td>1</td>\n",
       "      <td>1</td>\n",
       "      <td>1</td>\n",
       "    </tr>\n",
       "  </tbody>\n",
       "</table>\n",
       "</div>"
      ],
      "text/plain": [
       "           0   1   2   3   4   5   6   7   8   9   10  11  12  13  14  15  16  \\\n",
       "age_value -29  -1   0   3   5   8  11  15  17  18  19  66  67  70  72  74  99   \n",
       "count       1   5   1   1   1   1   1   1   1   9  20   2   2   1   1   1   1   \n",
       "\n",
       "            17   18  \n",
       "age_value  323  329  \n",
       "count        1    1  "
      ]
     },
     "execution_count": 19,
     "metadata": {},
     "output_type": "execute_result"
    }
   ],
   "source": [
    "# -- Extreme values of age\n",
    "print(\"Extreme values:\")\n",
    "pd.read_sql(\n",
    "    \"\"\"--sql\n",
    "    WITH q1_int AS (\n",
    "        SELECT CAST(AnswerText AS INT) age_value\n",
    "        FROM Answer\n",
    "        WHERE QuestionID = 1\n",
    "    )\n",
    "    \n",
    "    SELECT age_value, COUNT(age_value) count\n",
    "    FROM q1_int \n",
    "    WHERE age_value NOT BETWEEN 20 AND 65\n",
    "    GROUP BY age_value\n",
    "    ORDER BY age_value;\n",
    "    \"\"\",\n",
    "    db_engine,\n",
    ").T"
   ]
  },
  {
   "cell_type": "code",
   "execution_count": 20,
   "id": "49f4e3e2",
   "metadata": {},
   "outputs": [
    {
     "data": {
      "text/plain": [
       "[Text(0.5, 1.0, 'Age Distribution (Raw Data)')]"
      ]
     },
     "execution_count": 20,
     "metadata": {},
     "output_type": "execute_result"
    },
    {
     "data": {
      "image/png": "[encoded data removed]",
      "text/plain": [
       "<Figure size 800x300 with 1 Axes>"
      ]
     },
     "metadata": {},
     "output_type": "display_data"
    }
   ],
   "source": [
    "plt.figure(figsize=(8, 3))\n",
    "sns.boxplot(x=\"age\", data=v_age).set(title=\"Age Distribution (Raw Data)\")"
   ]
  },
  {
   "cell_type": "code",
   "execution_count": 21,
   "id": "7e6ceb40",
   "metadata": {},
   "outputs": [],
   "source": [
    "# -- Filter out age of interest (18-80 y.o.)\n",
    "q_age = pd.read_sql(\n",
    "    \"\"\"--sql\n",
    "    WITH q1_int AS (\n",
    "        SELECT UserID user_id, CAST(AnswerText AS INT) age\n",
    "        FROM Answer \n",
    "        WHERE QuestionID = 1\n",
    "    )\n",
    "    SELECT\n",
    "        user_id, \n",
    "        -- Age\n",
    "        CASE \n",
    "            WHEN age BETWEEN 18 and 80 THEN age\n",
    "            ELSE NULL\n",
    "        END AS age,\n",
    "        -- Age group: every ~5 year\n",
    "        CASE\n",
    "            WHEN age >= 18 AND age < 26 THEN \"18-25\"\n",
    "            WHEN age >= 26 AND age < 31 THEN \"26-30\"\n",
    "            WHEN age >= 31 AND age < 36 THEN \"31-35\"\n",
    "            WHEN age >= 36 AND age < 41 THEN \"36-40\"\n",
    "            WHEN age >= 41 AND age < 46 THEN \"41-45\"\n",
    "            WHEN age >= 46 AND age < 51 THEN \"46-50\"\n",
    "            WHEN age >= 51 AND age < 56 THEN \"51-55\"\n",
    "            WHEN age >= 56 AND age < 61 THEN \"56-60\"\n",
    "            WHEN age >= 61 AND age < 66 THEN \"61-65\"\n",
    "            WHEN age >= 66 AND age < 71 THEN \"66-70\"\n",
    "            WHEN age >= 71 AND age < 76 THEN \"71-75\"\n",
    "            ELSE NULL\n",
    "        END AS age_group,\n",
    "        -- Age group: 3 categories,\n",
    "        CASE\n",
    "            WHEN age >= 18 AND age < 36 THEN \"18-35\"\n",
    "            WHEN age >= 36 AND age < 76 THEN \"36-75\"\n",
    "            ELSE NULL\n",
    "        END AS age_group_2\n",
    "    FROM q1_int\n",
    "    \"\"\",\n",
    "    db_engine,\n",
    ")"
   ]
  },
  {
   "cell_type": "markdown",
   "id": "77562dae",
   "metadata": {},
   "source": [
    "**Gender.** \n",
    "In the dataset, there were many various values to describe gender. For pre-processing, all values were lowercased, them words \"female\" and \"femmina\" were treated as \"female\", words \"male\", \"cishet male\", \"masculine\", and \"masculino\" as \"male\". All remaining were assigned to category \"Other/Unknown\"."
   ]
  },
  {
   "cell_type": "code",
   "execution_count": 22,
   "id": "c89c402b",
   "metadata": {},
   "outputs": [],
   "source": [
    "# Gender\n",
    "q_gender = pd.read_sql(\n",
    "    \"\"\"--sql\n",
    "    WITH gender_lower AS (\n",
    "        SELECT UserID user_id, LOWER(AnswerText) gender_answer, SurveyID year\n",
    "        FROM Answer\n",
    "        WHERE QuestionID = 2\n",
    "    )\n",
    "        \n",
    "    SELECT \n",
    "        user_id,\n",
    "        year,\n",
    "        -- Pre-process gender values. \n",
    "        -- If needed, use original values from \"gender_answer\" for checking\n",
    "        (CASE \n",
    "            -- female options\n",
    "            WHEN gender_answer LIKE \"female\"  OR\n",
    "                 gender_answer LIKE \"femmina\"    \n",
    "            THEN \"Female\"\n",
    "            -- male options\n",
    "            WHEN gender_answer LIKE \"male\"        OR\n",
    "                 gender_answer LIKE \"masculine\"   OR\n",
    "                 gender_answer LIKE \"masculino\"   OR\n",
    "                 gender_answer LIKE \"cishet male\" \n",
    "            THEN \"Male\"\n",
    "            -- other\n",
    "            ELSE \"Other/Unknown\"\n",
    "        END) AS gender\n",
    "    FROM gender_lower;\n",
    "\"\"\",\n",
    "    db_engine,\n",
    ")"
   ]
  },
  {
   "cell_type": "markdown",
   "id": "2b733bd9",
   "metadata": {},
   "source": [
    "**Country of residence and region.** \n",
    "Country names were recoded in the following way:\n",
    "\n",
    "- 'United States' and 'United States of America' were merged into 'USA'\n",
    "- 'United Kingdom' shortened to 'UK'\n",
    "- Values `-1` were treated as missing values.\n",
    "\n",
    "Additional variables were created too:\n",
    "\n",
    "- `country_major_ctb` (countries that are major contributors to survey), in this variable, least frequently occurring countries were merged into \"Other\"\n",
    "- `region`, were countries were classified into regions like North America, Asia or Europe."
   ]
  },
  {
   "cell_type": "code",
   "execution_count": 23,
   "id": "d8a51817",
   "metadata": {},
   "outputs": [],
   "source": [
    "# -- Country of residence\n",
    "q_country_live = pd.read_sql(\n",
    "    \"\"\"--sql\n",
    "    -- Use unified or shorter country names\n",
    "    WITH countries_recoded AS (\n",
    "        SELECT \n",
    "            UserID user_id,\n",
    "            CASE \n",
    "                WHEN AnswerText IN ('United States', 'United States of America') \n",
    "                THEN 'USA'\n",
    "                WHEN AnswerText IN ('United Kingdom')\n",
    "                THEN 'UK'\n",
    "                WHEN AnswerText IN (-1 , 'Unknown') OR AnswerText IS NULL\n",
    "                THEN NULL\n",
    "                ELSE AnswerText\n",
    "            END AS country\n",
    "        FROM answer\n",
    "        WHERE QuestionID = 3\n",
    "    ),\n",
    "    -- Filter out countries itch contributed least\n",
    "    major_contributor AS (\n",
    "        SELECT country, COUNT(country) count\n",
    "        FROM countries_recoded\n",
    "        GROUP BY country\n",
    "        HAVING COUNT(country) >= 50\n",
    "        ORDER BY count DESC\n",
    "    )\n",
    "    \n",
    "    SELECT\n",
    "        user_id,\n",
    "        country,\n",
    "        -- Only most contributing countries\n",
    "        CASE \n",
    "            WHEN country IN (SELECT country from major_contributor) THEN country\n",
    "            WHEN country IN (-1, 'Unknown') OR country IS NULL THEN NULL\n",
    "            ELSE 'Other'\n",
    "        END AS country_major_ctb,\n",
    "        -- Region\n",
    "        CASE\n",
    "            WHEN country IN (\n",
    "                 \"Algeria\", \"Ethiopia\", \"Ghana\", \"Nigeria\", \"Kenya\",\n",
    "                 \"South Africa\", \"Mauritius\", \"Zimbabwe\") \n",
    "            THEN 'Africa'\n",
    "\n",
    "            WHEN country IN (\"Australia\", \"New Zealand\") \n",
    "            THEN 'Australasia'\n",
    " \n",
    "            WHEN country IN (\n",
    "                \"China\", \"Georgia\", \"India\", \"Israel\", \"Japan\", \n",
    "                \"Philippines\", \"Singapore\", \"Thailand\", \"Pakistan\",\n",
    "                \"Turkey\", \"Iran\", \"Afghanistan\", \"Indonesia\", \n",
    "                \"Bangladesh\", \"Hong Kong\", \"Saudi Arabia\", \"Jordan\",\n",
    "                \"Brunei\", \"Taiwan\", \"Vietnam\") \n",
    "            THEN 'Asia'\n",
    "            \n",
    "            WHEN country IN (\n",
    "                \"Austria\", \"Belgium\", \"Bosnia and Herzegovina\", \"Bulgaria\", \n",
    "                \"Croatia\",  \"Czech Republic\", \"Denmark\", \"Finland\", \"France\",\n",
    "                \"Germany\", \"Greece\", \"Hungary\", \"Ireland\", \"Italy\", \"Latvia\",\n",
    "                \"Lithuania\", \"Moldova\", \"Serbia\", \"Ukraine\", \"Belarus\", \n",
    "                \"Netherlands\", \"Slovakia\", \"Estonia\", \"Iceland\", \"Macedonia\",\n",
    "                \"Norway\", \"Poland\", \"Portugal\", \"Romania\", \"Slovenia\", \n",
    "                \"Spain\", \"Sweden\", \"Switzerland\", \"UK\", --Europe\n",
    "                \"Russia\")  -- Both Asia and Europe\n",
    "            THEN 'Europe'\n",
    "\n",
    "            WHEN country IN (\"USA\", \"Canada\", \"Bahamas, The\") \n",
    "            THEN 'North America'\n",
    "            \n",
    "            WHEN country IN (\n",
    "                \"Mexico\", \"Brazil\", \"Costa Rica\", \"Colombia\", \"Uruguay\", \n",
    "                \"Guatemala\", \"Ecuador\", \"Argentina\", \"Chile\", \"Venezuela\")\n",
    "            THEN 'Latin America'\n",
    "            \n",
    "            WHEN country IN  ('Other', 'Unknown')\n",
    "            THEN NULL\n",
    "            \n",
    "            ELSE country\n",
    "        END AS region\n",
    "        \n",
    "    FROM countries_recoded;\n",
    "    \"\"\",\n",
    "    db_engine,\n",
    ")"
   ]
  },
  {
   "cell_type": "markdown",
   "id": "117a1f97",
   "metadata": {},
   "source": [
    "**Other variables** of interest were also prepared for analysis. \n",
    "In some cases similar values were merged into a single category.\n",
    "But usually values were recoded into human-readable form (like \"Yes\", \"No\", etc.) and converted to categorical variables to keep order of categories constant. \n",
    "Some values were pre-pended with letters (A, B, etc.) to be sorted in alphabetical order."
   ]
  },
  {
   "cell_type": "code",
   "execution_count": 24,
   "id": "e3d25526",
   "metadata": {},
   "outputs": [],
   "source": [
    "# -- Mental heath\n",
    "q_have_mhd = pd.read_sql(\n",
    "    \"\"\"--sql\n",
    "    SELECT\n",
    "        UserID user_id, \n",
    "        CASE \n",
    "            -- \"Maybe\", \"Possibly\", \"Don't Know\" looks like the same state\n",
    "            -- of uncertainty about diagnosis\n",
    "            WHEN AnswerText IN (\"Maybe\", \"Possibly\", \"Don't Know\")\n",
    "            THEN \"Don't know\"\n",
    "            WHEN AnswerText = -1 \n",
    "            THEN NULL\n",
    "            ELSE AnswerText\n",
    "        END AS have_mhd\n",
    "    FROM Answer \n",
    "    WHERE QuestionID = 33;\n",
    "    \"\"\",\n",
    "    db_engine,\n",
    ")\n",
    "q_have_mhd.have_mhd = as_cat__yes_no_dk(q_have_mhd.have_mhd)\n",
    "\n",
    "q_ever_diagnosed_mhd = pd.read_sql(\n",
    "    \"\"\"--sql\n",
    "    SELECT\n",
    "        UserID user_id, \n",
    "        CASE \n",
    "            WHEN AnswerText = -1 THEN NULL\n",
    "            ELSE AnswerText\n",
    "        END AS ever_diagnosed_mhd\n",
    "    FROM Answer \n",
    "    WHERE QuestionID = 34;\n",
    "    \"\"\",\n",
    "    db_engine,\n",
    ")\n",
    "q_ever_diagnosed_mhd.ever_diagnosed_mhd = as_cat__yes_no(\n",
    "    q_ever_diagnosed_mhd.ever_diagnosed_mhd\n",
    ")\n",
    "\n",
    "q_sought_professional_treatment = pd.read_sql(\n",
    "    \"\"\"--sql\n",
    "    SELECT\n",
    "        UserID user_id, \n",
    "        CASE \n",
    "            WHEN AnswerText = 0 THEN 'No'\n",
    "            WHEN AnswerText = 1 THEN 'Yes'\n",
    "            WHEN AnswerText = -1 THEN NULL\n",
    "            ELSE AnswerText\n",
    "        END AS ever_sought_prof_mhd_treatment\n",
    "    FROM Answer \n",
    "    WHERE QuestionID = 7;\n",
    "    \"\"\",\n",
    "    db_engine,\n",
    ")\n",
    "q_sought_professional_treatment.ever_sought_prof_mhd_treatment = as_cat__yes_no(\n",
    "    q_sought_professional_treatment.ever_sought_prof_mhd_treatment\n",
    ")"
   ]
  },
  {
   "cell_type": "code",
   "execution_count": 25,
   "id": "594b3cdb",
   "metadata": {},
   "outputs": [],
   "source": [
    "# -- Company related\n",
    "q_self_employed = pd.read_sql(\n",
    "    \"\"\"--sql\n",
    "    SELECT\n",
    "        UserID user_id,\n",
    "        CASE \n",
    "            WHEN AnswerText = 0 THEN 'No'\n",
    "            WHEN AnswerText = 1 THEN 'Yes'\n",
    "            WHEN AnswerText = -1 THEN NULL\n",
    "            ELSE AnswerText\n",
    "        END AS self_employed\n",
    "    FROM Answer \n",
    "    WHERE QuestionID = 5;\n",
    "    \"\"\",\n",
    "    db_engine,\n",
    ")\n",
    "q_self_employed.self_employed = as_cat__yes_no(q_self_employed.self_employed)\n",
    "\n",
    "q_company_size = pd.read_sql(\n",
    "    \"\"\"--sql\n",
    "    SELECT\n",
    "        UserID user_id,\n",
    "        -- Company size: 6 categories\n",
    "        CASE\n",
    "            WHEN AnswerText = '1-5' THEN 'A. 1-5'\n",
    "            WHEN AnswerText = '6-25' THEN 'B. 6-25'\n",
    "            WHEN AnswerText = '26-100' THEN 'C. 26-100'\n",
    "            WHEN AnswerText = '100-500' THEN 'D. 100-500'\n",
    "            WHEN AnswerText = '500-1000' THEN 'E. 500-1000'\n",
    "            WHEN AnswerText = 'More than 1000' THEN 'F. More than 1000'\n",
    "            WHEN AnswerText = -1 THEN NULL\n",
    "            ELSE AnswerText\n",
    "        END AS company_size,\n",
    "        -- Company size: 3 categories\n",
    "        CASE\n",
    "            WHEN AnswerText IN ('1-5', '6-25', '26-100') THEN 'A. 1-100'\n",
    "            WHEN AnswerText IN ('100-500', '500-1000') THEN 'B. 100-1000'\n",
    "            WHEN AnswerText = 'More than 1000' THEN 'C. More than 1000'\n",
    "            WHEN AnswerText = -1 THEN NULL\n",
    "            ELSE AnswerText\n",
    "        END AS company_size_3\n",
    "    FROM Answer \n",
    "    WHERE QuestionID = 8;\n",
    "    \"\"\",\n",
    "    db_engine,\n",
    ")\n",
    "\n",
    "q_is_tech_org = pd.read_sql(\n",
    "    \"\"\"--sql\n",
    "    SELECT\n",
    "        UserID user_id,\n",
    "        CASE \n",
    "            WHEN AnswerText = 0 THEN 'No'\n",
    "            WHEN AnswerText = 1 THEN 'Yes'\n",
    "            WHEN AnswerText = -1 THEN NULL\n",
    "            ELSE AnswerText\n",
    "        END AS is_tech_org\n",
    "    FROM Answer \n",
    "    WHERE QuestionID = 9;\n",
    "    \"\"\",\n",
    "    db_engine,\n",
    ")\n",
    "q_is_tech_org.is_tech_org = as_cat__yes_no(q_is_tech_org.is_tech_org)\n",
    "\n",
    "q_is_tech_it_role = pd.read_sql(\n",
    "    \"\"\"--sql\n",
    "    SELECT\n",
    "        UserID user_id,\n",
    "        CASE \n",
    "            WHEN AnswerText = 0 THEN 'No'\n",
    "            WHEN AnswerText = 1 THEN 'Yes'\n",
    "            WHEN AnswerText = -1 THEN NULL\n",
    "            ELSE AnswerText\n",
    "        END AS is_tech_it_role\n",
    "    FROM Answer \n",
    "    WHERE QuestionID = 13;\n",
    "    \"\"\",\n",
    "    db_engine,\n",
    ")\n",
    "q_is_tech_it_role.is_tech_it_role = as_cat__yes_no(\n",
    "    q_is_tech_it_role.is_tech_it_role\n",
    ")"
   ]
  },
  {
   "cell_type": "code",
   "execution_count": 26,
   "id": "8572bcb1",
   "metadata": {},
   "outputs": [],
   "source": [
    "# -- Company mental healthcare resources\n",
    "q_employer_teach = pd.read_sql(\n",
    "    \"\"\"--sql\n",
    "    SELECT\n",
    "        UserID user_id, \n",
    "        CASE \n",
    "            WHEN AnswerText IN (\"I don't know\", \"Don't know\") THEN \"Don't know\"\n",
    "            WHEN AnswerText = -1 THEN NULL\n",
    "            ELSE AnswerText\n",
    "        END AS employer_teach\n",
    "    FROM Answer \n",
    "    WHERE QuestionID = 16;\n",
    "    \"\"\",\n",
    "    db_engine,\n",
    ")\n",
    "q_employer_teach.employer_teach = as_cat__yes_no_dk(\n",
    "    q_employer_teach.employer_teach\n",
    ")\n",
    "\n",
    "q_employer_mental_healthcare = pd.read_sql(\n",
    "    \"\"\"--sql\n",
    "    SELECT\n",
    "        UserID user_id, \n",
    "        CASE \n",
    "            WHEN AnswerText IN (\"I don't know\", \"Don't know\")\n",
    "            THEN \"Don't know\"\n",
    "            WHEN AnswerText IN (\"Not eligible for coverage / NA\")\n",
    "            THEN \"Not eligible for coverage\"\n",
    "            WHEN AnswerText = -1\n",
    "            THEN NULL\n",
    "            ELSE AnswerText\n",
    "        END AS employer_mental_healthcare\n",
    "    FROM Answer \n",
    "    WHERE QuestionID = 10;\n",
    "    \"\"\",\n",
    "    db_engine,\n",
    ")\n",
    "q_employer_mental_healthcare.employer_mental_healthcare = as_cat__yes_no_ne_dk(\n",
    "    q_employer_mental_healthcare.employer_mental_healthcare\n",
    ")\n",
    "\n",
    "q_anonym_protection_to_treat = pd.read_sql(\n",
    "    \"\"\"--sql\n",
    "    SELECT\n",
    "        UserID user_id, \n",
    "        CASE \n",
    "            WHEN AnswerText IN (\"I don't know\", \"Don't know\") THEN \"Don't know\"\n",
    "            WHEN AnswerText = -1 THEN NULL\n",
    "            ELSE AnswerText\n",
    "        END AS anonym_protection_to_treat\n",
    "    FROM Answer \n",
    "    WHERE QuestionID = 11;\n",
    "    \"\"\",\n",
    "    db_engine,\n",
    ")\n",
    "q_anonym_protection_to_treat.anonym_protection_to_treat = as_cat__yes_no_dk(\n",
    "    q_anonym_protection_to_treat.anonym_protection_to_treat\n",
    ")"
   ]
  },
  {
   "cell_type": "code",
   "execution_count": 27,
   "id": "ae547a63",
   "metadata": {},
   "outputs": [],
   "source": [
    "# -- Atmosphere for openness\n",
    "q_disclose_interview = pd.read_sql(\n",
    "    \"\"\"--sql\n",
    "    SELECT\n",
    "        UserID user_id, \n",
    "        CASE WHEN AnswerText = -1 THEN NULL \n",
    "             ELSE AnswerText\n",
    "         END AS disclose_in_interview\n",
    "    FROM Answer \n",
    "    WHERE QuestionID = 12;\n",
    "    \"\"\",\n",
    "    db_engine,\n",
    ")\n",
    "q_disclose_interview.disclose_in_interview = as_cat__yes_maybe_no(\n",
    "    q_disclose_interview.disclose_in_interview\n",
    ")\n",
    "\n",
    "\n",
    "q_discus_with_coworkers = pd.read_sql(\n",
    "    \"\"\"--sql\n",
    "    SELECT\n",
    "        UserID user_id, \n",
    "        CASE WHEN AnswerText = -1 THEN NULL \n",
    "             ELSE AnswerText\n",
    "        END AS discus_with_coworkers\n",
    "    FROM Answer \n",
    "    WHERE QuestionID = 18;\n",
    "    \"\"\",\n",
    "    db_engine,\n",
    ")\n",
    "q_discus_with_coworkers.discus_with_coworkers = as_cat__yes_maybe_no(\n",
    "    q_discus_with_coworkers.discus_with_coworkers\n",
    ")\n",
    "\n",
    "q_discus_with_supervisor = pd.read_sql(\n",
    "    \"\"\"--sql\n",
    "    SELECT\n",
    "        UserID user_id, \n",
    "        CASE WHEN AnswerText = -1 THEN NULL\n",
    "             ELSE AnswerText\n",
    "        END AS discus_with_supervisor\n",
    "    FROM Answer \n",
    "    WHERE QuestionID = 19;\n",
    "    \"\"\",\n",
    "    db_engine,\n",
    ")\n",
    "q_discus_with_supervisor.discus_with_supervisor = as_cat__yes_maybe_no(\n",
    "    q_discus_with_supervisor.discus_with_supervisor\n",
    ")\n",
    "\n",
    "# -- Atmosphere for openness: long DF\n",
    "q_openness = pd.read_sql(\n",
    "    \"\"\"--sql\n",
    "    SELECT\n",
    "        UserID user_id, \n",
    "        'in interview' discuss_mental_issue,\n",
    "        CASE WHEN AnswerText = -1 THEN NULL \n",
    "             ELSE AnswerText\n",
    "         END AS choice\n",
    "    FROM Answer \n",
    "    WHERE QuestionID = 12\n",
    "    \n",
    "    UNION ALL\n",
    "\n",
    "    SELECT\n",
    "        UserID user_id, \n",
    "        'with coworkers' discuss_mental_issue,\n",
    "        CASE WHEN AnswerText = -1 THEN NULL \n",
    "             ELSE AnswerText\n",
    "        END AS choice\n",
    "    FROM Answer \n",
    "    WHERE QuestionID = 18\n",
    "    \n",
    "    UNION ALL\n",
    "  \n",
    "    SELECT\n",
    "        UserID user_id,\n",
    "        'with supervisor' discuss_mental_issue,\n",
    "        CASE WHEN AnswerText = -1 THEN NULL\n",
    "             ELSE AnswerText\n",
    "        END AS choice\n",
    "    FROM Answer \n",
    "    WHERE QuestionID = 19;\n",
    "    \"\"\",\n",
    "    db_engine,\n",
    ")\n",
    "\n",
    "q_openness.choice = as_cat__yes_maybe_no(q_openness.choice)"
   ]
  },
  {
   "cell_type": "code",
   "execution_count": 28,
   "id": "710921c5",
   "metadata": {},
   "outputs": [],
   "source": [
    "# -- Group 'Not applicable to me' was excluded\n",
    "q_productivity = pd.read_sql(\n",
    "    \"\"\"--sql\n",
    "    SELECT\n",
    "        UserID user_id,\n",
    "        CASE \n",
    "            WHEN AnswerText = 'Yes' THEN \"Often\"\n",
    "            WHEN AnswerText = 'Unsure' THEN \"Unsure\"\n",
    "            WHEN AnswerText = 'No' THEN \"Rarely\"\n",
    "            WHEN AnswerText IN (-1, 'Not applicable to me') THEN NULL\n",
    "            ELSE AnswerText\n",
    "        END AS affected_productivity\n",
    "    FROM Answer \n",
    "    WHERE QuestionID = 54;\n",
    "    \"\"\",\n",
    "    db_engine,\n",
    ")\n",
    "\n",
    "q_productivity.affected_productivity = pd.Categorical(\n",
    "    q_productivity.affected_productivity,\n",
    "    categories=[\"Often\", \"Unsure\", \"Rarely\"],\n",
    ")"
   ]
  },
  {
   "cell_type": "markdown",
   "id": "b3f4bea9",
   "metadata": {},
   "source": [
    "Merge the variables of interest into a long-format data frame (one row per user ID):"
   ]
  },
  {
   "cell_type": "code",
   "execution_count": 29,
   "id": "d37c6887",
   "metadata": {},
   "outputs": [],
   "source": [
    "ds = my.merge_all(\n",
    "    [\n",
    "        # -- Respondent profile\n",
    "        q_gender,\n",
    "        q_age,\n",
    "        q_country_live,\n",
    "        # -- Mental health status\n",
    "        q_have_mhd,\n",
    "        q_ever_diagnosed_mhd,\n",
    "        q_sought_professional_treatment,\n",
    "        # -- Company/Org./Role profile\n",
    "        q_self_employed,\n",
    "        q_company_size,\n",
    "        q_is_tech_org,\n",
    "        q_is_tech_it_role,\n",
    "        # -- Mental health services at work\n",
    "        q_employer_teach,\n",
    "        q_employer_mental_healthcare,\n",
    "        q_anonym_protection_to_treat,\n",
    "        # -- Atmosphere for openness\n",
    "        q_disclose_interview,\n",
    "        q_discus_with_coworkers,\n",
    "        q_discus_with_supervisor,\n",
    "        # -- Productivity\n",
    "        q_productivity,\n",
    "    ]\n",
    ")"
   ]
  },
  {
   "cell_type": "code",
   "execution_count": 30,
   "id": "5c51cd89",
   "metadata": {},
   "outputs": [
    {
     "name": "stdout",
     "output_type": "stream",
     "text": [
      "<class 'pandas.core.frame.DataFrame'>\n",
      "Int64Index: 4218 entries, 0 to 4217\n",
      "Data columns (total 24 columns):\n",
      " #   Column                          Non-Null Count  Dtype   \n",
      "---  ------                          --------------  -----   \n",
      " 0   user_id                         4218 non-null   int64   \n",
      " 1   year                            4218 non-null   int64   \n",
      " 2   gender                          4218 non-null   object  \n",
      " 3   age                             4202 non-null   float64 \n",
      " 4   age_group                       4202 non-null   object  \n",
      " 5   age_group_2                     4202 non-null   object  \n",
      " 6   country                         4216 non-null   object  \n",
      " 7   country_major_ctb               4216 non-null   object  \n",
      " 8   region                          4214 non-null   object  \n",
      " 9   have_mhd                        2958 non-null   category\n",
      " 10  ever_diagnosed_mhd              2095 non-null   category\n",
      " 11  ever_sought_prof_mhd_treatment  4218 non-null   category\n",
      " 12  self_employed                   4200 non-null   category\n",
      " 13  company_size                    3714 non-null   object  \n",
      " 14  company_size_3                  3714 non-null   object  \n",
      " 15  is_tech_org                     3714 non-null   category\n",
      " 16  is_tech_it_role                 1571 non-null   category\n",
      " 17  employer_teach                  2454 non-null   category\n",
      " 18  employer_mental_healthcare      3714 non-null   category\n",
      " 19  anonym_protection_to_treat      3714 non-null   category\n",
      " 20  disclose_in_interview           4218 non-null   category\n",
      " 21  discus_with_coworkers           2454 non-null   category\n",
      " 22  discus_with_supervisor          2454 non-null   category\n",
      " 23  affected_productivity           453 non-null    category\n",
      "dtypes: category(13), float64(1), int64(2), object(8)\n",
      "memory usage: 450.7+ KB\n"
     ]
    }
   ],
   "source": [
    "ds.info()"
   ]
  },
  {
   "cell_type": "markdown",
   "id": "42d04841",
   "metadata": {},
   "source": [
    "***"
   ]
  },
  {
   "cell_type": "markdown",
   "id": "36b9640d",
   "metadata": {},
   "source": [
    "### Activity of Respondents"
   ]
  },
  {
   "cell_type": "markdown",
   "id": "1e9b017c",
   "metadata": {},
   "source": [
    "In this subsection we will look into the **questionnaire sizes** used and **counts of respondents** participated in each survey.\n",
    " \n",
    "\n",
    "As there is no information in database's description on duplicate responses, in this analysis we make an assumption that each response (i.e., a filled survey) equals to number of respondents."
   ]
  },
  {
   "cell_type": "code",
   "execution_count": 31,
   "id": "be6ccea4",
   "metadata": {},
   "outputs": [],
   "source": [
    "# N question and respondents' activity\n",
    "df_y_q = pd.read_sql(\n",
    "    \"\"\"--sql\n",
    "    WITH by_year AS (\n",
    "         SELECT \n",
    "            SurveyID year, \n",
    "            COUNT(DISTINCT QuestionID) n_questions,\n",
    "            COUNT(DISTINCT UserID) n_respondents\n",
    "        FROM Answer \n",
    "        GROUP BY year\n",
    "    )\n",
    "    \n",
    "    SELECT year, \n",
    "          n_questions, \n",
    "          n_respondents, \n",
    "          -- To treat result as float, 0.0 was added:\n",
    "          ROUND((n_respondents + 0.0)/n_questions, 1) respondents_per_question\n",
    "    FROM by_year;\n",
    "    \"\"\",\n",
    "    db_engine,\n",
    ")"
   ]
  },
  {
   "cell_type": "code",
   "execution_count": 32,
   "id": "3eafdee7",
   "metadata": {},
   "outputs": [
    {
     "data": {
      "text/html": [
       "<div>\n",
       "<style scoped>\n",
       "    .dataframe tbody tr th:only-of-type {\n",
       "        vertical-align: middle;\n",
       "    }\n",
       "\n",
       "    .dataframe tbody tr th {\n",
       "        vertical-align: top;\n",
       "    }\n",
       "\n",
       "    .dataframe thead th {\n",
       "        text-align: right;\n",
       "    }\n",
       "</style>\n",
       "<table border=\"1\" class=\"dataframe\">\n",
       "  <thead>\n",
       "    <tr style=\"text-align: right;\">\n",
       "      <th></th>\n",
       "      <th>year</th>\n",
       "      <th>n_questions</th>\n",
       "      <th>n_respondents</th>\n",
       "      <th>respondents_per_question</th>\n",
       "    </tr>\n",
       "  </thead>\n",
       "  <tbody>\n",
       "    <tr>\n",
       "      <th>0</th>\n",
       "      <td>2014</td>\n",
       "      <td>26</td>\n",
       "      <td>1260</td>\n",
       "      <td>48.5</td>\n",
       "    </tr>\n",
       "    <tr>\n",
       "      <th>1</th>\n",
       "      <td>2016</td>\n",
       "      <td>60</td>\n",
       "      <td>1433</td>\n",
       "      <td>23.9</td>\n",
       "    </tr>\n",
       "    <tr>\n",
       "      <th>2</th>\n",
       "      <td>2017</td>\n",
       "      <td>76</td>\n",
       "      <td>756</td>\n",
       "      <td>9.9</td>\n",
       "    </tr>\n",
       "    <tr>\n",
       "      <th>3</th>\n",
       "      <td>2018</td>\n",
       "      <td>76</td>\n",
       "      <td>417</td>\n",
       "      <td>5.5</td>\n",
       "    </tr>\n",
       "    <tr>\n",
       "      <th>4</th>\n",
       "      <td>2019</td>\n",
       "      <td>76</td>\n",
       "      <td>352</td>\n",
       "      <td>4.6</td>\n",
       "    </tr>\n",
       "  </tbody>\n",
       "</table>\n",
       "</div>"
      ],
      "text/plain": [
       "   year  n_questions  n_respondents  respondents_per_question\n",
       "0  2014           26           1260                      48.5\n",
       "1  2016           60           1433                      23.9\n",
       "2  2017           76            756                       9.9\n",
       "3  2018           76            417                       5.5\n",
       "4  2019           76            352                       4.6"
      ]
     },
     "execution_count": 32,
     "metadata": {},
     "output_type": "execute_result"
    },
    {
     "data": {
      "image/png": "[encoded data removed]",
      "text/plain": [
       "<Figure size 700x300 with 2 Axes>"
      ]
     },
     "metadata": {},
     "output_type": "display_data"
    }
   ],
   "source": [
    "# Plot 1:\n",
    "plt.rc(\"figure\", figsize=(7, 3))\n",
    "fig1, ax1 = plt.subplots()\n",
    "\n",
    "ax = df_y_q.plot(\n",
    "    x=\"year\",\n",
    "    y=\"n_questions\",\n",
    "    kind=\"bar\",\n",
    "    color=green,\n",
    "    ec=\"black\",\n",
    "    position=1,\n",
    "    rot=0,\n",
    "    width=0.3,\n",
    "    legend=False,\n",
    "    xlabel=\"Year\",\n",
    "    ylabel=\"n questions\",\n",
    "    ax=ax1,\n",
    ")\n",
    "\n",
    "ax1b = ax.twinx()\n",
    "\n",
    "df_y_q.plot(\n",
    "    x=\"year\",\n",
    "    y=\"respondents_per_question\",\n",
    "    kind=\"bar\",\n",
    "    color=blue,\n",
    "    ec=\"black\",\n",
    "    position=0,\n",
    "    width=0.3,\n",
    "    legend=False,\n",
    "    xlabel=\"Year\",\n",
    "    ylabel=\"n respondents per question\\n(activity)\",\n",
    "    ax=ax1b,\n",
    ")\n",
    "\n",
    "ax1b.set_xlim(-0.5, 5 - 0.5)\n",
    "fig1.legend([\"Questions\", \"Activity\"], loc=\"lower right\", ncol=2, frameon=False)\n",
    "plt.title(\"Questionnaire Size and Respondents' Activity\\n over Time\")\n",
    "\n",
    "# Table:\n",
    "df_y_q"
   ]
  },
  {
   "cell_type": "code",
   "execution_count": 33,
   "id": "3af5b5c5",
   "metadata": {},
   "outputs": [
    {
     "data": {
      "image/png": "[encoded data removed]",
      "text/plain": [
       "<Figure size 700x300 with 2 Axes>"
      ]
     },
     "metadata": {},
     "output_type": "display_data"
    }
   ],
   "source": [
    "# Plot 2:\n",
    "plt.rc(\"figure\", figsize=(7, 3))\n",
    "fig1, ax1 = plt.subplots()\n",
    "\n",
    "ax = df_y_q.plot(\n",
    "    x=\"year\",\n",
    "    y=\"n_respondents\",\n",
    "    kind=\"bar\",\n",
    "    color=orange,\n",
    "    ec=\"black\",\n",
    "    position=1,\n",
    "    rot=0,\n",
    "    width=0.3,\n",
    "    legend=False,\n",
    "    xlabel=\"Year\",\n",
    "    ylabel=\"n respondents (total)\",\n",
    "    ax=ax1,\n",
    ")\n",
    "\n",
    "ax1b = ax.twinx()\n",
    "\n",
    "df_y_q.plot(\n",
    "    x=\"year\",\n",
    "    y=\"respondents_per_question\",\n",
    "    kind=\"bar\",\n",
    "    color=blue,\n",
    "    ec=\"black\",\n",
    "    position=0,\n",
    "    width=0.3,\n",
    "    legend=False,\n",
    "    xlabel=\"Year\",\n",
    "    ylabel=\"n respondents per question\",\n",
    "    ax=ax1b,\n",
    ")\n",
    "ax1b.set_ylim(0, 57.3)\n",
    "\n",
    "ax1b.set_xlim(-0.5, 5 - 0.5)\n",
    "fig1.legend([\"Total\", \"Per question\"], loc=\"lower right\", ncol=2, frameon=False)\n",
    "plt.title(\"Absolute and Relative Respondents' Activity\\n over Time\");"
   ]
  },
  {
   "cell_type": "markdown",
   "id": "edad6af0",
   "metadata": {},
   "source": [
    "Over time questionnaire size increased, but respondents' activity decreased. The decreasing trend is visible for both absolute  and relative activity. Exception is in year 2016 for absolute number of respondents which increased.\n",
    "This might be related to the fact that in year 2015 there was no poll or to other factors, which were not investigated (e.g., poll advertising strategies)."
   ]
  },
  {
   "cell_type": "markdown",
   "id": "ad354921",
   "metadata": {},
   "source": [
    "***"
   ]
  },
  {
   "cell_type": "markdown",
   "id": "2b32ea76",
   "metadata": {},
   "source": [
    "### Respondent's Profile"
   ]
  },
  {
   "cell_type": "markdown",
   "id": "3d6d2809",
   "metadata": {},
   "source": [
    "In the surveys, there were more male (72%) than female (24%) respondents. \n",
    "Mean age was around 34 (with standard deviation = 8) years old.\n",
    "Dominant countries of residence were USA (62%) and UK (11%).\n",
    "Dominant regions of residence were North America (67%) and Europe (26%).\n",
    "In 2016 survey roughly half and in 2017-2019 surveys almost all (>90%) respondents were those, who had ever had MHD diagnosis, but at the time of surveys just around 40% identified themselves as currently having an MHD.\n",
    "The respondents WERE either self employed or worked in various size companies.\n",
    "The companies were mainly (78%) from the tech industry. \n",
    "And the respondents were mainly (94%) working as tech/IT specialists."
   ]
  },
  {
   "cell_type": "markdown",
   "id": "588c8fa3",
   "metadata": {},
   "source": [
    "Find the details below:"
   ]
  },
  {
   "cell_type": "code",
   "execution_count": 34,
   "id": "05f1285e",
   "metadata": {},
   "outputs": [
    {
     "data": {
      "text/html": [
       "<div>\n",
       "<style scoped>\n",
       "    .dataframe tbody tr th:only-of-type {\n",
       "        vertical-align: middle;\n",
       "    }\n",
       "\n",
       "    .dataframe tbody tr th {\n",
       "        vertical-align: top;\n",
       "    }\n",
       "\n",
       "    .dataframe thead th {\n",
       "        text-align: right;\n",
       "    }\n",
       "</style>\n",
       "<table border=\"1\" class=\"dataframe\">\n",
       "  <thead>\n",
       "    <tr style=\"text-align: right;\">\n",
       "      <th></th>\n",
       "      <th>gender</th>\n",
       "      <th>n</th>\n",
       "      <th>percent</th>\n",
       "    </tr>\n",
       "  </thead>\n",
       "  <tbody>\n",
       "    <tr>\n",
       "      <th>0</th>\n",
       "      <td>Female</td>\n",
       "      <td>1025</td>\n",
       "      <td>24.3%</td>\n",
       "    </tr>\n",
       "    <tr>\n",
       "      <th>1</th>\n",
       "      <td>Male</td>\n",
       "      <td>3046</td>\n",
       "      <td>72.2%</td>\n",
       "    </tr>\n",
       "    <tr>\n",
       "      <th>2</th>\n",
       "      <td>Other/Unknown</td>\n",
       "      <td>147</td>\n",
       "      <td>3.5%</td>\n",
       "    </tr>\n",
       "  </tbody>\n",
       "</table>\n",
       "</div>"
      ],
      "text/plain": [
       "          gender     n percent\n",
       "0         Female  1025   24.3%\n",
       "1           Male  3046   72.2%\n",
       "2  Other/Unknown   147    3.5%"
      ]
     },
     "execution_count": 34,
     "metadata": {},
     "output_type": "execute_result"
    },
    {
     "data": {
      "image/png": "[encoded data removed]",
      "text/plain": [
       "<Figure size 700x300 with 1 Axes>"
      ]
     },
     "metadata": {},
     "output_type": "display_data"
    }
   ],
   "source": [
    "f_tbl = my.calc_counts_and_percentages(\"gender\", ds, sort=False)\n",
    "my.plot_counts_with_labels(\n",
    "    f_tbl, x_lab=\"\", y_lab=\"Count\", rot=0, title=\"Respondent's Gender\"\n",
    ")\n",
    "f_tbl"
   ]
  },
  {
   "cell_type": "code",
   "execution_count": 35,
   "id": "cf0d1572",
   "metadata": {},
   "outputs": [
    {
     "data": {
      "text/html": [
       "<div>\n",
       "<style scoped>\n",
       "    .dataframe tbody tr th:only-of-type {\n",
       "        vertical-align: middle;\n",
       "    }\n",
       "\n",
       "    .dataframe tbody tr th {\n",
       "        vertical-align: top;\n",
       "    }\n",
       "\n",
       "    .dataframe thead th {\n",
       "        text-align: right;\n",
       "    }\n",
       "</style>\n",
       "<table border=\"1\" class=\"dataframe\">\n",
       "  <thead>\n",
       "    <tr style=\"text-align: right;\">\n",
       "      <th></th>\n",
       "      <th>count</th>\n",
       "      <th>mean</th>\n",
       "      <th>std</th>\n",
       "      <th>min</th>\n",
       "      <th>25%</th>\n",
       "      <th>50%</th>\n",
       "      <th>75%</th>\n",
       "      <th>max</th>\n",
       "    </tr>\n",
       "  </thead>\n",
       "  <tbody>\n",
       "    <tr>\n",
       "      <th>age</th>\n",
       "      <td>4202.0</td>\n",
       "      <td>33.9</td>\n",
       "      <td>8.1</td>\n",
       "      <td>18.0</td>\n",
       "      <td>28.0</td>\n",
       "      <td>33.0</td>\n",
       "      <td>38.0</td>\n",
       "      <td>74.0</td>\n",
       "    </tr>\n",
       "  </tbody>\n",
       "</table>\n",
       "</div>"
      ],
      "text/plain": [
       "      count  mean  std   min   25%   50%   75%   max\n",
       "age  4202.0  33.9  8.1  18.0  28.0  33.0  38.0  74.0"
      ]
     },
     "execution_count": 35,
     "metadata": {},
     "output_type": "execute_result"
    },
    {
     "data": {
      "image/png": "[encoded data removed]",
      "text/plain": [
       "<Figure size 700x300 with 1 Axes>"
      ]
     },
     "metadata": {},
     "output_type": "display_data"
    }
   ],
   "source": [
    "plt.figure(figsize=[7, 3])\n",
    "(\n",
    "    sns.histplot(data=ds, x=\"age\", bins=18).set(\n",
    "        title=\"Respondent's Age\", xlabel=\"Age, years\"\n",
    "    )\n",
    ")\n",
    "pd.DataFrame(round(ds.age.describe(), 1)).T"
   ]
  },
  {
   "cell_type": "code",
   "execution_count": 36,
   "id": "c0b6a578",
   "metadata": {},
   "outputs": [
    {
     "data": {
      "text/html": [
       "<div>\n",
       "<style scoped>\n",
       "    .dataframe tbody tr th:only-of-type {\n",
       "        vertical-align: middle;\n",
       "    }\n",
       "\n",
       "    .dataframe tbody tr th {\n",
       "        vertical-align: top;\n",
       "    }\n",
       "\n",
       "    .dataframe thead th {\n",
       "        text-align: right;\n",
       "    }\n",
       "</style>\n",
       "<table border=\"1\" class=\"dataframe\">\n",
       "  <thead>\n",
       "    <tr style=\"text-align: right;\">\n",
       "      <th></th>\n",
       "      <th>country_major_ctb</th>\n",
       "      <th>n</th>\n",
       "      <th>percent</th>\n",
       "    </tr>\n",
       "  </thead>\n",
       "  <tbody>\n",
       "    <tr>\n",
       "      <th>0</th>\n",
       "      <td>USA</td>\n",
       "      <td>2604</td>\n",
       "      <td>61.8%</td>\n",
       "    </tr>\n",
       "    <tr>\n",
       "      <th>1</th>\n",
       "      <td>UK</td>\n",
       "      <td>482</td>\n",
       "      <td>11.4%</td>\n",
       "    </tr>\n",
       "    <tr>\n",
       "      <th>2</th>\n",
       "      <td>Other</td>\n",
       "      <td>472</td>\n",
       "      <td>11.2%</td>\n",
       "    </tr>\n",
       "    <tr>\n",
       "      <th>3</th>\n",
       "      <td>Canada</td>\n",
       "      <td>199</td>\n",
       "      <td>4.7%</td>\n",
       "    </tr>\n",
       "    <tr>\n",
       "      <th>4</th>\n",
       "      <td>Germany</td>\n",
       "      <td>136</td>\n",
       "      <td>3.2%</td>\n",
       "    </tr>\n",
       "    <tr>\n",
       "      <th>5</th>\n",
       "      <td>Netherlands</td>\n",
       "      <td>98</td>\n",
       "      <td>2.3%</td>\n",
       "    </tr>\n",
       "    <tr>\n",
       "      <th>6</th>\n",
       "      <td>Australia</td>\n",
       "      <td>73</td>\n",
       "      <td>1.7%</td>\n",
       "    </tr>\n",
       "    <tr>\n",
       "      <th>7</th>\n",
       "      <td>France</td>\n",
       "      <td>51</td>\n",
       "      <td>1.2%</td>\n",
       "    </tr>\n",
       "    <tr>\n",
       "      <th>8</th>\n",
       "      <td>Ireland</td>\n",
       "      <td>51</td>\n",
       "      <td>1.2%</td>\n",
       "    </tr>\n",
       "    <tr>\n",
       "      <th>9</th>\n",
       "      <td>India</td>\n",
       "      <td>50</td>\n",
       "      <td>1.2%</td>\n",
       "    </tr>\n",
       "  </tbody>\n",
       "</table>\n",
       "</div>"
      ],
      "text/plain": [
       "  country_major_ctb     n percent\n",
       "0               USA  2604   61.8%\n",
       "1                UK   482   11.4%\n",
       "2             Other   472   11.2%\n",
       "3            Canada   199    4.7%\n",
       "4           Germany   136    3.2%\n",
       "5       Netherlands    98    2.3%\n",
       "6         Australia    73    1.7%\n",
       "7            France    51    1.2%\n",
       "8           Ireland    51    1.2%\n",
       "9             India    50    1.2%"
      ]
     },
     "execution_count": 36,
     "metadata": {},
     "output_type": "execute_result"
    },
    {
     "data": {
      "image/png": "[encoded data removed]",
      "text/plain": [
       "<Figure size 700x300 with 1 Axes>"
      ]
     },
     "metadata": {},
     "output_type": "display_data"
    }
   ],
   "source": [
    "f_tbl = my.calc_counts_and_percentages(\"country_major_ctb\", ds)\n",
    "my.plot_counts_with_labels(\n",
    "    f_tbl, x_lab=\"\", y_lab=\"Count\", title=\"Respondent's Country of Residence\"\n",
    ")\n",
    "f_tbl"
   ]
  },
  {
   "cell_type": "code",
   "execution_count": 37,
   "id": "44b32fcf",
   "metadata": {},
   "outputs": [
    {
     "data": {
      "text/html": [
       "<div>\n",
       "<style scoped>\n",
       "    .dataframe tbody tr th:only-of-type {\n",
       "        vertical-align: middle;\n",
       "    }\n",
       "\n",
       "    .dataframe tbody tr th {\n",
       "        vertical-align: top;\n",
       "    }\n",
       "\n",
       "    .dataframe thead th {\n",
       "        text-align: right;\n",
       "    }\n",
       "</style>\n",
       "<table border=\"1\" class=\"dataframe\">\n",
       "  <thead>\n",
       "    <tr style=\"text-align: right;\">\n",
       "      <th></th>\n",
       "      <th>region</th>\n",
       "      <th>n</th>\n",
       "      <th>percent</th>\n",
       "    </tr>\n",
       "  </thead>\n",
       "  <tbody>\n",
       "    <tr>\n",
       "      <th>0</th>\n",
       "      <td>North America</td>\n",
       "      <td>2804</td>\n",
       "      <td>66.5%</td>\n",
       "    </tr>\n",
       "    <tr>\n",
       "      <th>1</th>\n",
       "      <td>Europe</td>\n",
       "      <td>1111</td>\n",
       "      <td>26.4%</td>\n",
       "    </tr>\n",
       "    <tr>\n",
       "      <th>2</th>\n",
       "      <td>Asia</td>\n",
       "      <td>108</td>\n",
       "      <td>2.6%</td>\n",
       "    </tr>\n",
       "    <tr>\n",
       "      <th>3</th>\n",
       "      <td>Australasia</td>\n",
       "      <td>97</td>\n",
       "      <td>2.3%</td>\n",
       "    </tr>\n",
       "    <tr>\n",
       "      <th>4</th>\n",
       "      <td>Latin America</td>\n",
       "      <td>69</td>\n",
       "      <td>1.6%</td>\n",
       "    </tr>\n",
       "    <tr>\n",
       "      <th>5</th>\n",
       "      <td>Africa</td>\n",
       "      <td>25</td>\n",
       "      <td>0.6%</td>\n",
       "    </tr>\n",
       "  </tbody>\n",
       "</table>\n",
       "</div>"
      ],
      "text/plain": [
       "          region     n percent\n",
       "0  North America  2804   66.5%\n",
       "1         Europe  1111   26.4%\n",
       "2           Asia   108    2.6%\n",
       "3    Australasia    97    2.3%\n",
       "4  Latin America    69    1.6%\n",
       "5         Africa    25    0.6%"
      ]
     },
     "execution_count": 37,
     "metadata": {},
     "output_type": "execute_result"
    },
    {
     "data": {
      "image/png": "[encoded data removed]",
      "text/plain": [
       "<Figure size 700x300 with 1 Axes>"
      ]
     },
     "metadata": {},
     "output_type": "display_data"
    }
   ],
   "source": [
    "f_tbl = my.calc_counts_and_percentages(\"region\", ds)\n",
    "my.plot_counts_with_labels(\n",
    "    f_tbl,\n",
    "    x_lab=\"\",\n",
    "    y_lab=\"Count\",\n",
    "    rot=0,\n",
    "    title=\"Respondent's Region of Residence\",\n",
    ")\n",
    "f_tbl"
   ]
  },
  {
   "cell_type": "code",
   "execution_count": 38,
   "id": "6274b9e6",
   "metadata": {},
   "outputs": [
    {
     "name": "stdout",
     "output_type": "stream",
     "text": [
      "Question:\n"
     ]
    },
    {
     "data": {
      "text/html": [
       "<div>\n",
       "<style scoped>\n",
       "    .dataframe tbody tr th:only-of-type {\n",
       "        vertical-align: middle;\n",
       "    }\n",
       "\n",
       "    .dataframe tbody tr th {\n",
       "        vertical-align: top;\n",
       "    }\n",
       "\n",
       "    .dataframe thead th {\n",
       "        text-align: right;\n",
       "    }\n",
       "</style>\n",
       "<table border=\"1\" class=\"dataframe\">\n",
       "  <thead>\n",
       "    <tr style=\"text-align: right;\">\n",
       "      <th></th>\n",
       "      <th>ID</th>\n",
       "      <th>Question</th>\n",
       "    </tr>\n",
       "  </thead>\n",
       "  <tbody>\n",
       "    <tr>\n",
       "      <th>0</th>\n",
       "      <td>34</td>\n",
       "      <td>Have you ever been diagnosed with a mental health disorder?</td>\n",
       "    </tr>\n",
       "  </tbody>\n",
       "</table>\n",
       "</div>"
      ],
      "text/plain": [
       "   ID                                                     Question\n",
       "0  34  Have you ever been diagnosed with a mental health disorder?"
      ]
     },
     "metadata": {},
     "output_type": "display_data"
    },
    {
     "data": {
      "text/html": [
       "<div>\n",
       "<style scoped>\n",
       "    .dataframe tbody tr th:only-of-type {\n",
       "        vertical-align: middle;\n",
       "    }\n",
       "\n",
       "    .dataframe tbody tr th {\n",
       "        vertical-align: top;\n",
       "    }\n",
       "\n",
       "    .dataframe thead th {\n",
       "        text-align: right;\n",
       "    }\n",
       "</style>\n",
       "<table border=\"1\" class=\"dataframe\">\n",
       "  <thead>\n",
       "    <tr style=\"text-align: right;\">\n",
       "      <th>ever_diagnosed_mhd</th>\n",
       "      <th>Yes</th>\n",
       "      <th>No</th>\n",
       "    </tr>\n",
       "    <tr>\n",
       "      <th>year</th>\n",
       "      <th></th>\n",
       "      <th></th>\n",
       "    </tr>\n",
       "  </thead>\n",
       "  <tbody>\n",
       "    <tr>\n",
       "      <th>2016</th>\n",
       "      <td>716</td>\n",
       "      <td>717</td>\n",
       "    </tr>\n",
       "    <tr>\n",
       "      <th>2017</th>\n",
       "      <td>314</td>\n",
       "      <td>10</td>\n",
       "    </tr>\n",
       "    <tr>\n",
       "      <th>2018</th>\n",
       "      <td>189</td>\n",
       "      <td>2</td>\n",
       "    </tr>\n",
       "    <tr>\n",
       "      <th>2019</th>\n",
       "      <td>144</td>\n",
       "      <td>3</td>\n",
       "    </tr>\n",
       "  </tbody>\n",
       "</table>\n",
       "</div>"
      ],
      "text/plain": [
       "ever_diagnosed_mhd  Yes   No\n",
       "year                        \n",
       "2016                716  717\n",
       "2017                314   10\n",
       "2018                189    2\n",
       "2019                144    3"
      ]
     },
     "execution_count": 38,
     "metadata": {},
     "output_type": "execute_result"
    },
    {
     "data": {
      "image/png": "[encoded data removed]",
      "text/plain": [
       "<Figure size 700x300 with 1 Axes>"
      ]
     },
     "metadata": {},
     "output_type": "display_data"
    }
   ],
   "source": [
    "print_questions(34)\n",
    "\n",
    "c_tab = my.crosstab(ds, \"year\", \"ever_diagnosed_mhd\")\n",
    "my.plot_crosstab_as_barplot(\n",
    "    c_tab,\n",
    "    title=\"Ever Been Diagnosed with MHD\",\n",
    "    xlabel=\"Survey\",\n",
    "    color=[orange, blue],\n",
    ")\n",
    "plt.gca().legend(frameon=False)\n",
    "c_tab"
   ]
  },
  {
   "cell_type": "code",
   "execution_count": 39,
   "id": "1f55cbb2",
   "metadata": {},
   "outputs": [
    {
     "name": "stdout",
     "output_type": "stream",
     "text": [
      "Question:\n"
     ]
    },
    {
     "data": {
      "text/html": [
       "<div>\n",
       "<style scoped>\n",
       "    .dataframe tbody tr th:only-of-type {\n",
       "        vertical-align: middle;\n",
       "    }\n",
       "\n",
       "    .dataframe tbody tr th {\n",
       "        vertical-align: top;\n",
       "    }\n",
       "\n",
       "    .dataframe thead th {\n",
       "        text-align: right;\n",
       "    }\n",
       "</style>\n",
       "<table border=\"1\" class=\"dataframe\">\n",
       "  <thead>\n",
       "    <tr style=\"text-align: right;\">\n",
       "      <th></th>\n",
       "      <th>ID</th>\n",
       "      <th>Question</th>\n",
       "    </tr>\n",
       "  </thead>\n",
       "  <tbody>\n",
       "    <tr>\n",
       "      <th>0</th>\n",
       "      <td>33</td>\n",
       "      <td>Do you currently have a mental health disorder?</td>\n",
       "    </tr>\n",
       "  </tbody>\n",
       "</table>\n",
       "</div>"
      ],
      "text/plain": [
       "   ID                                         Question\n",
       "0  33  Do you currently have a mental health disorder?"
      ]
     },
     "metadata": {},
     "output_type": "display_data"
    },
    {
     "data": {
      "text/html": [
       "<div>\n",
       "<style scoped>\n",
       "    .dataframe tbody tr th:only-of-type {\n",
       "        vertical-align: middle;\n",
       "    }\n",
       "\n",
       "    .dataframe tbody tr th {\n",
       "        vertical-align: top;\n",
       "    }\n",
       "\n",
       "    .dataframe thead th {\n",
       "        text-align: right;\n",
       "    }\n",
       "</style>\n",
       "<table border=\"1\" class=\"dataframe\">\n",
       "  <thead>\n",
       "    <tr style=\"text-align: right;\">\n",
       "      <th>have_mhd</th>\n",
       "      <th>Yes</th>\n",
       "      <th>No</th>\n",
       "      <th>Don't know</th>\n",
       "    </tr>\n",
       "    <tr>\n",
       "      <th>year</th>\n",
       "      <th></th>\n",
       "      <th></th>\n",
       "      <th></th>\n",
       "    </tr>\n",
       "  </thead>\n",
       "  <tbody>\n",
       "    <tr>\n",
       "      <th>2016</th>\n",
       "      <td>575</td>\n",
       "      <td>531</td>\n",
       "      <td>327</td>\n",
       "    </tr>\n",
       "    <tr>\n",
       "      <th>2017</th>\n",
       "      <td>324</td>\n",
       "      <td>222</td>\n",
       "      <td>210</td>\n",
       "    </tr>\n",
       "    <tr>\n",
       "      <th>2018</th>\n",
       "      <td>191</td>\n",
       "      <td>112</td>\n",
       "      <td>114</td>\n",
       "    </tr>\n",
       "    <tr>\n",
       "      <th>2019</th>\n",
       "      <td>147</td>\n",
       "      <td>104</td>\n",
       "      <td>101</td>\n",
       "    </tr>\n",
       "  </tbody>\n",
       "</table>\n",
       "</div>"
      ],
      "text/plain": [
       "have_mhd  Yes   No  Don't know\n",
       "year                          \n",
       "2016      575  531         327\n",
       "2017      324  222         210\n",
       "2018      191  112         114\n",
       "2019      147  104         101"
      ]
     },
     "execution_count": 39,
     "metadata": {},
     "output_type": "execute_result"
    },
    {
     "data": {
      "image/png": "[encoded data removed]",
      "text/plain": [
       "<Figure size 700x300 with 1 Axes>"
      ]
     },
     "metadata": {},
     "output_type": "display_data"
    }
   ],
   "source": [
    "print_questions(33)\n",
    "\n",
    "c_tab = my.crosstab(ds, \"year\", \"have_mhd\")\n",
    "my.plot_crosstab_as_barplot(\n",
    "    c_tab,\n",
    "    ylim=[None, 55],\n",
    "    xlabel=\"Survey\",\n",
    "    title=\"Currently Have MHD\",\n",
    "    color=[orange, blue, green],\n",
    ")\n",
    "plt.gca().legend(frameon=False, ncol=3)\n",
    "c_tab"
   ]
  },
  {
   "cell_type": "code",
   "execution_count": 40,
   "id": "1d81843b",
   "metadata": {},
   "outputs": [
    {
     "data": {
      "text/html": [
       "<div>\n",
       "<style scoped>\n",
       "    .dataframe tbody tr th:only-of-type {\n",
       "        vertical-align: middle;\n",
       "    }\n",
       "\n",
       "    .dataframe tbody tr th {\n",
       "        vertical-align: top;\n",
       "    }\n",
       "\n",
       "    .dataframe thead th {\n",
       "        text-align: right;\n",
       "    }\n",
       "</style>\n",
       "<table border=\"1\" class=\"dataframe\">\n",
       "  <thead>\n",
       "    <tr style=\"text-align: right;\">\n",
       "      <th></th>\n",
       "      <th>self_employed</th>\n",
       "      <th>n</th>\n",
       "      <th>percent</th>\n",
       "    </tr>\n",
       "  </thead>\n",
       "  <tbody>\n",
       "    <tr>\n",
       "      <th>0</th>\n",
       "      <td>Yes</td>\n",
       "      <td>650</td>\n",
       "      <td>15.5%</td>\n",
       "    </tr>\n",
       "    <tr>\n",
       "      <th>1</th>\n",
       "      <td>No</td>\n",
       "      <td>3550</td>\n",
       "      <td>84.5%</td>\n",
       "    </tr>\n",
       "  </tbody>\n",
       "</table>\n",
       "</div>"
      ],
      "text/plain": [
       "  self_employed     n percent\n",
       "0           Yes   650   15.5%\n",
       "1            No  3550   84.5%"
      ]
     },
     "execution_count": 40,
     "metadata": {},
     "output_type": "execute_result"
    },
    {
     "data": {
      "image/png": "[encoded data removed]",
      "text/plain": [
       "<Figure size 700x300 with 1 Axes>"
      ]
     },
     "metadata": {},
     "output_type": "display_data"
    }
   ],
   "source": [
    "f_tbl = my.calc_counts_and_percentages(\"self_employed\", ds, sort=False)\n",
    "my.plot_counts_with_labels(f_tbl, x_lab=\"\", rot=0, title=\"Self-Employed\")\n",
    "f_tbl"
   ]
  },
  {
   "cell_type": "code",
   "execution_count": 41,
   "id": "22a8225e",
   "metadata": {},
   "outputs": [
    {
     "data": {
      "text/html": [
       "<div>\n",
       "<style scoped>\n",
       "    .dataframe tbody tr th:only-of-type {\n",
       "        vertical-align: middle;\n",
       "    }\n",
       "\n",
       "    .dataframe tbody tr th {\n",
       "        vertical-align: top;\n",
       "    }\n",
       "\n",
       "    .dataframe thead th {\n",
       "        text-align: right;\n",
       "    }\n",
       "</style>\n",
       "<table border=\"1\" class=\"dataframe\">\n",
       "  <thead>\n",
       "    <tr style=\"text-align: right;\">\n",
       "      <th></th>\n",
       "      <th>company_size</th>\n",
       "      <th>n</th>\n",
       "      <th>percent</th>\n",
       "    </tr>\n",
       "  </thead>\n",
       "  <tbody>\n",
       "    <tr>\n",
       "      <th>0</th>\n",
       "      <td>A. 1-5</td>\n",
       "      <td>254</td>\n",
       "      <td>6.8%</td>\n",
       "    </tr>\n",
       "    <tr>\n",
       "      <th>1</th>\n",
       "      <td>B. 6-25</td>\n",
       "      <td>689</td>\n",
       "      <td>18.6%</td>\n",
       "    </tr>\n",
       "    <tr>\n",
       "      <th>2</th>\n",
       "      <td>C. 26-100</td>\n",
       "      <td>824</td>\n",
       "      <td>22.2%</td>\n",
       "    </tr>\n",
       "    <tr>\n",
       "      <th>3</th>\n",
       "      <td>D. 100-500</td>\n",
       "      <td>788</td>\n",
       "      <td>21.2%</td>\n",
       "    </tr>\n",
       "    <tr>\n",
       "      <th>4</th>\n",
       "      <td>E. 500-1000</td>\n",
       "      <td>247</td>\n",
       "      <td>6.7%</td>\n",
       "    </tr>\n",
       "    <tr>\n",
       "      <th>5</th>\n",
       "      <td>F. More than 1000</td>\n",
       "      <td>912</td>\n",
       "      <td>24.6%</td>\n",
       "    </tr>\n",
       "  </tbody>\n",
       "</table>\n",
       "</div>"
      ],
      "text/plain": [
       "        company_size    n percent\n",
       "0             A. 1-5  254    6.8%\n",
       "1            B. 6-25  689   18.6%\n",
       "2          C. 26-100  824   22.2%\n",
       "3         D. 100-500  788   21.2%\n",
       "4        E. 500-1000  247    6.7%\n",
       "5  F. More than 1000  912   24.6%"
      ]
     },
     "execution_count": 41,
     "metadata": {},
     "output_type": "execute_result"
    },
    {
     "data": {
      "image/png": "[encoded data removed]",
      "text/plain": [
       "<Figure size 700x300 with 1 Axes>"
      ]
     },
     "metadata": {},
     "output_type": "display_data"
    }
   ],
   "source": [
    "f_tbl = my.calc_counts_and_percentages(\"company_size\", ds, sort=\"index\")\n",
    "my.plot_counts_with_labels(\n",
    "    f_tbl, x_lab=\"\", rot=15, title=\"Company/Organization Size\"\n",
    ")\n",
    "f_tbl"
   ]
  },
  {
   "cell_type": "code",
   "execution_count": 42,
   "id": "d5adee81",
   "metadata": {},
   "outputs": [
    {
     "data": {
      "text/html": [
       "<div>\n",
       "<style scoped>\n",
       "    .dataframe tbody tr th:only-of-type {\n",
       "        vertical-align: middle;\n",
       "    }\n",
       "\n",
       "    .dataframe tbody tr th {\n",
       "        vertical-align: top;\n",
       "    }\n",
       "\n",
       "    .dataframe thead th {\n",
       "        text-align: right;\n",
       "    }\n",
       "</style>\n",
       "<table border=\"1\" class=\"dataframe\">\n",
       "  <thead>\n",
       "    <tr style=\"text-align: right;\">\n",
       "      <th></th>\n",
       "      <th>is_tech_org</th>\n",
       "      <th>n</th>\n",
       "      <th>percent</th>\n",
       "    </tr>\n",
       "  </thead>\n",
       "  <tbody>\n",
       "    <tr>\n",
       "      <th>0</th>\n",
       "      <td>Yes</td>\n",
       "      <td>2888</td>\n",
       "      <td>77.8%</td>\n",
       "    </tr>\n",
       "    <tr>\n",
       "      <th>1</th>\n",
       "      <td>No</td>\n",
       "      <td>826</td>\n",
       "      <td>22.2%</td>\n",
       "    </tr>\n",
       "  </tbody>\n",
       "</table>\n",
       "</div>"
      ],
      "text/plain": [
       "  is_tech_org     n percent\n",
       "0         Yes  2888   77.8%\n",
       "1          No   826   22.2%"
      ]
     },
     "execution_count": 42,
     "metadata": {},
     "output_type": "execute_result"
    },
    {
     "data": {
      "image/png": "[encoded data removed]",
      "text/plain": [
       "<Figure size 700x300 with 1 Axes>"
      ]
     },
     "metadata": {},
     "output_type": "display_data"
    }
   ],
   "source": [
    "f_tbl = my.calc_counts_and_percentages(\"is_tech_org\", ds, sort=\"index\")\n",
    "my.plot_counts_with_labels(\n",
    "    f_tbl, x_lab=\"\", rot=0, title=\"Is Mainly Tech Company/Organization?\"\n",
    ")\n",
    "f_tbl"
   ]
  },
  {
   "cell_type": "code",
   "execution_count": 43,
   "id": "add6fd2a",
   "metadata": {},
   "outputs": [
    {
     "data": {
      "text/html": [
       "<div>\n",
       "<style scoped>\n",
       "    .dataframe tbody tr th:only-of-type {\n",
       "        vertical-align: middle;\n",
       "    }\n",
       "\n",
       "    .dataframe tbody tr th {\n",
       "        vertical-align: top;\n",
       "    }\n",
       "\n",
       "    .dataframe thead th {\n",
       "        text-align: right;\n",
       "    }\n",
       "</style>\n",
       "<table border=\"1\" class=\"dataframe\">\n",
       "  <thead>\n",
       "    <tr style=\"text-align: right;\">\n",
       "      <th></th>\n",
       "      <th>is_tech_it_role</th>\n",
       "      <th>n</th>\n",
       "      <th>percent</th>\n",
       "    </tr>\n",
       "  </thead>\n",
       "  <tbody>\n",
       "    <tr>\n",
       "      <th>0</th>\n",
       "      <td>Yes</td>\n",
       "      <td>1471</td>\n",
       "      <td>93.6%</td>\n",
       "    </tr>\n",
       "    <tr>\n",
       "      <th>1</th>\n",
       "      <td>No</td>\n",
       "      <td>100</td>\n",
       "      <td>6.4%</td>\n",
       "    </tr>\n",
       "  </tbody>\n",
       "</table>\n",
       "</div>"
      ],
      "text/plain": [
       "  is_tech_it_role     n percent\n",
       "0             Yes  1471   93.6%\n",
       "1              No   100    6.4%"
      ]
     },
     "execution_count": 43,
     "metadata": {},
     "output_type": "execute_result"
    },
    {
     "data": {
      "image/png": "[encoded data removed]",
      "text/plain": [
       "<Figure size 700x300 with 1 Axes>"
      ]
     },
     "metadata": {},
     "output_type": "display_data"
    }
   ],
   "source": [
    "f_tbl = my.calc_counts_and_percentages(\"is_tech_it_role\", ds)\n",
    "my.plot_counts_with_labels(\n",
    "    f_tbl, x_lab=\"\", rot=0, title=\"Works in Tech/IT Role\"\n",
    ")\n",
    "f_tbl"
   ]
  },
  {
   "cell_type": "markdown",
   "id": "879e9d3e",
   "metadata": {},
   "source": [
    "***"
   ]
  },
  {
   "cell_type": "markdown",
   "id": "d213b8a8",
   "metadata": {},
   "source": [
    "### Mental Health and Productivity"
   ]
  },
  {
   "cell_type": "markdown",
   "id": "34841831",
   "metadata": {},
   "source": [
    "Approximately 81% of respondents (out of 453) think that their mental illness affects their productivity **often**.\n",
    "Furthermore, basing on the answers of 2031 respondents, productivity is **less interfered if** metal health issues  are **treated** effectively."
   ]
  },
  {
   "cell_type": "markdown",
   "id": "c16cd127",
   "metadata": {},
   "source": [
    "This information was revealed by analyzing the answers to the following 3 questions:"
   ]
  },
  {
   "cell_type": "code",
   "execution_count": 44,
   "id": "df8b274d",
   "metadata": {},
   "outputs": [
    {
     "name": "stdout",
     "output_type": "stream",
     "text": [
      "Question:\n"
     ]
    },
    {
     "data": {
      "text/html": [
       "<div>\n",
       "<style scoped>\n",
       "    .dataframe tbody tr th:only-of-type {\n",
       "        vertical-align: middle;\n",
       "    }\n",
       "\n",
       "    .dataframe tbody tr th {\n",
       "        vertical-align: top;\n",
       "    }\n",
       "\n",
       "    .dataframe thead th {\n",
       "        text-align: right;\n",
       "    }\n",
       "</style>\n",
       "<table border=\"1\" class=\"dataframe\">\n",
       "  <thead>\n",
       "    <tr style=\"text-align: right;\">\n",
       "      <th></th>\n",
       "      <th>ID</th>\n",
       "      <th>Question</th>\n",
       "    </tr>\n",
       "  </thead>\n",
       "  <tbody>\n",
       "    <tr>\n",
       "      <th>0</th>\n",
       "      <td>54</td>\n",
       "      <td>Do you believe your productivity is ever affected by a mental health issue?</td>\n",
       "    </tr>\n",
       "  </tbody>\n",
       "</table>\n",
       "</div>"
      ],
      "text/plain": [
       "   ID  \\\n",
       "0  54   \n",
       "\n",
       "                                                                      Question  \n",
       "0  Do you believe your productivity is ever affected by a mental health issue?  "
      ]
     },
     "metadata": {},
     "output_type": "display_data"
    }
   ],
   "source": [
    "print_questions(54)"
   ]
  },
  {
   "cell_type": "code",
   "execution_count": 45,
   "id": "be2e0ebb",
   "metadata": {},
   "outputs": [
    {
     "data": {
      "text/html": [
       "<div>\n",
       "<style scoped>\n",
       "    .dataframe tbody tr th:only-of-type {\n",
       "        vertical-align: middle;\n",
       "    }\n",
       "\n",
       "    .dataframe tbody tr th {\n",
       "        vertical-align: top;\n",
       "    }\n",
       "\n",
       "    .dataframe thead th {\n",
       "        text-align: right;\n",
       "    }\n",
       "</style>\n",
       "<table border=\"1\" class=\"dataframe\">\n",
       "  <thead>\n",
       "    <tr style=\"text-align: right;\">\n",
       "      <th></th>\n",
       "      <th>affected_productivity</th>\n",
       "      <th>n</th>\n",
       "      <th>percent</th>\n",
       "    </tr>\n",
       "  </thead>\n",
       "  <tbody>\n",
       "    <tr>\n",
       "      <th>0</th>\n",
       "      <td>Often</td>\n",
       "      <td>367</td>\n",
       "      <td>81.0%</td>\n",
       "    </tr>\n",
       "    <tr>\n",
       "      <th>1</th>\n",
       "      <td>Unsure</td>\n",
       "      <td>60</td>\n",
       "      <td>13.2%</td>\n",
       "    </tr>\n",
       "    <tr>\n",
       "      <th>2</th>\n",
       "      <td>Rarely</td>\n",
       "      <td>26</td>\n",
       "      <td>5.7%</td>\n",
       "    </tr>\n",
       "  </tbody>\n",
       "</table>\n",
       "</div>"
      ],
      "text/plain": [
       "  affected_productivity    n percent\n",
       "0                 Often  367   81.0%\n",
       "1                Unsure   60   13.2%\n",
       "2                Rarely   26    5.7%"
      ]
     },
     "execution_count": 45,
     "metadata": {},
     "output_type": "execute_result"
    },
    {
     "data": {
      "image/png": "[encoded data removed]",
      "text/plain": [
       "<Figure size 700x300 with 1 Axes>"
      ]
     },
     "metadata": {},
     "output_type": "display_data"
    }
   ],
   "source": [
    "f_tbl = my.calc_counts_and_percentages(\"affected_productivity\", ds)\n",
    "my.plot_counts_with_labels(\n",
    "    f_tbl,\n",
    "    x_lab=\"\",\n",
    "    rot=0,\n",
    "    title=\"How Often Productivity Is Affected\\nby Mental Illness\",\n",
    "    color=[orange, blue, blue],\n",
    ")\n",
    "f_tbl"
   ]
  },
  {
   "cell_type": "code",
   "execution_count": 46,
   "id": "cdbe12d4",
   "metadata": {},
   "outputs": [
    {
     "name": "stdout",
     "output_type": "stream",
     "text": [
      "Questions:\n"
     ]
    },
    {
     "data": {
      "text/html": [
       "<div>\n",
       "<style scoped>\n",
       "    .dataframe tbody tr th:only-of-type {\n",
       "        vertical-align: middle;\n",
       "    }\n",
       "\n",
       "    .dataframe tbody tr th {\n",
       "        vertical-align: top;\n",
       "    }\n",
       "\n",
       "    .dataframe thead th {\n",
       "        text-align: right;\n",
       "    }\n",
       "</style>\n",
       "<table border=\"1\" class=\"dataframe\">\n",
       "  <thead>\n",
       "    <tr style=\"text-align: right;\">\n",
       "      <th></th>\n",
       "      <th>ID</th>\n",
       "      <th>Question</th>\n",
       "    </tr>\n",
       "  </thead>\n",
       "  <tbody>\n",
       "    <tr>\n",
       "      <th>0</th>\n",
       "      <td>48</td>\n",
       "      <td>If you have a mental health disorder, how often do you feel that it interferes with your work when being treated effectively?</td>\n",
       "    </tr>\n",
       "    <tr>\n",
       "      <th>1</th>\n",
       "      <td>49</td>\n",
       "      <td>If you have a mental health disorder, how often do you feel that it interferes with your work when not being treated effectively (i.e., when you are experiencing symptoms)?</td>\n",
       "    </tr>\n",
       "  </tbody>\n",
       "</table>\n",
       "</div>"
      ],
      "text/plain": [
       "   ID  \\\n",
       "0  48   \n",
       "1  49   \n",
       "\n",
       "                                                                                                                                                                       Question  \n",
       "0                                                 If you have a mental health disorder, how often do you feel that it interferes with your work when being treated effectively?  \n",
       "1  If you have a mental health disorder, how often do you feel that it interferes with your work when not being treated effectively (i.e., when you are experiencing symptoms)?  "
      ]
     },
     "metadata": {},
     "output_type": "display_data"
    }
   ],
   "source": [
    "print_questions((48, 49))"
   ]
  },
  {
   "cell_type": "code",
   "execution_count": 47,
   "id": "eec8121b",
   "metadata": {},
   "outputs": [
    {
     "name": "stdout",
     "output_type": "stream",
     "text": [
      "After removing non-relevant answers, n=2031 respondents were included.\n",
      "Cross-tabulation:\n"
     ]
    },
    {
     "data": {
      "text/html": [
       "<div>\n",
       "<style scoped>\n",
       "    .dataframe tbody tr th:only-of-type {\n",
       "        vertical-align: middle;\n",
       "    }\n",
       "\n",
       "    .dataframe tbody tr th {\n",
       "        vertical-align: top;\n",
       "    }\n",
       "\n",
       "    .dataframe thead th {\n",
       "        text-align: right;\n",
       "    }\n",
       "</style>\n",
       "<table border=\"1\" class=\"dataframe\">\n",
       "  <thead>\n",
       "    <tr style=\"text-align: right;\">\n",
       "      <th>productivity_interference</th>\n",
       "      <th>A. Never</th>\n",
       "      <th>B. Rarely</th>\n",
       "      <th>C. Sometimes</th>\n",
       "      <th>D. Often</th>\n",
       "      <th>Total</th>\n",
       "    </tr>\n",
       "    <tr>\n",
       "      <th>treatment</th>\n",
       "      <th></th>\n",
       "      <th></th>\n",
       "      <th></th>\n",
       "      <th></th>\n",
       "      <th></th>\n",
       "    </tr>\n",
       "  </thead>\n",
       "  <tbody>\n",
       "    <tr>\n",
       "      <th>Treated</th>\n",
       "      <td>165</td>\n",
       "      <td>700</td>\n",
       "      <td>808</td>\n",
       "      <td>166</td>\n",
       "      <td>1839</td>\n",
       "    </tr>\n",
       "    <tr>\n",
       "      <th>Untreated</th>\n",
       "      <td>24</td>\n",
       "      <td>113</td>\n",
       "      <td>672</td>\n",
       "      <td>1183</td>\n",
       "      <td>1992</td>\n",
       "    </tr>\n",
       "  </tbody>\n",
       "</table>\n",
       "</div>"
      ],
      "text/plain": [
       "productivity_interference  A. Never  B. Rarely  C. Sometimes  D. Often  Total\n",
       "treatment                                                                    \n",
       "Treated                         165        700           808       166   1839\n",
       "Untreated                        24        113           672      1183   1992"
      ]
     },
     "metadata": {},
     "output_type": "display_data"
    },
    {
     "name": "stdout",
     "output_type": "stream",
     "text": [
      "Percentage of group (treated/untreated) totals:\n"
     ]
    },
    {
     "data": {
      "image/png": "[encoded data removed]",
      "text/plain": [
       "<Figure size 700x300 with 1 Axes>"
      ]
     },
     "metadata": {},
     "output_type": "display_data"
    }
   ],
   "source": [
    "# -- Group 'Not applicable to me' was excluded\n",
    "q_48_49 = pd.read_sql(\n",
    "    \"\"\"--sql\n",
    "     WITH recoded_48_49 AS (\n",
    "        SELECT\n",
    "            UserID user_id,\n",
    "            SurveyID year,\n",
    "            CASE \n",
    "                WHEN AnswerText = 'Often' THEN \"D. Often\"\n",
    "                WHEN AnswerText = 'Sometimes' THEN \"C. Sometimes\"\n",
    "                WHEN AnswerText = 'Rarely' THEN \"B. Rarely\"\n",
    "                WHEN AnswerText = 'Never' THEN \"A. Never\"\n",
    "                WHEN AnswerText = 'Not applicable to me' THEN NULL\n",
    "                ELSE AnswerText\n",
    "            END AS productivity_interference,\n",
    "            QuestionID\n",
    "        FROM Answer \n",
    "        WHERE QuestionID IN (48, 49)\n",
    "    )\n",
    "\n",
    "    SELECT user_id, year, 'Treated' AS treatment, productivity_interference\n",
    "    FROM recoded_48_49 \n",
    "    WHERE QuestionID = 48\n",
    "\n",
    "    UNION ALL\n",
    "\n",
    "    SELECT user_id, year, 'Untreated' AS treatment, productivity_interference\n",
    "    FROM recoded_48_49 \n",
    "    WHERE QuestionID = 49;\n",
    "    \"\"\",\n",
    "    db_engine,\n",
    ")\n",
    "# N respondents\n",
    "#     Non-relevant values were removed, the same people answered to both\n",
    "#     questions on situation while being treated and without treatment.\n",
    "n = q_48_49.dropna()[\"user_id\"].nunique()\n",
    "\n",
    "# Absolute counts\n",
    "ct_abs = my.crosstab(q_48_49, \"treatment\", \"productivity_interference\")\n",
    "\n",
    "# Plot\n",
    "plt.rc(\"figure\", figsize=(7, 3))\n",
    "my.plot_crosstab_as_barplot(\n",
    "    ct_abs,\n",
    "    title=\"Mental Illness and Interference with Productivity\",\n",
    "    ylim=[None, 70],\n",
    "    color=[green, blue, orange, red],\n",
    ")\n",
    "plt.legend(frameon=False, loc=\"upper left\")\n",
    "\n",
    "# Output\n",
    "print(\n",
    "    f\"After removing non-relevant answers, n={n} respondents were included.\\n\"\n",
    "    \"Cross-tabulation:\"\n",
    ")\n",
    "ct_abs[\"Total\"] = ct_abs.sum(numeric_only=True, axis=1)\n",
    "display(ct_abs)\n",
    "\n",
    "print(\"Percentage of group (treated/untreated) totals:\")"
   ]
  },
  {
   "cell_type": "markdown",
   "id": "1cf6759e",
   "metadata": {},
   "source": [
    "***"
   ]
  },
  {
   "cell_type": "markdown",
   "id": "802aad37",
   "metadata": {},
   "source": [
    "### Factors Related to MHD Treatment Seeking\n"
   ]
  },
  {
   "cell_type": "markdown",
   "id": "05db79a1",
   "metadata": {},
   "source": [
    "First, let's look at respondent's willingness and openness to discuss MHD issues during job interview, with coworkers and with supervisor."
   ]
  },
  {
   "cell_type": "code",
   "execution_count": 48,
   "id": "ec30b9dc",
   "metadata": {},
   "outputs": [
    {
     "name": "stdout",
     "output_type": "stream",
     "text": [
      "Questions:\n"
     ]
    },
    {
     "data": {
      "text/html": [
       "<div>\n",
       "<style scoped>\n",
       "    .dataframe tbody tr th:only-of-type {\n",
       "        vertical-align: middle;\n",
       "    }\n",
       "\n",
       "    .dataframe tbody tr th {\n",
       "        vertical-align: top;\n",
       "    }\n",
       "\n",
       "    .dataframe thead th {\n",
       "        text-align: right;\n",
       "    }\n",
       "</style>\n",
       "<table border=\"1\" class=\"dataframe\">\n",
       "  <thead>\n",
       "    <tr style=\"text-align: right;\">\n",
       "      <th></th>\n",
       "      <th>ID</th>\n",
       "      <th>Question</th>\n",
       "    </tr>\n",
       "  </thead>\n",
       "  <tbody>\n",
       "    <tr>\n",
       "      <th>0</th>\n",
       "      <td>12</td>\n",
       "      <td>Would you bring up a mental health issue with a potential employer in an interview?</td>\n",
       "    </tr>\n",
       "    <tr>\n",
       "      <th>1</th>\n",
       "      <td>18</td>\n",
       "      <td>Would you feel comfortable discussing a mental health issue with your coworkers?</td>\n",
       "    </tr>\n",
       "    <tr>\n",
       "      <th>2</th>\n",
       "      <td>19</td>\n",
       "      <td>Would you feel comfortable discussing a mental health issue with your direct supervisor(s)?</td>\n",
       "    </tr>\n",
       "  </tbody>\n",
       "</table>\n",
       "</div>"
      ],
      "text/plain": [
       "   ID  \\\n",
       "0  12   \n",
       "1  18   \n",
       "2  19   \n",
       "\n",
       "                                                                                      Question  \n",
       "0          Would you bring up a mental health issue with a potential employer in an interview?  \n",
       "1             Would you feel comfortable discussing a mental health issue with your coworkers?  \n",
       "2  Would you feel comfortable discussing a mental health issue with your direct supervisor(s)?  "
      ]
     },
     "metadata": {},
     "output_type": "display_data"
    },
    {
     "data": {
      "text/html": [
       "<div>\n",
       "<style scoped>\n",
       "    .dataframe tbody tr th:only-of-type {\n",
       "        vertical-align: middle;\n",
       "    }\n",
       "\n",
       "    .dataframe tbody tr th {\n",
       "        vertical-align: top;\n",
       "    }\n",
       "\n",
       "    .dataframe thead th {\n",
       "        text-align: right;\n",
       "    }\n",
       "</style>\n",
       "<table border=\"1\" class=\"dataframe\">\n",
       "  <thead>\n",
       "    <tr style=\"text-align: right;\">\n",
       "      <th>choice</th>\n",
       "      <th>Yes</th>\n",
       "      <th>Maybe</th>\n",
       "      <th>No</th>\n",
       "    </tr>\n",
       "    <tr>\n",
       "      <th>discuss_mental_issue</th>\n",
       "      <th></th>\n",
       "      <th></th>\n",
       "      <th></th>\n",
       "    </tr>\n",
       "  </thead>\n",
       "  <tbody>\n",
       "    <tr>\n",
       "      <th>in interview</th>\n",
       "      <td>231</td>\n",
       "      <td>1036</td>\n",
       "      <td>2951</td>\n",
       "    </tr>\n",
       "    <tr>\n",
       "      <th>with coworkers</th>\n",
       "      <td>682</td>\n",
       "      <td>1053</td>\n",
       "      <td>719</td>\n",
       "    </tr>\n",
       "    <tr>\n",
       "      <th>with supervisor</th>\n",
       "      <td>932</td>\n",
       "      <td>815</td>\n",
       "      <td>707</td>\n",
       "    </tr>\n",
       "  </tbody>\n",
       "</table>\n",
       "</div>"
      ],
      "text/plain": [
       "choice                Yes  Maybe    No\n",
       "discuss_mental_issue                  \n",
       "in interview          231   1036  2951\n",
       "with coworkers        682   1053   719\n",
       "with supervisor       932    815   707"
      ]
     },
     "execution_count": 48,
     "metadata": {},
     "output_type": "execute_result"
    },
    {
     "data": {
      "image/png": "[encoded data removed]",
      "text/plain": [
       "<Figure size 700x300 with 1 Axes>"
      ]
     },
     "metadata": {},
     "output_type": "display_data"
    }
   ],
   "source": [
    "print_questions((12, 18, 19))\n",
    "\n",
    "ct = my.crosstab(q_openness, \"discuss_mental_issue\", \"choice\")\n",
    "my.plot_crosstab_as_barplot(\n",
    "    ct, color=[green, blue, red], title=\"Willingness To Discuss Mental Issues\"\n",
    ")\n",
    "plt.gca().legend(frameon=False)\n",
    "ct"
   ]
  },
  {
   "cell_type": "markdown",
   "id": "748eac62",
   "metadata": {},
   "source": [
    "Most of people are not willing to talk about mental health during job interview.\n",
    "And comparing two rest situations, there is a sightly bigger openness to discuss mental health topics with supervisor than with coworkers."
   ]
  },
  {
   "cell_type": "markdown",
   "id": "9e0368e1",
   "metadata": {},
   "source": [
    "Next, let's explore the factors that might be related to willingness to seek professional MHD help. \n",
    "\n",
    "The main findings of the following analysis will be described in section \"Summary\"."
   ]
  },
  {
   "cell_type": "code",
   "execution_count": 49,
   "id": "b9800d27",
   "metadata": {},
   "outputs": [
    {
     "name": "stdout",
     "output_type": "stream",
     "text": [
      "Question:\n"
     ]
    },
    {
     "data": {
      "text/html": [
       "<div>\n",
       "<style scoped>\n",
       "    .dataframe tbody tr th:only-of-type {\n",
       "        vertical-align: middle;\n",
       "    }\n",
       "\n",
       "    .dataframe tbody tr th {\n",
       "        vertical-align: top;\n",
       "    }\n",
       "\n",
       "    .dataframe thead th {\n",
       "        text-align: right;\n",
       "    }\n",
       "</style>\n",
       "<table border=\"1\" class=\"dataframe\">\n",
       "  <thead>\n",
       "    <tr style=\"text-align: right;\">\n",
       "      <th></th>\n",
       "      <th>ID</th>\n",
       "      <th>Question</th>\n",
       "    </tr>\n",
       "  </thead>\n",
       "  <tbody>\n",
       "    <tr>\n",
       "      <th>0</th>\n",
       "      <td>7</td>\n",
       "      <td>Have you ever sought treatment for a mental health disorder from a mental health professional?</td>\n",
       "    </tr>\n",
       "  </tbody>\n",
       "</table>\n",
       "</div>"
      ],
      "text/plain": [
       "   ID  \\\n",
       "0   7   \n",
       "\n",
       "                                                                                         Question  \n",
       "0  Have you ever sought treatment for a mental health disorder from a mental health professional?  "
      ]
     },
     "metadata": {},
     "output_type": "display_data"
    },
    {
     "data": {
      "text/html": [
       "<div>\n",
       "<style scoped>\n",
       "    .dataframe tbody tr th:only-of-type {\n",
       "        vertical-align: middle;\n",
       "    }\n",
       "\n",
       "    .dataframe tbody tr th {\n",
       "        vertical-align: top;\n",
       "    }\n",
       "\n",
       "    .dataframe thead th {\n",
       "        text-align: right;\n",
       "    }\n",
       "</style>\n",
       "<table border=\"1\" class=\"dataframe\">\n",
       "  <thead>\n",
       "    <tr style=\"text-align: right;\">\n",
       "      <th></th>\n",
       "      <th>ever_sought_prof_mhd_treatment</th>\n",
       "      <th>n</th>\n",
       "      <th>percent</th>\n",
       "    </tr>\n",
       "  </thead>\n",
       "  <tbody>\n",
       "    <tr>\n",
       "      <th>0</th>\n",
       "      <td>Yes</td>\n",
       "      <td>2412</td>\n",
       "      <td>57.2%</td>\n",
       "    </tr>\n",
       "    <tr>\n",
       "      <th>1</th>\n",
       "      <td>No</td>\n",
       "      <td>1806</td>\n",
       "      <td>42.8%</td>\n",
       "    </tr>\n",
       "  </tbody>\n",
       "</table>\n",
       "</div>"
      ],
      "text/plain": [
       "  ever_sought_prof_mhd_treatment     n percent\n",
       "0                            Yes  2412   57.2%\n",
       "1                             No  1806   42.8%"
      ]
     },
     "execution_count": 49,
     "metadata": {},
     "output_type": "execute_result"
    },
    {
     "data": {
      "image/png": "[encoded data removed]",
      "text/plain": [
       "<Figure size 700x300 with 1 Axes>"
      ]
     },
     "metadata": {},
     "output_type": "display_data"
    }
   ],
   "source": [
    "print_questions(7)\n",
    "\n",
    "f_tab = my.calc_counts_and_percentages(\"ever_sought_prof_mhd_treatment\", ds)\n",
    "my.plot_counts_with_labels(\n",
    "    f_tab,\n",
    "    rot=0,\n",
    "    color=[blue, orange],\n",
    "    x_lab=\"\",\n",
    "    title=\"Ever Sought Professional MHD Treatment\",\n",
    ")\n",
    "f_tab"
   ]
  },
  {
   "cell_type": "markdown",
   "id": "c84c5338",
   "metadata": {},
   "source": [
    "Let's look into data divided to groups. Firstly, let's group by the year of survey."
   ]
  },
  {
   "cell_type": "code",
   "execution_count": 50,
   "id": "e08b7069",
   "metadata": {},
   "outputs": [
    {
     "data": {
      "text/html": [
       "<div>\n",
       "<style scoped>\n",
       "    .dataframe tbody tr th:only-of-type {\n",
       "        vertical-align: middle;\n",
       "    }\n",
       "\n",
       "    .dataframe tbody tr th {\n",
       "        vertical-align: top;\n",
       "    }\n",
       "\n",
       "    .dataframe thead th {\n",
       "        text-align: right;\n",
       "    }\n",
       "</style>\n",
       "<table border=\"1\" class=\"dataframe\">\n",
       "  <thead>\n",
       "    <tr style=\"text-align: right;\">\n",
       "      <th>ever_sought_prof_mhd_treatment</th>\n",
       "      <th>Yes</th>\n",
       "      <th>No</th>\n",
       "    </tr>\n",
       "    <tr>\n",
       "      <th>year</th>\n",
       "      <th></th>\n",
       "      <th></th>\n",
       "    </tr>\n",
       "  </thead>\n",
       "  <tbody>\n",
       "    <tr>\n",
       "      <th>2014</th>\n",
       "      <td>637</td>\n",
       "      <td>623</td>\n",
       "    </tr>\n",
       "    <tr>\n",
       "      <th>2016</th>\n",
       "      <td>839</td>\n",
       "      <td>594</td>\n",
       "    </tr>\n",
       "    <tr>\n",
       "      <th>2017</th>\n",
       "      <td>456</td>\n",
       "      <td>300</td>\n",
       "    </tr>\n",
       "    <tr>\n",
       "      <th>2018</th>\n",
       "      <td>263</td>\n",
       "      <td>154</td>\n",
       "    </tr>\n",
       "    <tr>\n",
       "      <th>2019</th>\n",
       "      <td>217</td>\n",
       "      <td>135</td>\n",
       "    </tr>\n",
       "  </tbody>\n",
       "</table>\n",
       "</div>"
      ],
      "text/plain": [
       "ever_sought_prof_mhd_treatment  Yes   No\n",
       "year                                    \n",
       "2014                            637  623\n",
       "2016                            839  594\n",
       "2017                            456  300\n",
       "2018                            263  154\n",
       "2019                            217  135"
      ]
     },
     "execution_count": 50,
     "metadata": {},
     "output_type": "execute_result"
    },
    {
     "data": {
      "image/png": "[encoded data removed]",
      "text/plain": [
       "<Figure size 700x300 with 1 Axes>"
      ]
     },
     "metadata": {},
     "output_type": "display_data"
    }
   ],
   "source": [
    "c_tab = my.crosstab(ds, \"year\", \"ever_sought_prof_mhd_treatment\")\n",
    "my.plot_crosstab_as_barplot(\n",
    "    c_tab,\n",
    "    xlabel=\"Survey year\",\n",
    "    title=\"Ever Sought Professional MHD Treatment\",\n",
    "    ylim=[None, 80],\n",
    ")\n",
    "plt.gca().legend(frameon=False, title=\"Ever sought MHD help\", ncol=2)\n",
    "c_tab"
   ]
  },
  {
   "cell_type": "code",
   "execution_count": 51,
   "id": "82195222",
   "metadata": {},
   "outputs": [
    {
     "name": "stdout",
     "output_type": "stream",
     "text": [
      "Question:\n"
     ]
    },
    {
     "data": {
      "text/html": [
       "<div>\n",
       "<style scoped>\n",
       "    .dataframe tbody tr th:only-of-type {\n",
       "        vertical-align: middle;\n",
       "    }\n",
       "\n",
       "    .dataframe tbody tr th {\n",
       "        vertical-align: top;\n",
       "    }\n",
       "\n",
       "    .dataframe thead th {\n",
       "        text-align: right;\n",
       "    }\n",
       "</style>\n",
       "<table border=\"1\" class=\"dataframe\">\n",
       "  <thead>\n",
       "    <tr style=\"text-align: right;\">\n",
       "      <th></th>\n",
       "      <th>ID</th>\n",
       "      <th>Question</th>\n",
       "    </tr>\n",
       "  </thead>\n",
       "  <tbody>\n",
       "    <tr>\n",
       "      <th>0</th>\n",
       "      <td>2</td>\n",
       "      <td>What is your gender?</td>\n",
       "    </tr>\n",
       "  </tbody>\n",
       "</table>\n",
       "</div>"
      ],
      "text/plain": [
       "   ID              Question\n",
       "0   2  What is your gender?"
      ]
     },
     "metadata": {},
     "output_type": "display_data"
    },
    {
     "data": {
      "text/html": [
       "<div>\n",
       "<style scoped>\n",
       "    .dataframe tbody tr th:only-of-type {\n",
       "        vertical-align: middle;\n",
       "    }\n",
       "\n",
       "    .dataframe tbody tr th {\n",
       "        vertical-align: top;\n",
       "    }\n",
       "\n",
       "    .dataframe thead th {\n",
       "        text-align: right;\n",
       "    }\n",
       "</style>\n",
       "<table border=\"1\" class=\"dataframe\">\n",
       "  <thead>\n",
       "    <tr style=\"text-align: right;\">\n",
       "      <th>ever_sought_prof_mhd_treatment</th>\n",
       "      <th>Yes</th>\n",
       "      <th>No</th>\n",
       "    </tr>\n",
       "    <tr>\n",
       "      <th>gender</th>\n",
       "      <th></th>\n",
       "      <th></th>\n",
       "    </tr>\n",
       "  </thead>\n",
       "  <tbody>\n",
       "    <tr>\n",
       "      <th>Female</th>\n",
       "      <td>747</td>\n",
       "      <td>278</td>\n",
       "    </tr>\n",
       "    <tr>\n",
       "      <th>Male</th>\n",
       "      <td>1552</td>\n",
       "      <td>1494</td>\n",
       "    </tr>\n",
       "    <tr>\n",
       "      <th>Other/Unknown</th>\n",
       "      <td>113</td>\n",
       "      <td>34</td>\n",
       "    </tr>\n",
       "  </tbody>\n",
       "</table>\n",
       "</div>"
      ],
      "text/plain": [
       "ever_sought_prof_mhd_treatment   Yes    No\n",
       "gender                                    \n",
       "Female                           747   278\n",
       "Male                            1552  1494\n",
       "Other/Unknown                    113    34"
      ]
     },
     "execution_count": 51,
     "metadata": {},
     "output_type": "execute_result"
    },
    {
     "data": {
      "image/png": "[encoded data removed]",
      "text/plain": [
       "<Figure size 700x300 with 1 Axes>"
      ]
     },
     "metadata": {},
     "output_type": "display_data"
    }
   ],
   "source": [
    "print_questions(2)\n",
    "\n",
    "c_tab = my.crosstab(ds, \"gender\", \"ever_sought_prof_mhd_treatment\")\n",
    "my.plot_crosstab_as_barplot(\n",
    "    c_tab,\n",
    "    ylim=[None, 80],\n",
    "    xlabel=\"Gender\",\n",
    "    title=\"Ever Sought Professional MHD Treatment\",\n",
    ")\n",
    "plt.gca().legend(frameon=False, title=\"Ever sought MHD help\", ncol=2)\n",
    "c_tab"
   ]
  },
  {
   "cell_type": "code",
   "execution_count": 52,
   "id": "78201a13",
   "metadata": {},
   "outputs": [
    {
     "name": "stdout",
     "output_type": "stream",
     "text": [
      "Question:\n"
     ]
    },
    {
     "data": {
      "text/html": [
       "<div>\n",
       "<style scoped>\n",
       "    .dataframe tbody tr th:only-of-type {\n",
       "        vertical-align: middle;\n",
       "    }\n",
       "\n",
       "    .dataframe tbody tr th {\n",
       "        vertical-align: top;\n",
       "    }\n",
       "\n",
       "    .dataframe thead th {\n",
       "        text-align: right;\n",
       "    }\n",
       "</style>\n",
       "<table border=\"1\" class=\"dataframe\">\n",
       "  <thead>\n",
       "    <tr style=\"text-align: right;\">\n",
       "      <th></th>\n",
       "      <th>ID</th>\n",
       "      <th>Question</th>\n",
       "    </tr>\n",
       "  </thead>\n",
       "  <tbody>\n",
       "    <tr>\n",
       "      <th>0</th>\n",
       "      <td>1</td>\n",
       "      <td>What is your age?</td>\n",
       "    </tr>\n",
       "  </tbody>\n",
       "</table>\n",
       "</div>"
      ],
      "text/plain": [
       "   ID           Question\n",
       "0   1  What is your age?"
      ]
     },
     "metadata": {},
     "output_type": "display_data"
    },
    {
     "data": {
      "text/html": [
       "<div>\n",
       "<style scoped>\n",
       "    .dataframe tbody tr th:only-of-type {\n",
       "        vertical-align: middle;\n",
       "    }\n",
       "\n",
       "    .dataframe tbody tr th {\n",
       "        vertical-align: top;\n",
       "    }\n",
       "\n",
       "    .dataframe thead th {\n",
       "        text-align: right;\n",
       "    }\n",
       "</style>\n",
       "<table border=\"1\" class=\"dataframe\">\n",
       "  <thead>\n",
       "    <tr style=\"text-align: right;\">\n",
       "      <th>ever_sought_prof_mhd_treatment</th>\n",
       "      <th>Yes</th>\n",
       "      <th>No</th>\n",
       "    </tr>\n",
       "    <tr>\n",
       "      <th>age_group</th>\n",
       "      <th></th>\n",
       "      <th></th>\n",
       "    </tr>\n",
       "  </thead>\n",
       "  <tbody>\n",
       "    <tr>\n",
       "      <th>18-25</th>\n",
       "      <td>276</td>\n",
       "      <td>265</td>\n",
       "    </tr>\n",
       "    <tr>\n",
       "      <th>26-30</th>\n",
       "      <td>605</td>\n",
       "      <td>485</td>\n",
       "    </tr>\n",
       "    <tr>\n",
       "      <th>31-35</th>\n",
       "      <td>616</td>\n",
       "      <td>438</td>\n",
       "    </tr>\n",
       "    <tr>\n",
       "      <th>36-40</th>\n",
       "      <td>428</td>\n",
       "      <td>322</td>\n",
       "    </tr>\n",
       "    <tr>\n",
       "      <th>41-45</th>\n",
       "      <td>247</td>\n",
       "      <td>165</td>\n",
       "    </tr>\n",
       "    <tr>\n",
       "      <th>46-50</th>\n",
       "      <td>117</td>\n",
       "      <td>74</td>\n",
       "    </tr>\n",
       "    <tr>\n",
       "      <th>51-55</th>\n",
       "      <td>62</td>\n",
       "      <td>31</td>\n",
       "    </tr>\n",
       "    <tr>\n",
       "      <th>56-60</th>\n",
       "      <td>28</td>\n",
       "      <td>15</td>\n",
       "    </tr>\n",
       "    <tr>\n",
       "      <th>61-65</th>\n",
       "      <td>17</td>\n",
       "      <td>4</td>\n",
       "    </tr>\n",
       "    <tr>\n",
       "      <th>66-70</th>\n",
       "      <td>5</td>\n",
       "      <td>0</td>\n",
       "    </tr>\n",
       "    <tr>\n",
       "      <th>71-75</th>\n",
       "      <td>2</td>\n",
       "      <td>0</td>\n",
       "    </tr>\n",
       "  </tbody>\n",
       "</table>\n",
       "</div>"
      ],
      "text/plain": [
       "ever_sought_prof_mhd_treatment  Yes   No\n",
       "age_group                               \n",
       "18-25                           276  265\n",
       "26-30                           605  485\n",
       "31-35                           616  438\n",
       "36-40                           428  322\n",
       "41-45                           247  165\n",
       "46-50                           117   74\n",
       "51-55                            62   31\n",
       "56-60                            28   15\n",
       "61-65                            17    4\n",
       "66-70                             5    0\n",
       "71-75                             2    0"
      ]
     },
     "execution_count": 52,
     "metadata": {},
     "output_type": "execute_result"
    },
    {
     "data": {
      "image/png": "[encoded data removed]",
      "text/plain": [
       "<Figure size 700x300 with 1 Axes>"
      ]
     },
     "metadata": {},
     "output_type": "display_data"
    }
   ],
   "source": [
    "print_questions(1)\n",
    "\n",
    "c_tab = my.crosstab(ds, \"age_group\", \"ever_sought_prof_mhd_treatment\")\n",
    "my.plot_crosstab_as_barplot(\n",
    "    c_tab,\n",
    "    xlabel=\"Age, years old\",\n",
    "    title=\"Ever Sought Professional MHD Treatment\",\n",
    ")\n",
    "plt.gca().legend(frameon=False, title=\"Ever sought MHD help\", ncol=2)\n",
    "c_tab"
   ]
  },
  {
   "cell_type": "markdown",
   "id": "06660f65",
   "metadata": {},
   "source": [
    "Two most representative (by number of respondents) regions are included:"
   ]
  },
  {
   "cell_type": "code",
   "execution_count": 53,
   "id": "1b18e32d",
   "metadata": {},
   "outputs": [
    {
     "data": {
      "text/html": [
       "<div>\n",
       "<style scoped>\n",
       "    .dataframe tbody tr th:only-of-type {\n",
       "        vertical-align: middle;\n",
       "    }\n",
       "\n",
       "    .dataframe tbody tr th {\n",
       "        vertical-align: top;\n",
       "    }\n",
       "\n",
       "    .dataframe thead th {\n",
       "        text-align: right;\n",
       "    }\n",
       "</style>\n",
       "<table border=\"1\" class=\"dataframe\">\n",
       "  <thead>\n",
       "    <tr style=\"text-align: right;\">\n",
       "      <th>ever_sought_prof_mhd_treatment</th>\n",
       "      <th>Yes</th>\n",
       "      <th>No</th>\n",
       "    </tr>\n",
       "    <tr>\n",
       "      <th>region</th>\n",
       "      <th></th>\n",
       "      <th></th>\n",
       "    </tr>\n",
       "  </thead>\n",
       "  <tbody>\n",
       "    <tr>\n",
       "      <th>Europe</th>\n",
       "      <td>516</td>\n",
       "      <td>595</td>\n",
       "    </tr>\n",
       "    <tr>\n",
       "      <th>North America</th>\n",
       "      <td>1757</td>\n",
       "      <td>1047</td>\n",
       "    </tr>\n",
       "  </tbody>\n",
       "</table>\n",
       "</div>"
      ],
      "text/plain": [
       "ever_sought_prof_mhd_treatment   Yes    No\n",
       "region                                    \n",
       "Europe                           516   595\n",
       "North America                   1757  1047"
      ]
     },
     "execution_count": 53,
     "metadata": {},
     "output_type": "execute_result"
    },
    {
     "data": {
      "image/png": "[encoded data removed]",
      "text/plain": [
       "<Figure size 700x300 with 1 Axes>"
      ]
     },
     "metadata": {},
     "output_type": "display_data"
    }
   ],
   "source": [
    "c_tab = my.crosstab(\n",
    "    ds.query(\"region in ['Europe', 'North America']\"),\n",
    "    \"region\",\n",
    "    \"ever_sought_prof_mhd_treatment\",\n",
    ")\n",
    "my.plot_crosstab_as_barplot(\n",
    "    c_tab,\n",
    "    ylim=[None, 80],\n",
    "    xlabel=\"Region\",\n",
    "    title=\"Ever Sought Professional MHD Treatment\",\n",
    "    rot=0,\n",
    ")\n",
    "plt.gca().legend(frameon=False, title=\"Ever sought MHD help\", ncol=2)\n",
    "c_tab"
   ]
  },
  {
   "cell_type": "code",
   "execution_count": 54,
   "id": "5124ae89",
   "metadata": {},
   "outputs": [
    {
     "name": "stdout",
     "output_type": "stream",
     "text": [
      "Question:\n"
     ]
    },
    {
     "data": {
      "text/html": [
       "<div>\n",
       "<style scoped>\n",
       "    .dataframe tbody tr th:only-of-type {\n",
       "        vertical-align: middle;\n",
       "    }\n",
       "\n",
       "    .dataframe tbody tr th {\n",
       "        vertical-align: top;\n",
       "    }\n",
       "\n",
       "    .dataframe thead th {\n",
       "        text-align: right;\n",
       "    }\n",
       "</style>\n",
       "<table border=\"1\" class=\"dataframe\">\n",
       "  <thead>\n",
       "    <tr style=\"text-align: right;\">\n",
       "      <th></th>\n",
       "      <th>ID</th>\n",
       "      <th>Question</th>\n",
       "    </tr>\n",
       "  </thead>\n",
       "  <tbody>\n",
       "    <tr>\n",
       "      <th>0</th>\n",
       "      <td>5</td>\n",
       "      <td>Are you self-employed?</td>\n",
       "    </tr>\n",
       "  </tbody>\n",
       "</table>\n",
       "</div>"
      ],
      "text/plain": [
       "   ID                Question\n",
       "0   5  Are you self-employed?"
      ]
     },
     "metadata": {},
     "output_type": "display_data"
    },
    {
     "data": {
      "text/html": [
       "<div>\n",
       "<style scoped>\n",
       "    .dataframe tbody tr th:only-of-type {\n",
       "        vertical-align: middle;\n",
       "    }\n",
       "\n",
       "    .dataframe tbody tr th {\n",
       "        vertical-align: top;\n",
       "    }\n",
       "\n",
       "    .dataframe thead th {\n",
       "        text-align: right;\n",
       "    }\n",
       "</style>\n",
       "<table border=\"1\" class=\"dataframe\">\n",
       "  <thead>\n",
       "    <tr style=\"text-align: right;\">\n",
       "      <th>ever_sought_prof_mhd_treatment</th>\n",
       "      <th>Yes</th>\n",
       "      <th>No</th>\n",
       "    </tr>\n",
       "    <tr>\n",
       "      <th>self_employed</th>\n",
       "      <th></th>\n",
       "      <th></th>\n",
       "    </tr>\n",
       "  </thead>\n",
       "  <tbody>\n",
       "    <tr>\n",
       "      <th>Yes</th>\n",
       "      <td>390</td>\n",
       "      <td>260</td>\n",
       "    </tr>\n",
       "    <tr>\n",
       "      <th>No</th>\n",
       "      <td>2013</td>\n",
       "      <td>1537</td>\n",
       "    </tr>\n",
       "  </tbody>\n",
       "</table>\n",
       "</div>"
      ],
      "text/plain": [
       "ever_sought_prof_mhd_treatment   Yes    No\n",
       "self_employed                             \n",
       "Yes                              390   260\n",
       "No                              2013  1537"
      ]
     },
     "execution_count": 54,
     "metadata": {},
     "output_type": "execute_result"
    },
    {
     "data": {
      "image/png": "[encoded data removed]",
      "text/plain": [
       "<Figure size 700x300 with 1 Axes>"
      ]
     },
     "metadata": {},
     "output_type": "display_data"
    }
   ],
   "source": [
    "print_questions(5)\n",
    "\n",
    "c_tab = my.crosstab(ds, \"self_employed\", \"ever_sought_prof_mhd_treatment\")\n",
    "my.plot_crosstab_as_barplot(\n",
    "    c_tab,\n",
    "    xlabel=\"Self employed\",\n",
    "    title=\"Ever Sought Professional MHD Treatment\",\n",
    "    ylim=[None, 80],\n",
    ")\n",
    "plt.gca().legend(frameon=False, title=\"Ever sought MHD help\", ncol=2)\n",
    "c_tab"
   ]
  },
  {
   "cell_type": "code",
   "execution_count": 55,
   "id": "916ce7dd",
   "metadata": {},
   "outputs": [
    {
     "name": "stdout",
     "output_type": "stream",
     "text": [
      "Question:\n"
     ]
    },
    {
     "data": {
      "text/html": [
       "<div>\n",
       "<style scoped>\n",
       "    .dataframe tbody tr th:only-of-type {\n",
       "        vertical-align: middle;\n",
       "    }\n",
       "\n",
       "    .dataframe tbody tr th {\n",
       "        vertical-align: top;\n",
       "    }\n",
       "\n",
       "    .dataframe thead th {\n",
       "        text-align: right;\n",
       "    }\n",
       "</style>\n",
       "<table border=\"1\" class=\"dataframe\">\n",
       "  <thead>\n",
       "    <tr style=\"text-align: right;\">\n",
       "      <th></th>\n",
       "      <th>ID</th>\n",
       "      <th>Question</th>\n",
       "    </tr>\n",
       "  </thead>\n",
       "  <tbody>\n",
       "    <tr>\n",
       "      <th>0</th>\n",
       "      <td>8</td>\n",
       "      <td>How many employees does your company or organization have?</td>\n",
       "    </tr>\n",
       "  </tbody>\n",
       "</table>\n",
       "</div>"
      ],
      "text/plain": [
       "   ID                                                    Question\n",
       "0   8  How many employees does your company or organization have?"
      ]
     },
     "metadata": {},
     "output_type": "display_data"
    },
    {
     "data": {
      "text/html": [
       "<div>\n",
       "<style scoped>\n",
       "    .dataframe tbody tr th:only-of-type {\n",
       "        vertical-align: middle;\n",
       "    }\n",
       "\n",
       "    .dataframe tbody tr th {\n",
       "        vertical-align: top;\n",
       "    }\n",
       "\n",
       "    .dataframe thead th {\n",
       "        text-align: right;\n",
       "    }\n",
       "</style>\n",
       "<table border=\"1\" class=\"dataframe\">\n",
       "  <thead>\n",
       "    <tr style=\"text-align: right;\">\n",
       "      <th>ever_sought_prof_mhd_treatment</th>\n",
       "      <th>Yes</th>\n",
       "      <th>No</th>\n",
       "    </tr>\n",
       "    <tr>\n",
       "      <th>company_size_3</th>\n",
       "      <th></th>\n",
       "      <th></th>\n",
       "    </tr>\n",
       "  </thead>\n",
       "  <tbody>\n",
       "    <tr>\n",
       "      <th>A. 1-100</th>\n",
       "      <td>916</td>\n",
       "      <td>851</td>\n",
       "    </tr>\n",
       "    <tr>\n",
       "      <th>B. 100-1000</th>\n",
       "      <td>634</td>\n",
       "      <td>401</td>\n",
       "    </tr>\n",
       "    <tr>\n",
       "      <th>C. More than 1000</th>\n",
       "      <td>550</td>\n",
       "      <td>362</td>\n",
       "    </tr>\n",
       "  </tbody>\n",
       "</table>\n",
       "</div>"
      ],
      "text/plain": [
       "ever_sought_prof_mhd_treatment  Yes   No\n",
       "company_size_3                          \n",
       "A. 1-100                        916  851\n",
       "B. 100-1000                     634  401\n",
       "C. More than 1000               550  362"
      ]
     },
     "execution_count": 55,
     "metadata": {},
     "output_type": "execute_result"
    },
    {
     "data": {
      "image/png": "[encoded data removed]",
      "text/plain": [
       "<Figure size 700x300 with 1 Axes>"
      ]
     },
     "metadata": {},
     "output_type": "display_data"
    }
   ],
   "source": [
    "print_questions(8)\n",
    "\n",
    "c_tab = my.crosstab(ds, \"company_size_3\", \"ever_sought_prof_mhd_treatment\")\n",
    "my.plot_crosstab_as_barplot(\n",
    "    c_tab,\n",
    "    xlabel=\"Company size, number of employees\",\n",
    "    title=\"Ever Sought Professional MHD Treatment\",\n",
    "    ylim=[None, 80],\n",
    ")\n",
    "plt.gca().legend(frameon=False, title=\"Ever sought MHD help\", ncol=2)\n",
    "c_tab"
   ]
  },
  {
   "cell_type": "code",
   "execution_count": 56,
   "id": "07a77e29",
   "metadata": {},
   "outputs": [
    {
     "name": "stdout",
     "output_type": "stream",
     "text": [
      "Question:\n"
     ]
    },
    {
     "data": {
      "text/html": [
       "<div>\n",
       "<style scoped>\n",
       "    .dataframe tbody tr th:only-of-type {\n",
       "        vertical-align: middle;\n",
       "    }\n",
       "\n",
       "    .dataframe tbody tr th {\n",
       "        vertical-align: top;\n",
       "    }\n",
       "\n",
       "    .dataframe thead th {\n",
       "        text-align: right;\n",
       "    }\n",
       "</style>\n",
       "<table border=\"1\" class=\"dataframe\">\n",
       "  <thead>\n",
       "    <tr style=\"text-align: right;\">\n",
       "      <th></th>\n",
       "      <th>ID</th>\n",
       "      <th>Question</th>\n",
       "    </tr>\n",
       "  </thead>\n",
       "  <tbody>\n",
       "    <tr>\n",
       "      <th>0</th>\n",
       "      <td>9</td>\n",
       "      <td>Is your employer primarily a tech company/organization?</td>\n",
       "    </tr>\n",
       "  </tbody>\n",
       "</table>\n",
       "</div>"
      ],
      "text/plain": [
       "   ID                                                 Question\n",
       "0   9  Is your employer primarily a tech company/organization?"
      ]
     },
     "metadata": {},
     "output_type": "display_data"
    },
    {
     "data": {
      "text/html": [
       "<div>\n",
       "<style scoped>\n",
       "    .dataframe tbody tr th:only-of-type {\n",
       "        vertical-align: middle;\n",
       "    }\n",
       "\n",
       "    .dataframe tbody tr th {\n",
       "        vertical-align: top;\n",
       "    }\n",
       "\n",
       "    .dataframe thead th {\n",
       "        text-align: right;\n",
       "    }\n",
       "</style>\n",
       "<table border=\"1\" class=\"dataframe\">\n",
       "  <thead>\n",
       "    <tr style=\"text-align: right;\">\n",
       "      <th>ever_sought_prof_mhd_treatment</th>\n",
       "      <th>Yes</th>\n",
       "      <th>No</th>\n",
       "    </tr>\n",
       "    <tr>\n",
       "      <th>is_tech_org</th>\n",
       "      <th></th>\n",
       "      <th></th>\n",
       "    </tr>\n",
       "  </thead>\n",
       "  <tbody>\n",
       "    <tr>\n",
       "      <th>Yes</th>\n",
       "      <td>1618</td>\n",
       "      <td>1270</td>\n",
       "    </tr>\n",
       "    <tr>\n",
       "      <th>No</th>\n",
       "      <td>482</td>\n",
       "      <td>344</td>\n",
       "    </tr>\n",
       "  </tbody>\n",
       "</table>\n",
       "</div>"
      ],
      "text/plain": [
       "ever_sought_prof_mhd_treatment   Yes    No\n",
       "is_tech_org                               \n",
       "Yes                             1618  1270\n",
       "No                               482   344"
      ]
     },
     "execution_count": 56,
     "metadata": {},
     "output_type": "execute_result"
    },
    {
     "data": {
      "image/png": "[encoded data removed]",
      "text/plain": [
       "<Figure size 700x300 with 1 Axes>"
      ]
     },
     "metadata": {},
     "output_type": "display_data"
    }
   ],
   "source": [
    "print_questions(9)\n",
    "\n",
    "c_tab = my.crosstab(ds, \"is_tech_org\", \"ever_sought_prof_mhd_treatment\")\n",
    "my.plot_crosstab_as_barplot(\n",
    "    c_tab,\n",
    "    xlabel=\"Work at tech company\",\n",
    "    title=\"Ever Sought Professional MHD Treatment\",\n",
    "    ylim=[None, 80],\n",
    ")\n",
    "plt.gca().legend(frameon=False, title=\"Ever sought MHD help\", ncol=2)\n",
    "c_tab"
   ]
  },
  {
   "cell_type": "code",
   "execution_count": 57,
   "id": "789c6b6e",
   "metadata": {},
   "outputs": [
    {
     "name": "stdout",
     "output_type": "stream",
     "text": [
      "Question:\n"
     ]
    },
    {
     "data": {
      "text/html": [
       "<div>\n",
       "<style scoped>\n",
       "    .dataframe tbody tr th:only-of-type {\n",
       "        vertical-align: middle;\n",
       "    }\n",
       "\n",
       "    .dataframe tbody tr th {\n",
       "        vertical-align: top;\n",
       "    }\n",
       "\n",
       "    .dataframe thead th {\n",
       "        text-align: right;\n",
       "    }\n",
       "</style>\n",
       "<table border=\"1\" class=\"dataframe\">\n",
       "  <thead>\n",
       "    <tr style=\"text-align: right;\">\n",
       "      <th></th>\n",
       "      <th>ID</th>\n",
       "      <th>Question</th>\n",
       "    </tr>\n",
       "  </thead>\n",
       "  <tbody>\n",
       "    <tr>\n",
       "      <th>0</th>\n",
       "      <td>13</td>\n",
       "      <td>Is your primary role within your company related to tech/IT?</td>\n",
       "    </tr>\n",
       "  </tbody>\n",
       "</table>\n",
       "</div>"
      ],
      "text/plain": [
       "   ID                                                      Question\n",
       "0  13  Is your primary role within your company related to tech/IT?"
      ]
     },
     "metadata": {},
     "output_type": "display_data"
    },
    {
     "data": {
      "text/html": [
       "<div>\n",
       "<style scoped>\n",
       "    .dataframe tbody tr th:only-of-type {\n",
       "        vertical-align: middle;\n",
       "    }\n",
       "\n",
       "    .dataframe tbody tr th {\n",
       "        vertical-align: top;\n",
       "    }\n",
       "\n",
       "    .dataframe thead th {\n",
       "        text-align: right;\n",
       "    }\n",
       "</style>\n",
       "<table border=\"1\" class=\"dataframe\">\n",
       "  <thead>\n",
       "    <tr style=\"text-align: right;\">\n",
       "      <th>ever_sought_prof_mhd_treatment</th>\n",
       "      <th>Yes</th>\n",
       "      <th>No</th>\n",
       "    </tr>\n",
       "    <tr>\n",
       "      <th>is_tech_it_role</th>\n",
       "      <th></th>\n",
       "      <th></th>\n",
       "    </tr>\n",
       "  </thead>\n",
       "  <tbody>\n",
       "    <tr>\n",
       "      <th>Yes</th>\n",
       "      <td>891</td>\n",
       "      <td>580</td>\n",
       "    </tr>\n",
       "    <tr>\n",
       "      <th>No</th>\n",
       "      <td>66</td>\n",
       "      <td>34</td>\n",
       "    </tr>\n",
       "  </tbody>\n",
       "</table>\n",
       "</div>"
      ],
      "text/plain": [
       "ever_sought_prof_mhd_treatment  Yes   No\n",
       "is_tech_it_role                         \n",
       "Yes                             891  580\n",
       "No                               66   34"
      ]
     },
     "execution_count": 57,
     "metadata": {},
     "output_type": "execute_result"
    },
    {
     "data": {
      "image/png": "[encoded data removed]",
      "text/plain": [
       "<Figure size 700x300 with 1 Axes>"
      ]
     },
     "metadata": {},
     "output_type": "display_data"
    }
   ],
   "source": [
    "print_questions(13)\n",
    "\n",
    "c_tab = my.crosstab(ds, \"is_tech_it_role\", \"ever_sought_prof_mhd_treatment\")\n",
    "my.plot_crosstab_as_barplot(\n",
    "    c_tab,\n",
    "    xlabel=\"Tech/IT role\",\n",
    "    title=\"Ever Sought Professional MHD Treatment\",\n",
    "    ylim=[None, 80],\n",
    ")\n",
    "plt.gca().legend(frameon=False, title=\"Ever sought MHD help\", ncol=2)\n",
    "c_tab"
   ]
  },
  {
   "cell_type": "code",
   "execution_count": 58,
   "id": "a841fc52",
   "metadata": {},
   "outputs": [
    {
     "name": "stdout",
     "output_type": "stream",
     "text": [
      "Question:\n"
     ]
    },
    {
     "data": {
      "text/html": [
       "<div>\n",
       "<style scoped>\n",
       "    .dataframe tbody tr th:only-of-type {\n",
       "        vertical-align: middle;\n",
       "    }\n",
       "\n",
       "    .dataframe tbody tr th {\n",
       "        vertical-align: top;\n",
       "    }\n",
       "\n",
       "    .dataframe thead th {\n",
       "        text-align: right;\n",
       "    }\n",
       "</style>\n",
       "<table border=\"1\" class=\"dataframe\">\n",
       "  <thead>\n",
       "    <tr style=\"text-align: right;\">\n",
       "      <th></th>\n",
       "      <th>ID</th>\n",
       "      <th>Question</th>\n",
       "    </tr>\n",
       "  </thead>\n",
       "  <tbody>\n",
       "    <tr>\n",
       "      <th>0</th>\n",
       "      <td>16</td>\n",
       "      <td>Does your employer offer resources to learn more about mental health disorders and options for seeking help?</td>\n",
       "    </tr>\n",
       "  </tbody>\n",
       "</table>\n",
       "</div>"
      ],
      "text/plain": [
       "   ID  \\\n",
       "0  16   \n",
       "\n",
       "                                                                                                       Question  \n",
       "0  Does your employer offer resources to learn more about mental health disorders and options for seeking help?  "
      ]
     },
     "metadata": {},
     "output_type": "display_data"
    },
    {
     "data": {
      "text/html": [
       "<div>\n",
       "<style scoped>\n",
       "    .dataframe tbody tr th:only-of-type {\n",
       "        vertical-align: middle;\n",
       "    }\n",
       "\n",
       "    .dataframe tbody tr th {\n",
       "        vertical-align: top;\n",
       "    }\n",
       "\n",
       "    .dataframe thead th {\n",
       "        text-align: right;\n",
       "    }\n",
       "</style>\n",
       "<table border=\"1\" class=\"dataframe\">\n",
       "  <thead>\n",
       "    <tr style=\"text-align: right;\">\n",
       "      <th>ever_sought_prof_mhd_treatment</th>\n",
       "      <th>Yes</th>\n",
       "      <th>No</th>\n",
       "    </tr>\n",
       "    <tr>\n",
       "      <th>employer_teach</th>\n",
       "      <th></th>\n",
       "      <th></th>\n",
       "    </tr>\n",
       "  </thead>\n",
       "  <tbody>\n",
       "    <tr>\n",
       "      <th>Yes</th>\n",
       "      <td>475</td>\n",
       "      <td>227</td>\n",
       "    </tr>\n",
       "    <tr>\n",
       "      <th>No</th>\n",
       "      <td>627</td>\n",
       "      <td>457</td>\n",
       "    </tr>\n",
       "    <tr>\n",
       "      <th>Don't know</th>\n",
       "      <td>361</td>\n",
       "      <td>307</td>\n",
       "    </tr>\n",
       "  </tbody>\n",
       "</table>\n",
       "</div>"
      ],
      "text/plain": [
       "ever_sought_prof_mhd_treatment  Yes   No\n",
       "employer_teach                          \n",
       "Yes                             475  227\n",
       "No                              627  457\n",
       "Don't know                      361  307"
      ]
     },
     "execution_count": 58,
     "metadata": {},
     "output_type": "execute_result"
    },
    {
     "data": {
      "image/png": "[encoded data removed]",
      "text/plain": [
       "<Figure size 700x300 with 1 Axes>"
      ]
     },
     "metadata": {},
     "output_type": "display_data"
    }
   ],
   "source": [
    "print_questions(16)\n",
    "\n",
    "c_tab = my.crosstab(ds, \"employer_teach\", \"ever_sought_prof_mhd_treatment\")\n",
    "my.plot_crosstab_as_barplot(\n",
    "    c_tab,\n",
    "    xlabel=\"Received MHD related training at work\",\n",
    "    title=\"Ever Sought Professional MHD Treatment\",\n",
    "    ylim=[None, 80],\n",
    ")\n",
    "plt.gca().legend(frameon=False, title=\"Ever sought MHD help\", ncol=2)\n",
    "c_tab"
   ]
  },
  {
   "cell_type": "code",
   "execution_count": 59,
   "id": "a436dffc",
   "metadata": {},
   "outputs": [
    {
     "name": "stdout",
     "output_type": "stream",
     "text": [
      "Question:\n"
     ]
    },
    {
     "data": {
      "text/html": [
       "<div>\n",
       "<style scoped>\n",
       "    .dataframe tbody tr th:only-of-type {\n",
       "        vertical-align: middle;\n",
       "    }\n",
       "\n",
       "    .dataframe tbody tr th {\n",
       "        vertical-align: top;\n",
       "    }\n",
       "\n",
       "    .dataframe thead th {\n",
       "        text-align: right;\n",
       "    }\n",
       "</style>\n",
       "<table border=\"1\" class=\"dataframe\">\n",
       "  <thead>\n",
       "    <tr style=\"text-align: right;\">\n",
       "      <th></th>\n",
       "      <th>ID</th>\n",
       "      <th>Question</th>\n",
       "    </tr>\n",
       "  </thead>\n",
       "  <tbody>\n",
       "    <tr>\n",
       "      <th>0</th>\n",
       "      <td>10</td>\n",
       "      <td>Does your employer provide mental health benefits as part of healthcare coverage?</td>\n",
       "    </tr>\n",
       "  </tbody>\n",
       "</table>\n",
       "</div>"
      ],
      "text/plain": [
       "   ID  \\\n",
       "0  10   \n",
       "\n",
       "                                                                            Question  \n",
       "0  Does your employer provide mental health benefits as part of healthcare coverage?  "
      ]
     },
     "metadata": {},
     "output_type": "display_data"
    },
    {
     "data": {
      "text/html": [
       "<div>\n",
       "<style scoped>\n",
       "    .dataframe tbody tr th:only-of-type {\n",
       "        vertical-align: middle;\n",
       "    }\n",
       "\n",
       "    .dataframe tbody tr th {\n",
       "        vertical-align: top;\n",
       "    }\n",
       "\n",
       "    .dataframe thead th {\n",
       "        text-align: right;\n",
       "    }\n",
       "</style>\n",
       "<table border=\"1\" class=\"dataframe\">\n",
       "  <thead>\n",
       "    <tr style=\"text-align: right;\">\n",
       "      <th>ever_sought_prof_mhd_treatment</th>\n",
       "      <th>Yes</th>\n",
       "      <th>No</th>\n",
       "    </tr>\n",
       "    <tr>\n",
       "      <th>employer_mental_healthcare</th>\n",
       "      <th></th>\n",
       "      <th></th>\n",
       "    </tr>\n",
       "  </thead>\n",
       "  <tbody>\n",
       "    <tr>\n",
       "      <th>Yes</th>\n",
       "      <td>1182</td>\n",
       "      <td>562</td>\n",
       "    </tr>\n",
       "    <tr>\n",
       "      <th>No</th>\n",
       "      <td>371</td>\n",
       "      <td>385</td>\n",
       "    </tr>\n",
       "    <tr>\n",
       "      <th>Not eligible for coverage</th>\n",
       "      <td>92</td>\n",
       "      <td>56</td>\n",
       "    </tr>\n",
       "    <tr>\n",
       "      <th>Don't know</th>\n",
       "      <td>455</td>\n",
       "      <td>611</td>\n",
       "    </tr>\n",
       "  </tbody>\n",
       "</table>\n",
       "</div>"
      ],
      "text/plain": [
       "ever_sought_prof_mhd_treatment   Yes   No\n",
       "employer_mental_healthcare               \n",
       "Yes                             1182  562\n",
       "No                               371  385\n",
       "Not eligible for coverage         92   56\n",
       "Don't know                       455  611"
      ]
     },
     "execution_count": 59,
     "metadata": {},
     "output_type": "execute_result"
    },
    {
     "data": {
      "image/png": "[encoded data removed]",
      "text/plain": [
       "<Figure size 700x300 with 1 Axes>"
      ]
     },
     "metadata": {},
     "output_type": "display_data"
    }
   ],
   "source": [
    "print_questions(10)\n",
    "\n",
    "c_tab = my.crosstab(\n",
    "    ds, \"employer_mental_healthcare\", \"ever_sought_prof_mhd_treatment\"\n",
    ")\n",
    "my.plot_crosstab_as_barplot(\n",
    "    c_tab,\n",
    "    ylim=[None, 80],\n",
    "    xlabel=\"Mental health benefits as health care coverage at work\",\n",
    "    title=\"Ever Sought Professional MHD Treatment\",\n",
    ")\n",
    "plt.gca().legend(frameon=False, title=\"Ever sought MHD help\", ncol=2)\n",
    "c_tab"
   ]
  },
  {
   "cell_type": "code",
   "execution_count": 60,
   "id": "e4b32df0",
   "metadata": {},
   "outputs": [
    {
     "name": "stdout",
     "output_type": "stream",
     "text": [
      "Question:\n"
     ]
    },
    {
     "data": {
      "text/html": [
       "<div>\n",
       "<style scoped>\n",
       "    .dataframe tbody tr th:only-of-type {\n",
       "        vertical-align: middle;\n",
       "    }\n",
       "\n",
       "    .dataframe tbody tr th {\n",
       "        vertical-align: top;\n",
       "    }\n",
       "\n",
       "    .dataframe thead th {\n",
       "        text-align: right;\n",
       "    }\n",
       "</style>\n",
       "<table border=\"1\" class=\"dataframe\">\n",
       "  <thead>\n",
       "    <tr style=\"text-align: right;\">\n",
       "      <th></th>\n",
       "      <th>ID</th>\n",
       "      <th>Question</th>\n",
       "    </tr>\n",
       "  </thead>\n",
       "  <tbody>\n",
       "    <tr>\n",
       "      <th>0</th>\n",
       "      <td>11</td>\n",
       "      <td>Is your anonymity protected if you choose to take advantage of mental health or substance abuse treatment resources provided by your employer?</td>\n",
       "    </tr>\n",
       "  </tbody>\n",
       "</table>\n",
       "</div>"
      ],
      "text/plain": [
       "   ID  \\\n",
       "0  11   \n",
       "\n",
       "                                                                                                                                         Question  \n",
       "0  Is your anonymity protected if you choose to take advantage of mental health or substance abuse treatment resources provided by your employer?  "
      ]
     },
     "metadata": {},
     "output_type": "display_data"
    },
    {
     "data": {
      "text/html": [
       "<div>\n",
       "<style scoped>\n",
       "    .dataframe tbody tr th:only-of-type {\n",
       "        vertical-align: middle;\n",
       "    }\n",
       "\n",
       "    .dataframe tbody tr th {\n",
       "        vertical-align: top;\n",
       "    }\n",
       "\n",
       "    .dataframe thead th {\n",
       "        text-align: right;\n",
       "    }\n",
       "</style>\n",
       "<table border=\"1\" class=\"dataframe\">\n",
       "  <thead>\n",
       "    <tr style=\"text-align: right;\">\n",
       "      <th>ever_sought_prof_mhd_treatment</th>\n",
       "      <th>Yes</th>\n",
       "      <th>No</th>\n",
       "    </tr>\n",
       "    <tr>\n",
       "      <th>anonym_protection_to_treat</th>\n",
       "      <th></th>\n",
       "      <th></th>\n",
       "    </tr>\n",
       "  </thead>\n",
       "  <tbody>\n",
       "    <tr>\n",
       "      <th>Yes</th>\n",
       "      <td>710</td>\n",
       "      <td>425</td>\n",
       "    </tr>\n",
       "    <tr>\n",
       "      <th>No</th>\n",
       "      <td>116</td>\n",
       "      <td>97</td>\n",
       "    </tr>\n",
       "    <tr>\n",
       "      <th>Don't know</th>\n",
       "      <td>1274</td>\n",
       "      <td>1092</td>\n",
       "    </tr>\n",
       "  </tbody>\n",
       "</table>\n",
       "</div>"
      ],
      "text/plain": [
       "ever_sought_prof_mhd_treatment   Yes    No\n",
       "anonym_protection_to_treat                \n",
       "Yes                              710   425\n",
       "No                               116    97\n",
       "Don't know                      1274  1092"
      ]
     },
     "execution_count": 60,
     "metadata": {},
     "output_type": "execute_result"
    },
    {
     "data": {
      "image/png": "[encoded data removed]",
      "text/plain": [
       "<Figure size 700x300 with 1 Axes>"
      ]
     },
     "metadata": {},
     "output_type": "display_data"
    }
   ],
   "source": [
    "print_questions(11)\n",
    "\n",
    "c_tab = my.crosstab(\n",
    "    ds, \"anonym_protection_to_treat\", \"ever_sought_prof_mhd_treatment\"\n",
    ")\n",
    "my.plot_crosstab_as_barplot(\n",
    "    c_tab,\n",
    "    ylim=[None, 80],\n",
    "    xlabel=\"At work, protected anonymity to treat MHD\",\n",
    "    title=\"Ever Sought Professional MHD Treatment\",\n",
    ")\n",
    "plt.gca().legend(frameon=False, title=\"Ever sought MHD help\", ncol=2)\n",
    "c_tab"
   ]
  },
  {
   "cell_type": "markdown",
   "id": "0dcfa6ba",
   "metadata": {},
   "source": [
    "***"
   ]
  },
  {
   "cell_type": "markdown",
   "id": "e34c9b6a",
   "metadata": {},
   "source": [
    "## Take Away Points"
   ]
  },
  {
   "attachments": {},
   "cell_type": "markdown",
   "id": "35d0ae2d",
   "metadata": {},
   "source": [
    "- In this project, Mental Health in the Tech Industry dataset, which covers **2014-2019 year** surveys, was explored.\n",
    "- The findings are most applicable to the regions of **North America and Europe** especially USA, as most of respondents were from there.\n",
    "- The results show that **effective MHD treatment** may **increase productivity** at work.\n",
    "- In order to get professional treatment, people should look for professional help.\n",
    "- The factors **positively** related to seeking MHD help: \n",
    "  - mental health **benefits** as part of healthcare coverage, \n",
    "  - **increased anonymity** to treat MHD, \n",
    "  - work in **bigger company**, \n",
    "  - **older** respondent's **age**, and \n",
    "  - provided **education on MHD**\n",
    "- The factor that were **irrelevant** (had no relationship):\n",
    "  - working in **technical/non-technical** role or company.\n",
    "- **More effort** should be placed on improving situation the following groups as they are less prone to look for MHD related help:\n",
    "  -  **males**,\n",
    "  -  **younger** people, and\n",
    "  -  **Europeans** (compared to North Americans).\n",
    "- Employees are more prone to reveal MHD issues to managers than to coworkers. So **managers have more influence** on the ways **to increase productivity**.\n",
    "- It seams that situation is getting better over the years, but there is **much to do to reach an optimal point**."
   ]
  },
  {
   "cell_type": "markdown",
   "id": "57ab2b75",
   "metadata": {},
   "source": [
    "## "
   ]
  },
  {
   "cell_type": "markdown",
   "id": "ef3c21b1",
   "metadata": {},
   "source": [
    "## Suggestions to Improve the Analysis \n",
    "\n",
    "1) A more broad analysis tat includes more questions and more relationships between the answers could be performed, e.g.:\n",
    "    - Factors such as race were not included but might be important.\n",
    "    - Not only general MHD, but also subtypes of it should be investigated.\n",
    "2) In some analyses more emphasis could be put on the cases, where sample size or response rate is small, to indicate that these results are less reliable."
   ]
  }
 ],
 "metadata": {
  "kernelspec": {
   "display_name": "Python 3.9.13",
   "language": "python",
   "name": "python3"
  },
  "language_info": {
   "codemirror_mode": {
    "name": "ipython",
    "version": 3
   },
   "file_extension": ".py",
   "mimetype": "text/x-python",
   "name": "python",
   "nbconvert_exporter": "python",
   "pygments_lexer": "ipython3",
   "version": "3.9.15 (main, Nov 24 2022, 14:39:17) [MSC v.1916 64 bit (AMD64)]"
  },
  "vscode": {
   "interpreter": {
    "hash": "a8c292c4de3a2ab1853e5210dbe6d88659931d774bd7cb1acbec90e63cdaa048"
   }
  }
 },
 "nbformat": 4,
 "nbformat_minor": 5
}
