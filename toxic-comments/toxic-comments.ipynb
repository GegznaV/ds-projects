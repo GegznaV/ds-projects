{
 "cells": [
  {
   "cell_type": "markdown",
   "metadata": {},
   "source": [
    "---\n",
    "pagetitle: \"DL-2-proj | VG\"\n",
    "title: \"Classification of Toxic Comments\"\n",
    "subtitle: \"Deep Learning Project\"\n",
    "author: \"Vilmantas Gėgžna\"\n",
    "date: 2024-03-12\n",
    "date-modified: today\n",
    "date-format: iso\n",
    "language:\n",
    "  title-block-modified: \"Updated\"\n",
    "fig-align: center\n",
    "jupyter: python3\n",
    "embed-resources: true\n",
    "format:\n",
    "  html:\n",
    "    crossrefs-hover: true\n",
    "    toc: true\n",
    "    toc_float: true\n",
    "    toc-location: left\n",
    "    toc-depth: 4\n",
    "    number-sections: true\n",
    "    number-depth: 3\n",
    "    code-tools: true\n",
    "    code-fold: show # possible options: false, true, show\n",
    "    code-line-numbers: true\n",
    "    html-math-method: mathjax\n",
    "    link-external-icon: true\n",
    "    link-external-newwindow: true\n",
    "    link-external-filter: \"(?ds-project|--proj)\"\n",
    "    page-layout: full\n",
    "crossref:\n",
    "  chapters: true\n",
    "  fig-title: \"Fig.\" # (default is \"Figure\")\n",
    "  tbl-title: Table # (default is \"Table\")\n",
    "  title-delim: . # (default is \":\")\n",
    "editor: # VS Code\n",
    "  render-on-save: false\n",
    "---"
   ]
  },
  {
   "cell_type": "markdown",
   "metadata": {},
   "source": [
    "::: {.content-hidden when-format=\"html\"}\n",
    "\n",
    "<br><br><br><br><br>\n",
    "\n",
    "<center>\n",
    "\n",
    "> **IMPORTANT**\n",
    ">\n",
    "> This Jupyter notebook contains the `source code` of the analysis.  \n",
    "> The analysis is intended to be studied from its rendered HTML document.  \n",
    "> <span style=\"color: green;\"> Please, **open the HTML** file, </span> which is available at:\n",
    ">\n",
    "> ►►► <https://gegznav.github.io/ds-projects/toxic-comments> ◄◄◄\n",
    "> &nbsp; &nbsp;\n",
    ">\n",
    "> ```\n",
    "> •▲•\n",
    "> ```\n",
    "\n",
    "</center>\n",
    "<br><br><br><br><br><br><br>\n",
    "\n",
    ":::\n"
   ]
  },
  {
   "cell_type": "markdown",
   "metadata": {},
   "source": [
    "<style>\n",
    "#title-block-header.quarto-title-block.default .quarto-title-meta {\n",
    "  display: grid;\n",
    "  grid-template-columns: repeat(3, 1fr);\n",
    "}\n",
    "\n",
    "div.sourceCode {\n",
    "  margin: 0;\n",
    "}\n",
    "\n",
    "/* R code indicator */\n",
    "pre.sourceCode .r {\n",
    "  border-left: 5px solid #7b97ea;\n",
    "  border-radius: 0\n",
    "}\n",
    ".r .fu {font-weight: bold;}\n",
    "\n",
    "/* Python code indicator */\n",
    "pre.sourceCode .python {\n",
    "  border-left: 5px solid #CFB53B;\n",
    "  border-radius: 0\n",
    "}\n",
    ".python .kw {font-style: italic;}\n",
    "\n",
    "/* Bash code indicator */\n",
    "pre.sourceCode .bash {\n",
    "  border-left: 5px solid #bbb;\n",
    "  border-radius: 0\n",
    "}\n",
    "\n",
    "/* Details sections */\n",
    "details[open].with-border {\n",
    "  padding: 1px 5px 1px 5px;\n",
    "  border-style: solid;\n",
    "  border-color: grey;\n",
    "  border-width: 3px;\n",
    "  border-radius: 5px;\n",
    "}\n",
    "\n",
    "/* Tables */\n",
    "caption, .table-caption {\n",
    "  text-align: left;\n",
    "  color: #5a6570;\n",
    "};\n",
    "\n",
    "table .dataframe .table-striped thead th {\n",
    "  text-align: left !important;\n",
    "}\n",
    "\n",
    "\n",
    "</style>\n",
    "\n",
    "::: {.content-hidden when-format=\"html\"}\n",
    "\n",
    "This cell contains `CSS` code.\n",
    "\n",
    ":::"
   ]
  },
  {
   "cell_type": "markdown",
   "metadata": {},
   "source": [
    "<center>\n",
    "\n",
    "![Toxic Comments Classification project logo. Originally generated with [Leonardo.Ai](https://leonardo.ai/).](<./img/logo%20(LeonardoAI).jpg>){max-width=100%, width=400px}\n",
    "\n",
    "</center>\n"
   ]
  },
  {
   "cell_type": "markdown",
   "metadata": {},
   "source": [
    "# Summary {.unnumbered}"
   ]
  },
  {
   "cell_type": "markdown",
   "metadata": {},
   "source": [
    "In response to the challenges posed by online abuse and harassment hindering open discourse, a data science project was undertaken to develop an effective moderation system. The project utilized a **DistillBERT**-based model for **multi-label text classification**, leveraging transfer learning techniques for **deep learning**. Built using **PyTorch and Lightning** frameworks, the model was trained on a dataset comprising **223,549 comments**, encompassing both clean (non-toxic) and various forms of toxic content (toxic, severe toxic, obscene, threat, insult, identity hate). Rigorous state-of-the-art procedures were employed to ensure robustness and accuracy. The model achieved a balanced **accuracy** of **0.964** and an **F1 score** of **0.551** on the test set, demonstrating its efficacy in identifying and moderating potentially harmful comments. This project aims to contribute to the creation of safer and more inclusive online communities by facilitating constructive conversations while mitigating the impact of abusive behavior."
   ]
  },
  {
   "cell_type": "markdown",
   "metadata": {},
   "source": [
    "***"
   ]
  },
  {
   "cell_type": "markdown",
   "metadata": {},
   "source": [
    "# Setup"
   ]
  },
  {
   "cell_type": "markdown",
   "metadata": {},
   "source": [
    "The computations in this project were performed in 2 environments:\n",
    "\n",
    "- local Windows 10 machine with NVIDIA GTX 950M GPU: \n",
    "    - for regular computations and analysis;\n",
    "    - allows using local tools (e.g., VS Code with its plugins, Quarto, etc.);\n",
    "    - free of charge.\n",
    "- Colab Pro environment with either NVIDIA V100 or NVIDIA A100 GPU (depending on which one was available):\n",
    "    - for resource-demanding computations like training deep learning (DL) models and inference;\n",
    "    - allows using a powerful GPU;\n",
    "    - paid service.\n",
    "\n",
    "The necessary data, log and other files were synchronized via Google Drive. Find the Python-related specifications of each environment in the collapsible sections below. But the main difference was the version of Python and `pandas`."
   ]
  },
  {
   "cell_type": "markdown",
   "metadata": {},
   "source": [
    "::: {.content-hidden when-format=\"html\"}\n",
    "\n",
    "---\n",
    "\n",
    "Start of the collapsible section \n",
    "`<details>`\n",
    "\n",
    ":::\n",
    "\n",
    "<details class=\"with-border\">\n",
    "<summary>Versions of Python and main libraries: **local** (Windows 10) </summary>"
   ]
  },
  {
   "cell_type": "code",
   "execution_count": null,
   "metadata": {},
   "outputs": [
    {
     "name": "stdout",
     "output_type": "stream",
     "text": [
      "conda environment: TC-M4-proj2\n",
      "\n",
      "Python implementation: CPython\n",
      "Python version       : 3.11.8\n",
      "IPython version      : 8.22.2\n",
      "\n",
      "torch       : 2.2.1+cu121\n",
      "torchmetrics: 1.3.1\n",
      "torchinfo   : 1.8.0\n",
      "transformers: 4.38.2\n",
      "lightning   : 2.2.1\n",
      "tensorboard : 2.16.2\n",
      "\n"
     ]
    },
    {
     "name": "stdout",
     "output_type": "stream",
     "text": [
      "numpy     : 1.26.3\n",
      "pandas    : 2.2.1\n",
      "matplotlib: 3.8.3\n",
      "seaborn   : 0.13.2\n",
      "sklearn   : 1.4.1.post1\n",
      "logging   : 0.5.1.2\n",
      "\n"
     ]
    }
   ],
   "source": [
    "%load_ext watermark\n",
    "%watermark --conda\n",
    "%watermark --python\n",
    "# Main deep learning packages\n",
    "%watermark -p torch,torchmetrics,torchinfo,transformers,lightning,tensorboard\n",
    "# Other main packages\n",
    "%watermark -p numpy,pandas,matplotlib,seaborn,sklearn,logging"
   ]
  },
  {
   "cell_type": "markdown",
   "metadata": {},
   "source": [
    "</details>\n",
    "\n",
    "\n",
    "::: {.content-hidden when-format=\"html\"}\n",
    "\n",
    "`</details>` \n",
    "End of the collapsible section\n",
    "\n",
    "---\n",
    "\n",
    ":::"
   ]
  },
  {
   "cell_type": "markdown",
   "metadata": {},
   "source": [
    "::: {.content-hidden when-format=\"html\"}\n",
    "\n",
    "---\n",
    "\n",
    "Start of the collapsible section \n",
    "`<details>`\n",
    "\n",
    ":::\n",
    "\n",
    "<details class=\"with-border\">\n",
    "<summary>Versions of Python and main libraries: **Colab** </summary>"
   ]
  },
  {
   "cell_type": "markdown",
   "metadata": {},
   "source": [
    "```python\n",
    "%load_ext watermark\n",
    "%watermark --conda\n",
    "%watermark --python\n",
    "# Main deep learning packages\n",
    "%watermark -p torch,torchmetrics,torchinfo,transformers,lightning,tensorboard\n",
    "# Other main packages\n",
    "%watermark -p numpy,pandas,matplotlib,seaborn,sklearn,logging\n",
    "```\n",
    "\n",
    "```\n",
    "conda environment: n/a\n",
    "\n",
    "Python implementation: CPython\n",
    "Python version       : 3.10.12\n",
    "IPython version      : 7.34.0\n",
    "\n",
    "torch       : 2.2.1\n",
    "torchmetrics: 1.3.1\n",
    "torchinfo   : 1.8.0\n",
    "transformers: 4.38.2\n",
    "lightning   : 2.2.1\n",
    "tensorboard : 2.16.2\n",
    "\n",
    "numpy     : 1.26.3\n",
    "pandas    : 1.5.3\n",
    "matplotlib: 3.8.3\n",
    "seaborn   : 0.13.2\n",
    "sklearn   : 1.4.1.post1\n",
    "logging   : 0.5.1.2\n",
    "\n",
    "```"
   ]
  },
  {
   "cell_type": "markdown",
   "metadata": {},
   "source": [
    "</details>\n",
    "\n",
    "\n",
    "::: {.content-hidden when-format=\"html\"}\n",
    "\n",
    "`</details>`\n",
    "End of the collapsible section\n",
    "\n",
    "---\n",
    "\n",
    ":::"
   ]
  },
  {
   "cell_type": "markdown",
   "metadata": {},
   "source": [
    "## Colab-Specific Setup"
   ]
  },
  {
   "cell_type": "markdown",
   "metadata": {},
   "source": [
    "This section describes the setup that was used in the Colab environment. I also installed or updated some packages following the requirements file but not all as updates would break compatibility with other packages required by Colab."
   ]
  },
  {
   "cell_type": "code",
   "execution_count": null,
   "metadata": {},
   "outputs": [],
   "source": [
    "import os\n",
    "from google.colab import drive, files"
   ]
  },
  {
   "cell_type": "code",
   "execution_count": null,
   "metadata": {},
   "outputs": [],
   "source": [
    "drive.mount(\"/content/drive\")"
   ]
  },
  {
   "cell_type": "code",
   "execution_count": null,
   "metadata": {},
   "outputs": [
    {
     "name": "stdout",
     "output_type": "stream",
     "text": [
      "/content/drive/MyDrive/Colab-proj/TC-M4-proj2\n"
     ]
    }
   ],
   "source": [
    "%cd /content/drive/MyDrive/Colab-proj/TC-M4-proj2"
   ]
  },
  {
   "cell_type": "code",
   "execution_count": null,
   "metadata": {},
   "outputs": [
    {
     "name": "stdout",
     "output_type": "stream",
     "text": [
      "/content/drive/MyDrive/Colab-proj/TC-M4-proj2\n"
     ]
    }
   ],
   "source": [
    "!pwd"
   ]
  },
  {
   "cell_type": "markdown",
   "metadata": {},
   "source": [
    "## Main Setup"
   ]
  },
  {
   "cell_type": "code",
   "execution_count": 1,
   "metadata": {},
   "outputs": [],
   "source": [
    "# | label: setup\n",
    "# | code-summary: \"Code: **The main Python setup**\"\n",
    "# | code-fold: true\n",
    "\n",
    "# Automatically reload certain modules\n",
    "%reload_ext autoreload\n",
    "%autoreload 1\n",
    "\n",
    "# Plotting\n",
    "%matplotlib inline\n",
    "\n",
    "# Packages and modules -------------------------------\n",
    "# Utilities\n",
    "import os\n",
    "import warnings\n",
    "import numpy as np\n",
    "import logging\n",
    "import datetime\n",
    "import json\n",
    "from contextlib import contextmanager\n",
    "from pathlib import Path\n",
    "\n",
    "# Data frames\n",
    "import pandas as pd\n",
    "\n",
    "# EDA and plotting\n",
    "import seaborn as sns\n",
    "import matplotlib.pyplot as plt\n",
    "import matplotlib.patches as mpatches\n",
    "\n",
    "\n",
    "# ML: preprocessing\n",
    "from sklearn.model_selection import train_test_split\n",
    "from sklearn.metrics import (\n",
    "    ConfusionMatrixDisplay,\n",
    "    multilabel_confusion_matrix,\n",
    "    classification_report,\n",
    ")\n",
    "\n",
    "# Deep learning\n",
    "import torch\n",
    "from torch.utils.data import DataLoader, Dataset\n",
    "\n",
    "from torchmetrics.classification import Accuracy, F1Score, ConfusionMatrix\n",
    "from torchinfo import summary\n",
    "\n",
    "import lightning as L\n",
    "from lightning.pytorch.loggers import CSVLogger, TensorBoardLogger\n",
    "from lightning.pytorch.callbacks.early_stopping import EarlyStopping\n",
    "from lightning.pytorch.callbacks import LearningRateMonitor, ModelCheckpoint\n",
    "from lightning.pytorch import seed_everything\n",
    "\n",
    "from transformers import AutoModelForSequenceClassification, AutoTokenizer\n",
    "\n",
    "\n",
    "# Settings --------------------------------------------\n",
    "# Default plot options\n",
    "plt.rc(\"figure\", titleweight=\"bold\")\n",
    "plt.rc(\"axes\", labelweight=\"bold\", titleweight=\"bold\")\n",
    "plt.rc(\"font\", weight=\"normal\", size=10)\n",
    "plt.rc(\"figure\", figsize=(10, 3))\n",
    "\n",
    "# Pandas options\n",
    "pd.set_option(\"display.max_rows\", 1000)\n",
    "pd.set_option(\"display.max_columns\", 300)\n",
    "pd.set_option(\"display.max_colwidth\", 50)  # Possible option: None\n",
    "pd.set_option(\"display.float_format\", lambda x: f\"{x:.2f}\")\n",
    "pd.set_option(\"styler.format.thousands\", \",\")\n",
    "\n",
    "# Turn off the scientific notation for floating point numbers.\n",
    "np.set_printoptions(suppress=True)\n",
    "\n",
    "# ----------------------------------------------------------------------------"
   ]
  },
  {
   "cell_type": "code",
   "execution_count": 2,
   "metadata": {},
   "outputs": [],
   "source": [
    "# | code-summary: Function `timestamp()`\n",
    "# | code-fold: true\n",
    "\n",
    "\n",
    "def timestamp():\n",
    "    \"\"\"Print the current date and time.\"\"\"\n",
    "    print(datetime.datetime.now().strftime(\"%Y-%m-%d %H:%M:%S\"))"
   ]
  },
  {
   "cell_type": "code",
   "execution_count": 3,
   "metadata": {},
   "outputs": [],
   "source": [
    "# | code-summary: Context manager `suppress_certain_logs_and_warnings()`\n",
    "# | code-fold: true\n",
    "\n",
    "\n",
    "@contextmanager\n",
    "def suppress_certain_logs_and_warnings(level=logging.WARNING):\n",
    "    \"\"\"Supress certain logging messages and warnings.\n",
    "\n",
    "    Suppress logging messages from Lightning and PyTorch related to GPU and TPU\n",
    "    as well as warning related to not using parallel data loading.\n",
    "\n",
    "    Based on\n",
    "    https://github.com/Lightning-AI/pytorch-lightning/issues/3431#issuecomment-1527945684\n",
    "    ```\n",
    "    logging.getLogger(\"lightning.pytorch.utilities.rank_zero\").setLevel(logging.WARNING)\n",
    "    disables the following output:\n",
    "    GPU available: True (cuda), used: True\n",
    "    TPU available: False, using: 0 TPU cores\n",
    "    IPU available: False, using: 0 IPUs\n",
    "    HPU available: False, using: 0 HPUs\n",
    "\n",
    "    logging.getLogger(\"lightning.pytorch.accelerators.cuda\").setLevel(logging.WARNING)\n",
    "    disables the following output:\n",
    "    LOCAL_RANK: 0 - CUDA_VISIBLE_DEVICES: [0]\n",
    "    ```\n",
    "\n",
    "    Args:\n",
    "        level (int): Logging level. Default is `logging.WARNING`.\n",
    "    \"\"\"\n",
    "\n",
    "    log_rank_zero = \"lightning.pytorch.utilities.rank_zero\"\n",
    "    log_cuda = \"lightning.pytorch.accelerators.cuda\"\n",
    "\n",
    "    try:\n",
    "        # Save the original log levels\n",
    "        original_rank_zero_level = logging.getLogger(log_rank_zero).getEffectiveLevel()\n",
    "        original_cuda_level = logging.getLogger(log_cuda).getEffectiveLevel()\n",
    "\n",
    "        # Set the desired log levels\n",
    "        logging.getLogger(log_rank_zero).setLevel(level)\n",
    "        logging.getLogger(log_cuda).setLevel(level)\n",
    "\n",
    "        # Suppress warnings\n",
    "        with warnings.catch_warnings():\n",
    "            warnings.filterwarnings(\"ignore\", \".*does not have many workers.*\")\n",
    "            yield\n",
    "\n",
    "    finally:\n",
    "        # Restore the original log levels\n",
    "        logging.getLogger(log_rank_zero).setLevel(original_rank_zero_level)\n",
    "        logging.getLogger(log_cuda).setLevel(original_cuda_level)"
   ]
  },
  {
   "cell_type": "code",
   "execution_count": 130,
   "metadata": {},
   "outputs": [],
   "source": [
    "# | code-summary: Function `style_multilabel_confusion_matrix()`\n",
    "# | code-fold: true\n",
    "\n",
    "\n",
    "def style_multilabel_confusion_matrix(ax_, norm=False, precision=None, cmap=\"Spectral\",\n",
    "                                      label_font_size=None):\n",
    "    \"\"\"Style multi-label confusion matrix plots created with\n",
    "    `torchmetrics.ConfusionMatrix()`.\n",
    "\n",
    "    Args:\n",
    "        ax_ (list): List of axes objects.\n",
    "        norm (bool, optional): Whether to normalize the confusion matrix.\n",
    "            Default is False.\n",
    "        precision (int, optional): Number of decimal places for the labels.\n",
    "        cmap (str, optional): Colormap. Default is \"Spectral\".\n",
    "        label_font_size (int, optional): Font size for the labels. Default is None.\n",
    "    \"\"\"\n",
    "    for ax in ax_:\n",
    "        ax.set_xticklabels(ax.get_xticklabels(), rotation=0)\n",
    "        ax.set_yticklabels(ax.get_yticklabels(), rotation=0)\n",
    "        ax.set_title(ax.get_title().replace(\"Label\", \"\"))\n",
    "        # Change cmap to reverse coolwarm\n",
    "        for im in ax.get_images():\n",
    "            im.set_cmap(cmap)\n",
    "            if norm:\n",
    "                im.set_clim(0, 1)\n",
    "\n",
    "        # Override text formatting for labels\n",
    "        for text in ax.texts:\n",
    "            if precision is not None:\n",
    "                text.set_text(f\"{float(text.get_text()):.{precision}f}\")\n",
    "            if label_font_size is not None:\n",
    "                text.set_fontsize(label_font_size)"
   ]
  },
  {
   "cell_type": "code",
   "execution_count": 5,
   "metadata": {},
   "outputs": [],
   "source": [
    "# | code-summary: Function `value_counts_per_column()`\n",
    "# | code-fold: true\n",
    "\n",
    "\n",
    "def value_counts_per_column(data, columns):\n",
    "    \"\"\"Create value counts for each label (column).\n",
    "    Function for EDA of multilabel classification problems.\n",
    "\n",
    "    Args:\n",
    "        data (pd.DataFrame): Data.\n",
    "        columns (list): Columns to create value counts for.\n",
    "\n",
    "    Returns:\n",
    "        pd.DataFrame: Value counts for each label.\n",
    "    \"\"\"\n",
    "    value_counts_dict = {col: data[col].value_counts() for col in columns}\n",
    "    df = (\n",
    "        pd.DataFrame(value_counts_dict)\n",
    "        .T.reset_index()\n",
    "        .rename(columns={\"index\": \"↓ label / value →\"})\n",
    "    )\n",
    "\n",
    "    return df"
   ]
  },
  {
   "cell_type": "code",
   "execution_count": 6,
   "metadata": {},
   "outputs": [],
   "source": [
    "# | code-summary: Function `create_non_toxic_label()`\n",
    "# | code-fold: true\n",
    "\n",
    "toxic_labels = [\"toxic\", \"severe_toxic\", \"obscene\", \"threat\", \"insult\", \"identity_hate\"]\n",
    "all_labels = [\"non_toxic\"] + toxic_labels\n",
    "\n",
    "\n",
    "def create_non_toxic_label(data, toxic_labels):\n",
    "    \"\"\"Create label `non_toxic` where all the remaining classes are not present.\n",
    "    Args:\n",
    "        data (pd.DataFrame): Data.\n",
    "        toxic_labels (list): List of toxic labels.\n",
    "    Returns:\n",
    "        pd.Series: Label `non_toxic`.\n",
    "    \"\"\"\n",
    "    return data.apply(\n",
    "        lambda x: 1 if all(x[col] == 0 for col in toxic_labels) else 0, axis=1\n",
    "    )"
   ]
  },
  {
   "cell_type": "code",
   "execution_count": 7,
   "metadata": {},
   "outputs": [],
   "source": [
    "# | code-summary: Function `plot_label_counts()`\n",
    "# | code-fold: true\n",
    "def plot_label_counts(data, labels, figsize=(10, 5), title=\"Counts of Each Label\"):\n",
    "    \"\"\"Plot the counts of each label.\n",
    "    Args:\n",
    "        data (pd.DataFrame): Data.\n",
    "        labels (list): Labels.\n",
    "        figsize (tuple, optional): Figure size. Default is (10, 5).\n",
    "        title (str, optional): Title of the plot.\n",
    "    \"\"\"\n",
    "    n = data.shape[0]\n",
    "    label_counts = data[labels].sum()\n",
    "    label_counts_sorted = label_counts.sort_values(ascending=True)\n",
    "\n",
    "    ax = label_counts_sorted.plot(\n",
    "        kind=\"barh\", ec=\"black\", color=[\"#ff9999\"] * 6 + [\"lightblue\"]\n",
    "    )\n",
    "    for i, v in enumerate(label_counts_sorted):\n",
    "        ax.text(\n",
    "            v + 3,\n",
    "            i,\n",
    "            f\" {v} ({v/n *100:,.1f}%)\",\n",
    "            color=\"black\",\n",
    "            va=\"center\",\n",
    "            fontweight=\"bold\",\n",
    "        )\n",
    "\n",
    "    toxic_patch = mpatches.Patch(color=\"#ff9999\", ec=\"black\", label=\"Various Toxic\")\n",
    "    non_toxic_patch = mpatches.Patch(color=\"lightblue\", ec=\"black\", label=\"Non-Toxic\")\n",
    "    plt.legend(handles=[non_toxic_patch, toxic_patch], loc=\"lower right\")\n",
    "\n",
    "    ax.set_xlim(right=ax.get_xlim()[1] * 1.15)\n",
    "    ax.set_xlabel(\"Count\")\n",
    "    ax.set_ylabel(\"Comment Type\")\n",
    "    ax.set_title(title)\n",
    "    return {\"ax\": ax, \"n\": n, \"label_counts\": label_counts}"
   ]
  },
  {
   "cell_type": "code",
   "execution_count": 8,
   "metadata": {},
   "outputs": [],
   "source": [
    "# | code-summary: Function `tokenize_and_encode()`\n",
    "# | code-fold: true\n",
    "def tokenize_and_encode(text, tokenizer, max_tokens=512):\n",
    "    \"\"\"Tokenize and encode a text.\n",
    "    Args:\n",
    "        text (str): Text to tokenize and encode.\n",
    "        tokenizer (transformers.AutoTokenizer): Tokenizer.\n",
    "        max_tokens (int): Maximum number of tokens per sequence. Default is 512.\n",
    "    Returns:\n",
    "        dict: Tokenized and encoded text.\n",
    "    \"\"\"\n",
    "    return tokenizer.encode_plus(\n",
    "        text=text,\n",
    "        add_special_tokens=True,\n",
    "        max_length=max_tokens,\n",
    "        padding=\"max_length\",\n",
    "        pad_to_max_length=True,\n",
    "        return_attention_mask=True,\n",
    "        return_token_type_ids=False,\n",
    "        truncation=True,\n",
    "        return_tensors=\"pt\",\n",
    "    )"
   ]
  },
  {
   "cell_type": "code",
   "execution_count": 9,
   "metadata": {},
   "outputs": [],
   "source": [
    "# | code-summary: Function `create_trainer()` (wrapper for class Trainer)\n",
    "# | code-fold: true\n",
    "\n",
    "\n",
    "def create_trainer(\n",
    "    log_model_name: str = \"model\",\n",
    "    max_epochs: int = 50,\n",
    "    log_dir: str = \"logs/\",\n",
    "    profiler: str | None = \"pytorch\",\n",
    "    log_every_n_steps: int = 10,\n",
    "    save_top_k_models: int = 5,\n",
    "    monitor_metric: str = \"val_loss\",\n",
    "    monitor_mode: str = \"min\",\n",
    "    accelerator: str = \"gpu\",\n",
    "    devices: list | int = [0],\n",
    "    precision: int | str = \"16-mixed\",\n",
    "    patience: int = 2,\n",
    "    lr_logging_interval: str | None = False,\n",
    "    **kwargs\n",
    ") -> L.Trainer:\n",
    "    \"\"\"Create a Trainer object for training a model.\n",
    "\n",
    "    A wrapper with default settings for the `pytorch_lightning.Trainer` class.\n",
    "\n",
    "    Args:\n",
    "        log_model_name (str): Name of the model for logging purposes.\n",
    "        log_dir (str): Directory to save logs and checkpoints.\n",
    "        max_epochs (int): Maximum number of epochs.\n",
    "        profiler (str): Profiler to use. Default is \"pytorch\".\n",
    "        log_every_n_steps (int): Log every n-th step. Default is 3.\n",
    "        save_top_k_models (int): Save top k models. Default is 6.\n",
    "        monitor (str): Metric to monitor. Default is \"val_loss\".\n",
    "        monitor_mode (str): Mode of the monitored metric. Default is \"min\".\n",
    "        accelerator (str): Accelerator to use. Default is \"gpu\".\n",
    "        devices (list): List of devices to use. Default is [0].\n",
    "        precision (int | str): Precision to use. Default is \"16-mixed\".\n",
    "        patience (int): Patience for Early Stopping. Default is 2.\n",
    "        lr_logging_interval (str | None | False): Logging interval for\n",
    "            learning rate. One of \"step\", \"epoch\", None or False.\n",
    "            Default is False (do not log learning rate).\n",
    "        **kwargs: Additional arguments for the Trainer.\n",
    "\n",
    "    Returns:\n",
    "        lightning.Trainer: Trainer object configured with specified settings.\n",
    "    \"\"\"\n",
    "\n",
    "    log_dir = Path(log_dir)\n",
    "    log_dir.mkdir(parents=True, exist_ok=True)  # Ensure log directory exists\n",
    "\n",
    "    # Construct the Trainer\n",
    "    with suppress_certain_logs_and_warnings(logging.WARNING):\n",
    "        callbacks = [\n",
    "            EarlyStopping(\n",
    "                monitor=monitor_metric,\n",
    "                mode=monitor_mode,\n",
    "                patience=patience,\n",
    "                check_finite=True,\n",
    "            ),\n",
    "            ModelCheckpoint(\n",
    "                monitor=monitor_metric,\n",
    "                mode=monitor_mode,\n",
    "                filename=log_model_name\n",
    "                + \"--{epoch:03d}--{step:05d}--{val_loss:.2f}--{val_accuracy:.3f}\",\n",
    "                save_top_k=save_top_k_models,\n",
    "            ),\n",
    "        ]\n",
    "\n",
    "        if (lr_logging_interval is None) or (lr_logging_interval is not False):\n",
    "            callbacks.append(LearningRateMonitor(logging_interval=lr_logging_interval))\n",
    "\n",
    "        trainer = L.Trainer(\n",
    "            profiler=profiler,\n",
    "            max_epochs=max_epochs,\n",
    "            accelerator=accelerator,\n",
    "            devices=devices,\n",
    "            precision=precision,\n",
    "            default_root_dir=log_dir / \"checkpoints/\",\n",
    "            logger=[\n",
    "                TensorBoardLogger(log_dir / \"tensorboard_logs/\", name=log_model_name),\n",
    "                CSVLogger(log_dir / \"csv_logs/\", name=log_model_name),\n",
    "            ],\n",
    "            log_every_n_steps=log_every_n_steps,\n",
    "            callbacks=callbacks,\n",
    "            **kwargs\n",
    "        )\n",
    "\n",
    "    return trainer"
   ]
  },
  {
   "cell_type": "code",
   "execution_count": 10,
   "metadata": {},
   "outputs": [],
   "source": [
    "# | code-summary: Function `read_metrics_log()`\n",
    "# | code-fold: true\n",
    "\n",
    "\n",
    "def read_metrics_log(\n",
    "    log_path: str, model_name: str = \"\", out_format: str = \"long\"\n",
    ") -> pd.DataFrame:\n",
    "    \"\"\"Read the metrics log file and return a DataFrame.\n",
    "\n",
    "    The function reads a csv file and extracts the relevant information about\n",
    "    training and validation metrics, which were tracked.\n",
    "\n",
    "    In long format (default) returned DataFrame has the following\n",
    "    columns:\n",
    "        - epoch (int): Epoch number.\n",
    "        - set (str): Training or validation set.\n",
    "        - accuracy (float): balanced accuracy (macro average).\n",
    "        - f1 (float): F1 score (macro average).\n",
    "        - loss (float): loss.\n",
    "        - model (str): Name of the model.\n",
    "\n",
    "    In wide format returned DataFrame has the following columns:\n",
    "        - epoch\n",
    "        - train_accuracy\n",
    "        - train_f1\n",
    "        - train_loss\n",
    "        - val_accuracy\n",
    "        - val_f1\n",
    "        - val_loss\n",
    "        - accuracy_diff (val_accuracy - train_accuracy)\n",
    "        - f1_diff (val_f1 - train_f1)\n",
    "        - loss_diff (val_loss - train_loss)\n",
    "        - model\n",
    "\n",
    "    Args:\n",
    "        log_path (str): Path to the log file.\n",
    "        model_name (str): Name of the model (value for column \"model\").\n",
    "            Default is \"\".\n",
    "        out_format (str): Output format (\"wide\" or \"long\").\n",
    "            Default is \"long\".\n",
    "\n",
    "    Returns:\n",
    "        pd.DataFrame: DataFrame containing the metrics information.\n",
    "    \"\"\"\n",
    "    df = pd.read_csv(log_path)\n",
    "\n",
    "    selected_columns = [\n",
    "        \"epoch\",\n",
    "        \"train_accuracy\",\n",
    "        \"train_f1\",\n",
    "        \"train_loss_epoch\",\n",
    "        \"val_accuracy\",\n",
    "        \"val_f1\",\n",
    "        \"val_loss_epoch\",\n",
    "    ]\n",
    "    df = (\n",
    "        df[selected_columns]\n",
    "        .dropna(subset=selected_columns[1:], how=\"all\")\n",
    "        .astype({\"epoch\": int})\n",
    "    )\n",
    "    df.columns = df.columns.str.replace(\"_epoch$\", \"\", regex=True)\n",
    "\n",
    "    if out_format == \"wide\":\n",
    "        # Validation and training metrics are logged on separate rows.\n",
    "        # It is assumed that validation metrics are logged first.\n",
    "        df = df.sort_values(by=[\"epoch\", \"val_loss\"], na_position=\"last\")\n",
    "\n",
    "        first_row_condition = pd.isna(df.train_loss.iloc[0]) and pd.notna(\n",
    "            df.val_loss.iloc[0]\n",
    "        )\n",
    "        second_row_condition = pd.notna(df.train_loss.iloc[1]) and pd.isna(\n",
    "            df.val_loss.iloc[1]\n",
    "        )\n",
    "\n",
    "        if all([first_row_condition, second_row_condition]):\n",
    "            subset = [\"val_accuracy\", \"val_f1\", \"val_loss\"]\n",
    "            df[subset] = df[subset].ffill()\n",
    "            output = (\n",
    "                df.dropna(subset=[\"train_loss\"])\n",
    "                .reset_index(drop=True)\n",
    "                .assign(\n",
    "                    accuracy_diff=lambda df: df[\"val_accuracy\"] - df[\"train_accuracy\"],\n",
    "                    f1_diff=lambda df: df[\"val_f1\"] - df[\"train_f1\"],\n",
    "                    loss_diff=lambda df: df[\"val_loss\"] - df[\"train_loss\"],\n",
    "                )\n",
    "            )\n",
    "        else:\n",
    "            raise ValueError(\n",
    "                \"The log file is not in the expected format: \"\n",
    "                \"there should be 2 rows (for validation and training results) \"\n",
    "                \"and every second row in the same epoch must contain NaN values \"\n",
    "                \"for the same metric. \"\n",
    "                \"Fix the function, the file or use format='long'.\"\n",
    "            )\n",
    "\n",
    "    else:\n",
    "        # Return long format (default)\n",
    "        df_melted = pd.melt(\n",
    "            df, id_vars=[\"epoch\"], var_name=\"metric\", value_name=\"value\"\n",
    "        ).dropna(subset=[\"value\"])\n",
    "\n",
    "        df_melted[[\"set\", \"metric_type\"]] = df_melted[\"metric\"].str.split(\n",
    "            \"_\", n=1, expand=True\n",
    "        )\n",
    "\n",
    "        df_pivoted = (\n",
    "            df_melted.pivot(\n",
    "                index=[\"epoch\", \"set\"], columns=\"metric_type\", values=\"value\"\n",
    "            )\n",
    "            .reset_index()\n",
    "            .rename(columns={\"loss_epoch\": \"loss\"})\n",
    "            .astype({\"epoch\": int})\n",
    "        )\n",
    "        df_pivoted.columns.name = None\n",
    "        output = df_pivoted\n",
    "\n",
    "    return output.assign(model=model_name)"
   ]
  },
  {
   "cell_type": "markdown",
   "metadata": {},
   "source": [
    "# Exploration and Pre-Processing"
   ]
  },
  {
   "cell_type": "markdown",
   "metadata": {},
   "source": [
    "::: {.callout-tip}\n",
    "## Performed locally\n",
    "\n",
    "The code of the following section was performed **locally** on a Windows 10 machine.\n",
    "\n",
    ":::"
   ]
  },
  {
   "cell_type": "markdown",
   "metadata": {},
   "source": [
    "## Dataset"
   ]
  },
  {
   "cell_type": "markdown",
   "metadata": {},
   "source": [
    "The dataset used in this project is the **Toxic Comment Classification Challenge** [dataset](https://www.kaggle.com/c/jigsaw-toxic-comment-classification-challenge) from Kaggle. It consists of a large number of Wikipedia comments, which have been labeled by human raters for toxic behavior. The types of toxicity are:\n",
    "\n",
    "- `toxic`\n",
    "- `severe_toxic`\n",
    "- `obscene`\n",
    "- `threat`\n",
    "- `insult`\n",
    "- `identity_hate`\n",
    "\n",
    "During the analysis additional label `non_toxic` will be added.\n",
    "\n",
    "Data comes in a ZIP archive that contains several CSV files, that were saved in `data/raw` directory: `test.csv`, `test_labels.csv` and `train.csv` will be used in this project."
   ]
  },
  {
   "cell_type": "code",
   "execution_count": 2,
   "metadata": {},
   "outputs": [
    {
     "name": "stdout",
     "output_type": "stream",
     "text": [
      "data/raw\n",
      "├── README.txt\n",
      "├── jigsaw-toxic-comment-classification-challenge.zip\n",
      "├── sample_submission.csv\n",
      "├── test.csv\n",
      "├── test_labels.csv\n",
      "└── train.csv\n",
      "\n",
      "0 directories, 6 files\n"
     ]
    }
   ],
   "source": [
    "%%bash\n",
    "tree data/raw"
   ]
  },
  {
   "cell_type": "markdown",
   "metadata": {},
   "source": [
    "## Training and Validation Data"
   ]
  },
  {
   "cell_type": "markdown",
   "metadata": {},
   "source": [
    "The whole dataset came in several files. The first file `train.csv` contained data that was used for training and validation in this project. The file contained approximately 160,000 comments. [Fig. @fig-comment-counts-train-val] indicates class imbalance. It is seen that multi-row comments have leading and trailing quotes (this will be addressed later). No other issues were found in the data, but a label indicating *non-toxic* comments was added to the dataset.\n",
    "\n",
    "Correlation and hierarchical clustering analysis results presented in [Fig. @fig-corr-comment-types] suggest that `toxic`, `obscene`, and `insult` labels have the strongest relationships. But this should be investigated in more detail and, unfortunately, this is out of scope for this project.\n",
    "\n"
   ]
  },
  {
   "cell_type": "code",
   "execution_count": 11,
   "metadata": {},
   "outputs": [],
   "source": [
    "data_train_val = pd.read_csv(\"data/raw/train.csv\")"
   ]
  },
  {
   "cell_type": "code",
   "execution_count": 12,
   "metadata": {},
   "outputs": [
    {
     "data": {
      "text/plain": [
       "(159571, 8)"
      ]
     },
     "execution_count": 12,
     "metadata": {},
     "output_type": "execute_result"
    }
   ],
   "source": [
    "data_train_val.shape"
   ]
  },
  {
   "cell_type": "code",
   "execution_count": 13,
   "metadata": {},
   "outputs": [
    {
     "name": "stdout",
     "output_type": "stream",
     "text": [
      "<class 'pandas.core.frame.DataFrame'>\n",
      "RangeIndex: 159571 entries, 0 to 159570\n",
      "Data columns (total 8 columns):\n",
      " #   Column         Non-Null Count   Dtype \n",
      "---  ------         --------------   ----- \n",
      " 0   id             159571 non-null  object\n",
      " 1   comment_text   159571 non-null  object\n",
      " 2   toxic          159571 non-null  int64 \n",
      " 3   severe_toxic   159571 non-null  int64 \n",
      " 4   obscene        159571 non-null  int64 \n",
      " 5   threat         159571 non-null  int64 \n",
      " 6   insult         159571 non-null  int64 \n",
      " 7   identity_hate  159571 non-null  int64 \n",
      "dtypes: int64(6), object(2)\n",
      "memory usage: 9.7+ MB\n"
     ]
    }
   ],
   "source": [
    "data_train_val.info()"
   ]
  },
  {
   "cell_type": "code",
   "execution_count": 14,
   "metadata": {},
   "outputs": [
    {
     "data": {
      "text/html": [
       "<div>\n",
       "<style scoped>\n",
       "    .dataframe tbody tr th:only-of-type {\n",
       "        vertical-align: middle;\n",
       "    }\n",
       "\n",
       "    .dataframe tbody tr th {\n",
       "        vertical-align: top;\n",
       "    }\n",
       "\n",
       "    .dataframe thead th {\n",
       "        text-align: right;\n",
       "    }\n",
       "</style>\n",
       "<table border=\"1\" class=\"dataframe\">\n",
       "  <thead>\n",
       "    <tr style=\"text-align: right;\">\n",
       "      <th></th>\n",
       "      <th>id</th>\n",
       "      <th>comment_text</th>\n",
       "      <th>toxic</th>\n",
       "      <th>severe_toxic</th>\n",
       "      <th>obscene</th>\n",
       "      <th>threat</th>\n",
       "      <th>insult</th>\n",
       "      <th>identity_hate</th>\n",
       "    </tr>\n",
       "  </thead>\n",
       "  <tbody>\n",
       "    <tr>\n",
       "      <th>0</th>\n",
       "      <td>0000997932d777bf</td>\n",
       "      <td>Explanation\\nWhy the edits made under my usern...</td>\n",
       "      <td>0</td>\n",
       "      <td>0</td>\n",
       "      <td>0</td>\n",
       "      <td>0</td>\n",
       "      <td>0</td>\n",
       "      <td>0</td>\n",
       "    </tr>\n",
       "    <tr>\n",
       "      <th>1</th>\n",
       "      <td>000103f0d9cfb60f</td>\n",
       "      <td>D'aww! He matches this background colour I'm s...</td>\n",
       "      <td>0</td>\n",
       "      <td>0</td>\n",
       "      <td>0</td>\n",
       "      <td>0</td>\n",
       "      <td>0</td>\n",
       "      <td>0</td>\n",
       "    </tr>\n",
       "    <tr>\n",
       "      <th>2</th>\n",
       "      <td>000113f07ec002fd</td>\n",
       "      <td>Hey man, I'm really not trying to edit war. It...</td>\n",
       "      <td>0</td>\n",
       "      <td>0</td>\n",
       "      <td>0</td>\n",
       "      <td>0</td>\n",
       "      <td>0</td>\n",
       "      <td>0</td>\n",
       "    </tr>\n",
       "    <tr>\n",
       "      <th>3</th>\n",
       "      <td>0001b41b1c6bb37e</td>\n",
       "      <td>\"\\nMore\\nI can't make any real suggestions on ...</td>\n",
       "      <td>0</td>\n",
       "      <td>0</td>\n",
       "      <td>0</td>\n",
       "      <td>0</td>\n",
       "      <td>0</td>\n",
       "      <td>0</td>\n",
       "    </tr>\n",
       "    <tr>\n",
       "      <th>4</th>\n",
       "      <td>0001d958c54c6e35</td>\n",
       "      <td>You, sir, are my hero. Any chance you remember...</td>\n",
       "      <td>0</td>\n",
       "      <td>0</td>\n",
       "      <td>0</td>\n",
       "      <td>0</td>\n",
       "      <td>0</td>\n",
       "      <td>0</td>\n",
       "    </tr>\n",
       "  </tbody>\n",
       "</table>\n",
       "</div>"
      ],
      "text/plain": [
       "                 id                                       comment_text  toxic  \\\n",
       "0  0000997932d777bf  Explanation\\nWhy the edits made under my usern...      0   \n",
       "1  000103f0d9cfb60f  D'aww! He matches this background colour I'm s...      0   \n",
       "2  000113f07ec002fd  Hey man, I'm really not trying to edit war. It...      0   \n",
       "3  0001b41b1c6bb37e  \"\\nMore\\nI can't make any real suggestions on ...      0   \n",
       "4  0001d958c54c6e35  You, sir, are my hero. Any chance you remember...      0   \n",
       "\n",
       "   severe_toxic  obscene  threat  insult  identity_hate  \n",
       "0             0        0       0       0              0  \n",
       "1             0        0       0       0              0  \n",
       "2             0        0       0       0              0  \n",
       "3             0        0       0       0              0  \n",
       "4             0        0       0       0              0  "
      ]
     },
     "execution_count": 14,
     "metadata": {},
     "output_type": "execute_result"
    }
   ],
   "source": [
    "data_train_val.head()"
   ]
  },
  {
   "cell_type": "code",
   "execution_count": 15,
   "metadata": {},
   "outputs": [
    {
     "data": {
      "text/html": [
       "<div>\n",
       "<style scoped>\n",
       "    .dataframe tbody tr th:only-of-type {\n",
       "        vertical-align: middle;\n",
       "    }\n",
       "\n",
       "    .dataframe tbody tr th {\n",
       "        vertical-align: top;\n",
       "    }\n",
       "\n",
       "    .dataframe thead th {\n",
       "        text-align: right;\n",
       "    }\n",
       "</style>\n",
       "<table border=\"1\" class=\"dataframe\">\n",
       "  <thead>\n",
       "    <tr style=\"text-align: right;\">\n",
       "      <th></th>\n",
       "      <th>id</th>\n",
       "      <th>comment_text</th>\n",
       "      <th>toxic</th>\n",
       "      <th>severe_toxic</th>\n",
       "      <th>obscene</th>\n",
       "      <th>threat</th>\n",
       "      <th>insult</th>\n",
       "      <th>identity_hate</th>\n",
       "    </tr>\n",
       "  </thead>\n",
       "  <tbody>\n",
       "    <tr>\n",
       "      <th>159566</th>\n",
       "      <td>ffe987279560d7ff</td>\n",
       "      <td>\":::::And for the second time of asking, when ...</td>\n",
       "      <td>0</td>\n",
       "      <td>0</td>\n",
       "      <td>0</td>\n",
       "      <td>0</td>\n",
       "      <td>0</td>\n",
       "      <td>0</td>\n",
       "    </tr>\n",
       "    <tr>\n",
       "      <th>159567</th>\n",
       "      <td>ffea4adeee384e90</td>\n",
       "      <td>You should be ashamed of yourself \\n\\nThat is ...</td>\n",
       "      <td>0</td>\n",
       "      <td>0</td>\n",
       "      <td>0</td>\n",
       "      <td>0</td>\n",
       "      <td>0</td>\n",
       "      <td>0</td>\n",
       "    </tr>\n",
       "    <tr>\n",
       "      <th>159568</th>\n",
       "      <td>ffee36eab5c267c9</td>\n",
       "      <td>Spitzer \\n\\nUmm, theres no actual article for ...</td>\n",
       "      <td>0</td>\n",
       "      <td>0</td>\n",
       "      <td>0</td>\n",
       "      <td>0</td>\n",
       "      <td>0</td>\n",
       "      <td>0</td>\n",
       "    </tr>\n",
       "    <tr>\n",
       "      <th>159569</th>\n",
       "      <td>fff125370e4aaaf3</td>\n",
       "      <td>And it looks like it was actually you who put ...</td>\n",
       "      <td>0</td>\n",
       "      <td>0</td>\n",
       "      <td>0</td>\n",
       "      <td>0</td>\n",
       "      <td>0</td>\n",
       "      <td>0</td>\n",
       "    </tr>\n",
       "    <tr>\n",
       "      <th>159570</th>\n",
       "      <td>fff46fc426af1f9a</td>\n",
       "      <td>\"\\nAnd ... I really don't think you understand...</td>\n",
       "      <td>0</td>\n",
       "      <td>0</td>\n",
       "      <td>0</td>\n",
       "      <td>0</td>\n",
       "      <td>0</td>\n",
       "      <td>0</td>\n",
       "    </tr>\n",
       "  </tbody>\n",
       "</table>\n",
       "</div>"
      ],
      "text/plain": [
       "                      id                                       comment_text  \\\n",
       "159566  ffe987279560d7ff  \":::::And for the second time of asking, when ...   \n",
       "159567  ffea4adeee384e90  You should be ashamed of yourself \\n\\nThat is ...   \n",
       "159568  ffee36eab5c267c9  Spitzer \\n\\nUmm, theres no actual article for ...   \n",
       "159569  fff125370e4aaaf3  And it looks like it was actually you who put ...   \n",
       "159570  fff46fc426af1f9a  \"\\nAnd ... I really don't think you understand...   \n",
       "\n",
       "        toxic  severe_toxic  obscene  threat  insult  identity_hate  \n",
       "159566      0             0        0       0       0              0  \n",
       "159567      0             0        0       0       0              0  \n",
       "159568      0             0        0       0       0              0  \n",
       "159569      0             0        0       0       0              0  \n",
       "159570      0             0        0       0       0              0  "
      ]
     },
     "execution_count": 15,
     "metadata": {},
     "output_type": "execute_result"
    }
   ],
   "source": [
    "data_train_val.tail()"
   ]
  },
  {
   "cell_type": "code",
   "execution_count": 16,
   "metadata": {},
   "outputs": [
    {
     "data": {
      "text/html": [
       "<div>\n",
       "<style scoped>\n",
       "    .dataframe tbody tr th:only-of-type {\n",
       "        vertical-align: middle;\n",
       "    }\n",
       "\n",
       "    .dataframe tbody tr th {\n",
       "        vertical-align: top;\n",
       "    }\n",
       "\n",
       "    .dataframe thead th {\n",
       "        text-align: right;\n",
       "    }\n",
       "</style>\n",
       "<table border=\"1\" class=\"dataframe\">\n",
       "  <thead>\n",
       "    <tr style=\"text-align: right;\">\n",
       "      <th></th>\n",
       "      <th>n_missing_values</th>\n",
       "    </tr>\n",
       "  </thead>\n",
       "  <tbody>\n",
       "    <tr>\n",
       "      <th>id</th>\n",
       "      <td>0</td>\n",
       "    </tr>\n",
       "    <tr>\n",
       "      <th>comment_text</th>\n",
       "      <td>0</td>\n",
       "    </tr>\n",
       "    <tr>\n",
       "      <th>toxic</th>\n",
       "      <td>0</td>\n",
       "    </tr>\n",
       "    <tr>\n",
       "      <th>severe_toxic</th>\n",
       "      <td>0</td>\n",
       "    </tr>\n",
       "    <tr>\n",
       "      <th>obscene</th>\n",
       "      <td>0</td>\n",
       "    </tr>\n",
       "    <tr>\n",
       "      <th>threat</th>\n",
       "      <td>0</td>\n",
       "    </tr>\n",
       "    <tr>\n",
       "      <th>insult</th>\n",
       "      <td>0</td>\n",
       "    </tr>\n",
       "    <tr>\n",
       "      <th>identity_hate</th>\n",
       "      <td>0</td>\n",
       "    </tr>\n",
       "  </tbody>\n",
       "</table>\n",
       "</div>"
      ],
      "text/plain": [
       "               n_missing_values\n",
       "id                            0\n",
       "comment_text                  0\n",
       "toxic                         0\n",
       "severe_toxic                  0\n",
       "obscene                       0\n",
       "threat                        0\n",
       "insult                        0\n",
       "identity_hate                 0"
      ]
     },
     "execution_count": 16,
     "metadata": {},
     "output_type": "execute_result"
    }
   ],
   "source": [
    "data_train_val.isnull().sum().rename(\"n_missing_values\").to_frame()"
   ]
  },
  {
   "cell_type": "code",
   "execution_count": 17,
   "metadata": {},
   "outputs": [
    {
     "data": {
      "text/plain": [
       "0"
      ]
     },
     "execution_count": 17,
     "metadata": {},
     "output_type": "execute_result"
    }
   ],
   "source": [
    "data_train_val.duplicated().sum()"
   ]
  },
  {
   "cell_type": "code",
   "execution_count": 18,
   "metadata": {},
   "outputs": [
    {
     "data": {
      "text/plain": [
       "0"
      ]
     },
     "execution_count": 18,
     "metadata": {},
     "output_type": "execute_result"
    }
   ],
   "source": [
    "data_train_val.comment_text.duplicated().sum()"
   ]
  },
  {
   "cell_type": "code",
   "execution_count": 19,
   "metadata": {},
   "outputs": [],
   "source": [
    "data_train_val[\"non_toxic\"] = create_non_toxic_label(data_train_val, toxic_labels)"
   ]
  },
  {
   "cell_type": "code",
   "execution_count": 20,
   "metadata": {},
   "outputs": [
    {
     "data": {
      "text/html": [
       "<style type=\"text/css\">\n",
       "</style>\n",
       "<table id=\"T_65a72\">\n",
       "  <thead>\n",
       "    <tr>\n",
       "      <th class=\"blank level0\" >&nbsp;</th>\n",
       "      <th id=\"T_65a72_level0_col0\" class=\"col_heading level0 col0\" >↓ label / value →</th>\n",
       "      <th id=\"T_65a72_level0_col1\" class=\"col_heading level0 col1\" >0</th>\n",
       "      <th id=\"T_65a72_level0_col2\" class=\"col_heading level0 col2\" >1</th>\n",
       "    </tr>\n",
       "  </thead>\n",
       "  <tbody>\n",
       "    <tr>\n",
       "      <th id=\"T_65a72_level0_row0\" class=\"row_heading level0 row0\" >0</th>\n",
       "      <td id=\"T_65a72_row0_col0\" class=\"data row0 col0\" >non_toxic</td>\n",
       "      <td id=\"T_65a72_row0_col1\" class=\"data row0 col1\" >16225</td>\n",
       "      <td id=\"T_65a72_row0_col2\" class=\"data row0 col2\" >143346</td>\n",
       "    </tr>\n",
       "    <tr>\n",
       "      <th id=\"T_65a72_level0_row1\" class=\"row_heading level0 row1\" >1</th>\n",
       "      <td id=\"T_65a72_row1_col0\" class=\"data row1 col0\" >toxic</td>\n",
       "      <td id=\"T_65a72_row1_col1\" class=\"data row1 col1\" >144277</td>\n",
       "      <td id=\"T_65a72_row1_col2\" class=\"data row1 col2\" >15294</td>\n",
       "    </tr>\n",
       "    <tr>\n",
       "      <th id=\"T_65a72_level0_row2\" class=\"row_heading level0 row2\" >2</th>\n",
       "      <td id=\"T_65a72_row2_col0\" class=\"data row2 col0\" >severe_toxic</td>\n",
       "      <td id=\"T_65a72_row2_col1\" class=\"data row2 col1\" >157976</td>\n",
       "      <td id=\"T_65a72_row2_col2\" class=\"data row2 col2\" >1595</td>\n",
       "    </tr>\n",
       "    <tr>\n",
       "      <th id=\"T_65a72_level0_row3\" class=\"row_heading level0 row3\" >3</th>\n",
       "      <td id=\"T_65a72_row3_col0\" class=\"data row3 col0\" >obscene</td>\n",
       "      <td id=\"T_65a72_row3_col1\" class=\"data row3 col1\" >151122</td>\n",
       "      <td id=\"T_65a72_row3_col2\" class=\"data row3 col2\" >8449</td>\n",
       "    </tr>\n",
       "    <tr>\n",
       "      <th id=\"T_65a72_level0_row4\" class=\"row_heading level0 row4\" >4</th>\n",
       "      <td id=\"T_65a72_row4_col0\" class=\"data row4 col0\" >threat</td>\n",
       "      <td id=\"T_65a72_row4_col1\" class=\"data row4 col1\" >159093</td>\n",
       "      <td id=\"T_65a72_row4_col2\" class=\"data row4 col2\" >478</td>\n",
       "    </tr>\n",
       "    <tr>\n",
       "      <th id=\"T_65a72_level0_row5\" class=\"row_heading level0 row5\" >5</th>\n",
       "      <td id=\"T_65a72_row5_col0\" class=\"data row5 col0\" >insult</td>\n",
       "      <td id=\"T_65a72_row5_col1\" class=\"data row5 col1\" >151694</td>\n",
       "      <td id=\"T_65a72_row5_col2\" class=\"data row5 col2\" >7877</td>\n",
       "    </tr>\n",
       "    <tr>\n",
       "      <th id=\"T_65a72_level0_row6\" class=\"row_heading level0 row6\" >6</th>\n",
       "      <td id=\"T_65a72_row6_col0\" class=\"data row6 col0\" >identity_hate</td>\n",
       "      <td id=\"T_65a72_row6_col1\" class=\"data row6 col1\" >158166</td>\n",
       "      <td id=\"T_65a72_row6_col2\" class=\"data row6 col2\" >1405</td>\n",
       "    </tr>\n",
       "  </tbody>\n",
       "</table>\n"
      ],
      "text/plain": [
       "<pandas.io.formats.style.Styler at 0x2c9e99bf6d0>"
      ]
     },
     "execution_count": 20,
     "metadata": {},
     "output_type": "execute_result"
    }
   ],
   "source": [
    "# Counts of each label\n",
    "value_counts_per_column(data_train_val, all_labels).style.format(precision=0)"
   ]
  },
  {
   "cell_type": "code",
   "execution_count": 21,
   "metadata": {},
   "outputs": [
    {
     "data": {
      "image/png": "[encoded data removed]",
      "text/plain": [
       "<Figure size 1000x300 with 1 Axes>"
      ]
     },
     "metadata": {},
     "output_type": "display_data"
    }
   ],
   "source": [
    "# | label: fig-comment-counts-train-val\n",
    "# | fig-cap: \"Distribution of comment types (labels) in the\n",
    "# |    *training and validation* data. Each comment can have multiple labels.\"\n",
    "# | code-fold: true\n",
    "plot_label_counts(\n",
    "    data_train_val,\n",
    "    all_labels,\n",
    "    title=\"Counts of Each Label (Training + Validation Data)\",\n",
    ")\n",
    "plt.show()"
   ]
  },
  {
   "cell_type": "code",
   "execution_count": 22,
   "metadata": {},
   "outputs": [
    {
     "data": {
      "image/png": "[encoded data removed]",
      "text/plain": [
       "<Figure size 700x500 with 4 Axes>"
      ]
     },
     "metadata": {},
     "output_type": "display_data"
    }
   ],
   "source": [
    "# | label: fig-corr-comment-types\n",
    "# | fig-cap: Correlation between presence of comment types.\n",
    "# | code-fold: true\n",
    "\n",
    "g = sns.clustermap(\n",
    "    data_train_val[all_labels].corr(),\n",
    "    method=\"ward\",\n",
    "    cmap=\"RdBu\",\n",
    "    annot=True,\n",
    "    annot_kws={\"size\": 8},\n",
    "    vmin=-1,\n",
    "    vmax=1,\n",
    "    figsize=(7, 5),\n",
    "    cbar_pos=(0.94, 0.91, 0.03, 0.1),\n",
    "    cbar_kws={\"location\": \"right\"},\n",
    "    dendrogram_ratio=(0.2, 0),\n",
    ")\n",
    "g.figure.suptitle(\n",
    "    \"Correlation Between Presence of Comment Types\",\n",
    "    fontsize=12,\n",
    "    y=1.03,\n",
    "    x=0.55,\n",
    ")\n",
    "plt.show()"
   ]
  },
  {
   "cell_type": "markdown",
   "metadata": {},
   "source": [
    "## Test Data"
   ]
  },
  {
   "cell_type": "markdown",
   "metadata": {},
   "source": [
    "The test data comes in 2 separate files: `test.csv` and `test_labels.csv`. The first one contains the comments, and in the second one there are the labels for the comments. There were approximately 153,000 comments in the test set but some labels are unknown and are marked with `-1` thus in the testing part only around 64,000 were included. There is the same issue with multi-row comments as in the training data too and the distribution of labels is similar to the training set (see [Fig. @fig-comment-counts-test])."
   ]
  },
  {
   "cell_type": "code",
   "execution_count": 36,
   "metadata": {},
   "outputs": [],
   "source": [
    "test_data_raw = pd.read_csv(\"data/raw/test.csv\")\n",
    "test_labels = pd.read_csv(\"data/raw/test_labels.csv\")"
   ]
  },
  {
   "cell_type": "code",
   "execution_count": 37,
   "metadata": {},
   "outputs": [
    {
     "name": "stdout",
     "output_type": "stream",
     "text": [
      "---  Size as  (rows, columns)  ---\n",
      "     Test data:   (153164, 2)\n",
      "     Test labels: (153164, 7)\n"
     ]
    }
   ],
   "source": [
    "print(\n",
    "    \"---  Size as  (rows, columns)  ---\\n\"\n",
    "    f\"     Test data:   {test_data_raw.shape}\\n\"\n",
    "    f\"     Test labels: {test_labels.shape}\"\n",
    ")"
   ]
  },
  {
   "cell_type": "code",
   "execution_count": 38,
   "metadata": {},
   "outputs": [
    {
     "data": {
      "text/html": [
       "<div>\n",
       "<style scoped>\n",
       "    .dataframe tbody tr th:only-of-type {\n",
       "        vertical-align: middle;\n",
       "    }\n",
       "\n",
       "    .dataframe tbody tr th {\n",
       "        vertical-align: top;\n",
       "    }\n",
       "\n",
       "    .dataframe thead th {\n",
       "        text-align: right;\n",
       "    }\n",
       "</style>\n",
       "<table border=\"1\" class=\"dataframe\">\n",
       "  <thead>\n",
       "    <tr style=\"text-align: right;\">\n",
       "      <th></th>\n",
       "      <th>id</th>\n",
       "      <th>comment_text</th>\n",
       "    </tr>\n",
       "  </thead>\n",
       "  <tbody>\n",
       "    <tr>\n",
       "      <th>0</th>\n",
       "      <td>00001cee341fdb12</td>\n",
       "      <td>Yo bitch Ja Rule is more succesful then you'll...</td>\n",
       "    </tr>\n",
       "    <tr>\n",
       "      <th>1</th>\n",
       "      <td>0000247867823ef7</td>\n",
       "      <td>== From RfC == \\n\\n The title is fine as it is...</td>\n",
       "    </tr>\n",
       "    <tr>\n",
       "      <th>2</th>\n",
       "      <td>00013b17ad220c46</td>\n",
       "      <td>\" \\n\\n == Sources == \\n\\n * Zawe Ashton on Lap...</td>\n",
       "    </tr>\n",
       "    <tr>\n",
       "      <th>3</th>\n",
       "      <td>00017563c3f7919a</td>\n",
       "      <td>:If you have a look back at the source, the in...</td>\n",
       "    </tr>\n",
       "    <tr>\n",
       "      <th>4</th>\n",
       "      <td>00017695ad8997eb</td>\n",
       "      <td>I don't anonymously edit articles at all.</td>\n",
       "    </tr>\n",
       "  </tbody>\n",
       "</table>\n",
       "</div>"
      ],
      "text/plain": [
       "                 id                                       comment_text\n",
       "0  00001cee341fdb12  Yo bitch Ja Rule is more succesful then you'll...\n",
       "1  0000247867823ef7  == From RfC == \\n\\n The title is fine as it is...\n",
       "2  00013b17ad220c46  \" \\n\\n == Sources == \\n\\n * Zawe Ashton on Lap...\n",
       "3  00017563c3f7919a  :If you have a look back at the source, the in...\n",
       "4  00017695ad8997eb          I don't anonymously edit articles at all."
      ]
     },
     "execution_count": 38,
     "metadata": {},
     "output_type": "execute_result"
    }
   ],
   "source": [
    "test_data_raw.head()"
   ]
  },
  {
   "cell_type": "code",
   "execution_count": 39,
   "metadata": {},
   "outputs": [
    {
     "data": {
      "text/html": [
       "<div>\n",
       "<style scoped>\n",
       "    .dataframe tbody tr th:only-of-type {\n",
       "        vertical-align: middle;\n",
       "    }\n",
       "\n",
       "    .dataframe tbody tr th {\n",
       "        vertical-align: top;\n",
       "    }\n",
       "\n",
       "    .dataframe thead th {\n",
       "        text-align: right;\n",
       "    }\n",
       "</style>\n",
       "<table border=\"1\" class=\"dataframe\">\n",
       "  <thead>\n",
       "    <tr style=\"text-align: right;\">\n",
       "      <th></th>\n",
       "      <th>id</th>\n",
       "      <th>toxic</th>\n",
       "      <th>severe_toxic</th>\n",
       "      <th>obscene</th>\n",
       "      <th>threat</th>\n",
       "      <th>insult</th>\n",
       "      <th>identity_hate</th>\n",
       "    </tr>\n",
       "  </thead>\n",
       "  <tbody>\n",
       "    <tr>\n",
       "      <th>0</th>\n",
       "      <td>00001cee341fdb12</td>\n",
       "      <td>-1</td>\n",
       "      <td>-1</td>\n",
       "      <td>-1</td>\n",
       "      <td>-1</td>\n",
       "      <td>-1</td>\n",
       "      <td>-1</td>\n",
       "    </tr>\n",
       "    <tr>\n",
       "      <th>1</th>\n",
       "      <td>0000247867823ef7</td>\n",
       "      <td>-1</td>\n",
       "      <td>-1</td>\n",
       "      <td>-1</td>\n",
       "      <td>-1</td>\n",
       "      <td>-1</td>\n",
       "      <td>-1</td>\n",
       "    </tr>\n",
       "    <tr>\n",
       "      <th>2</th>\n",
       "      <td>00013b17ad220c46</td>\n",
       "      <td>-1</td>\n",
       "      <td>-1</td>\n",
       "      <td>-1</td>\n",
       "      <td>-1</td>\n",
       "      <td>-1</td>\n",
       "      <td>-1</td>\n",
       "    </tr>\n",
       "    <tr>\n",
       "      <th>3</th>\n",
       "      <td>00017563c3f7919a</td>\n",
       "      <td>-1</td>\n",
       "      <td>-1</td>\n",
       "      <td>-1</td>\n",
       "      <td>-1</td>\n",
       "      <td>-1</td>\n",
       "      <td>-1</td>\n",
       "    </tr>\n",
       "    <tr>\n",
       "      <th>4</th>\n",
       "      <td>00017695ad8997eb</td>\n",
       "      <td>-1</td>\n",
       "      <td>-1</td>\n",
       "      <td>-1</td>\n",
       "      <td>-1</td>\n",
       "      <td>-1</td>\n",
       "      <td>-1</td>\n",
       "    </tr>\n",
       "  </tbody>\n",
       "</table>\n",
       "</div>"
      ],
      "text/plain": [
       "                 id  toxic  severe_toxic  obscene  threat  insult  \\\n",
       "0  00001cee341fdb12     -1            -1       -1      -1      -1   \n",
       "1  0000247867823ef7     -1            -1       -1      -1      -1   \n",
       "2  00013b17ad220c46     -1            -1       -1      -1      -1   \n",
       "3  00017563c3f7919a     -1            -1       -1      -1      -1   \n",
       "4  00017695ad8997eb     -1            -1       -1      -1      -1   \n",
       "\n",
       "   identity_hate  \n",
       "0             -1  \n",
       "1             -1  \n",
       "2             -1  \n",
       "3             -1  \n",
       "4             -1  "
      ]
     },
     "execution_count": 39,
     "metadata": {},
     "output_type": "execute_result"
    }
   ],
   "source": [
    "test_labels.head()"
   ]
  },
  {
   "cell_type": "code",
   "execution_count": 40,
   "metadata": {},
   "outputs": [
    {
     "name": "stdout",
     "output_type": "stream",
     "text": [
      "(153164, 8)\n"
     ]
    },
    {
     "data": {
      "text/html": [
       "<div>\n",
       "<style scoped>\n",
       "    .dataframe tbody tr th:only-of-type {\n",
       "        vertical-align: middle;\n",
       "    }\n",
       "\n",
       "    .dataframe tbody tr th {\n",
       "        vertical-align: top;\n",
       "    }\n",
       "\n",
       "    .dataframe thead th {\n",
       "        text-align: right;\n",
       "    }\n",
       "</style>\n",
       "<table border=\"1\" class=\"dataframe\">\n",
       "  <thead>\n",
       "    <tr style=\"text-align: right;\">\n",
       "      <th></th>\n",
       "      <th>id</th>\n",
       "      <th>comment_text</th>\n",
       "      <th>toxic</th>\n",
       "      <th>severe_toxic</th>\n",
       "      <th>obscene</th>\n",
       "      <th>threat</th>\n",
       "      <th>insult</th>\n",
       "      <th>identity_hate</th>\n",
       "    </tr>\n",
       "  </thead>\n",
       "  <tbody>\n",
       "    <tr>\n",
       "      <th>0</th>\n",
       "      <td>00001cee341fdb12</td>\n",
       "      <td>Yo bitch Ja Rule is more succesful then you'll...</td>\n",
       "      <td>-1</td>\n",
       "      <td>-1</td>\n",
       "      <td>-1</td>\n",
       "      <td>-1</td>\n",
       "      <td>-1</td>\n",
       "      <td>-1</td>\n",
       "    </tr>\n",
       "    <tr>\n",
       "      <th>1</th>\n",
       "      <td>0000247867823ef7</td>\n",
       "      <td>== From RfC == \\n\\n The title is fine as it is...</td>\n",
       "      <td>-1</td>\n",
       "      <td>-1</td>\n",
       "      <td>-1</td>\n",
       "      <td>-1</td>\n",
       "      <td>-1</td>\n",
       "      <td>-1</td>\n",
       "    </tr>\n",
       "    <tr>\n",
       "      <th>2</th>\n",
       "      <td>00013b17ad220c46</td>\n",
       "      <td>\" \\n\\n == Sources == \\n\\n * Zawe Ashton on Lap...</td>\n",
       "      <td>-1</td>\n",
       "      <td>-1</td>\n",
       "      <td>-1</td>\n",
       "      <td>-1</td>\n",
       "      <td>-1</td>\n",
       "      <td>-1</td>\n",
       "    </tr>\n",
       "    <tr>\n",
       "      <th>3</th>\n",
       "      <td>00017563c3f7919a</td>\n",
       "      <td>:If you have a look back at the source, the in...</td>\n",
       "      <td>-1</td>\n",
       "      <td>-1</td>\n",
       "      <td>-1</td>\n",
       "      <td>-1</td>\n",
       "      <td>-1</td>\n",
       "      <td>-1</td>\n",
       "    </tr>\n",
       "    <tr>\n",
       "      <th>4</th>\n",
       "      <td>00017695ad8997eb</td>\n",
       "      <td>I don't anonymously edit articles at all.</td>\n",
       "      <td>-1</td>\n",
       "      <td>-1</td>\n",
       "      <td>-1</td>\n",
       "      <td>-1</td>\n",
       "      <td>-1</td>\n",
       "      <td>-1</td>\n",
       "    </tr>\n",
       "  </tbody>\n",
       "</table>\n",
       "</div>"
      ],
      "text/plain": [
       "                 id                                       comment_text  toxic  \\\n",
       "0  00001cee341fdb12  Yo bitch Ja Rule is more succesful then you'll...     -1   \n",
       "1  0000247867823ef7  == From RfC == \\n\\n The title is fine as it is...     -1   \n",
       "2  00013b17ad220c46  \" \\n\\n == Sources == \\n\\n * Zawe Ashton on Lap...     -1   \n",
       "3  00017563c3f7919a  :If you have a look back at the source, the in...     -1   \n",
       "4  00017695ad8997eb          I don't anonymously edit articles at all.     -1   \n",
       "\n",
       "   severe_toxic  obscene  threat  insult  identity_hate  \n",
       "0            -1       -1      -1      -1             -1  \n",
       "1            -1       -1      -1      -1             -1  \n",
       "2            -1       -1      -1      -1             -1  \n",
       "3            -1       -1      -1      -1             -1  \n",
       "4            -1       -1      -1      -1             -1  "
      ]
     },
     "execution_count": 40,
     "metadata": {},
     "output_type": "execute_result"
    }
   ],
   "source": [
    "data_test = pd.merge(test_data_raw, test_labels, on=\"id\")\n",
    "del test_data_raw, test_labels\n",
    "\n",
    "print(data_test.shape)\n",
    "\n",
    "data_test.head()"
   ]
  },
  {
   "cell_type": "code",
   "execution_count": 41,
   "metadata": {},
   "outputs": [],
   "source": [
    "# Add `non_toxic` label (column)\n",
    "data_test[\"non_toxic\"] = create_non_toxic_label(data_test, toxic_labels)"
   ]
  },
  {
   "cell_type": "code",
   "execution_count": 42,
   "metadata": {},
   "outputs": [
    {
     "data": {
      "text/html": [
       "<style type=\"text/css\">\n",
       "</style>\n",
       "<table id=\"T_2d100\">\n",
       "  <thead>\n",
       "    <tr>\n",
       "      <th class=\"blank level0\" >&nbsp;</th>\n",
       "      <th id=\"T_2d100_level0_col0\" class=\"col_heading level0 col0\" >↓ label / value →</th>\n",
       "      <th id=\"T_2d100_level0_col1\" class=\"col_heading level0 col1\" >-1</th>\n",
       "      <th id=\"T_2d100_level0_col2\" class=\"col_heading level0 col2\" >0</th>\n",
       "      <th id=\"T_2d100_level0_col3\" class=\"col_heading level0 col3\" >1</th>\n",
       "    </tr>\n",
       "  </thead>\n",
       "  <tbody>\n",
       "    <tr>\n",
       "      <th id=\"T_2d100_level0_row0\" class=\"row_heading level0 row0\" >0</th>\n",
       "      <td id=\"T_2d100_row0_col0\" class=\"data row0 col0\" >non_toxic</td>\n",
       "      <td id=\"T_2d100_row0_col1\" class=\"data row0 col1\" >nan</td>\n",
       "      <td id=\"T_2d100_row0_col2\" class=\"data row0 col2\" >95429</td>\n",
       "      <td id=\"T_2d100_row0_col3\" class=\"data row0 col3\" >57735</td>\n",
       "    </tr>\n",
       "    <tr>\n",
       "      <th id=\"T_2d100_level0_row1\" class=\"row_heading level0 row1\" >1</th>\n",
       "      <td id=\"T_2d100_row1_col0\" class=\"data row1 col0\" >toxic</td>\n",
       "      <td id=\"T_2d100_row1_col1\" class=\"data row1 col1\" >89186</td>\n",
       "      <td id=\"T_2d100_row1_col2\" class=\"data row1 col2\" >57888</td>\n",
       "      <td id=\"T_2d100_row1_col3\" class=\"data row1 col3\" >6090</td>\n",
       "    </tr>\n",
       "    <tr>\n",
       "      <th id=\"T_2d100_level0_row2\" class=\"row_heading level0 row2\" >2</th>\n",
       "      <td id=\"T_2d100_row2_col0\" class=\"data row2 col0\" >severe_toxic</td>\n",
       "      <td id=\"T_2d100_row2_col1\" class=\"data row2 col1\" >89186</td>\n",
       "      <td id=\"T_2d100_row2_col2\" class=\"data row2 col2\" >63611</td>\n",
       "      <td id=\"T_2d100_row2_col3\" class=\"data row2 col3\" >367</td>\n",
       "    </tr>\n",
       "    <tr>\n",
       "      <th id=\"T_2d100_level0_row3\" class=\"row_heading level0 row3\" >3</th>\n",
       "      <td id=\"T_2d100_row3_col0\" class=\"data row3 col0\" >obscene</td>\n",
       "      <td id=\"T_2d100_row3_col1\" class=\"data row3 col1\" >89186</td>\n",
       "      <td id=\"T_2d100_row3_col2\" class=\"data row3 col2\" >60287</td>\n",
       "      <td id=\"T_2d100_row3_col3\" class=\"data row3 col3\" >3691</td>\n",
       "    </tr>\n",
       "    <tr>\n",
       "      <th id=\"T_2d100_level0_row4\" class=\"row_heading level0 row4\" >4</th>\n",
       "      <td id=\"T_2d100_row4_col0\" class=\"data row4 col0\" >threat</td>\n",
       "      <td id=\"T_2d100_row4_col1\" class=\"data row4 col1\" >89186</td>\n",
       "      <td id=\"T_2d100_row4_col2\" class=\"data row4 col2\" >63767</td>\n",
       "      <td id=\"T_2d100_row4_col3\" class=\"data row4 col3\" >211</td>\n",
       "    </tr>\n",
       "    <tr>\n",
       "      <th id=\"T_2d100_level0_row5\" class=\"row_heading level0 row5\" >5</th>\n",
       "      <td id=\"T_2d100_row5_col0\" class=\"data row5 col0\" >insult</td>\n",
       "      <td id=\"T_2d100_row5_col1\" class=\"data row5 col1\" >89186</td>\n",
       "      <td id=\"T_2d100_row5_col2\" class=\"data row5 col2\" >60551</td>\n",
       "      <td id=\"T_2d100_row5_col3\" class=\"data row5 col3\" >3427</td>\n",
       "    </tr>\n",
       "    <tr>\n",
       "      <th id=\"T_2d100_level0_row6\" class=\"row_heading level0 row6\" >6</th>\n",
       "      <td id=\"T_2d100_row6_col0\" class=\"data row6 col0\" >identity_hate</td>\n",
       "      <td id=\"T_2d100_row6_col1\" class=\"data row6 col1\" >89186</td>\n",
       "      <td id=\"T_2d100_row6_col2\" class=\"data row6 col2\" >63266</td>\n",
       "      <td id=\"T_2d100_row6_col3\" class=\"data row6 col3\" >712</td>\n",
       "    </tr>\n",
       "  </tbody>\n",
       "</table>\n"
      ],
      "text/plain": [
       "<pandas.io.formats.style.Styler at 0x2c9ea6ca450>"
      ]
     },
     "execution_count": 42,
     "metadata": {},
     "output_type": "execute_result"
    }
   ],
   "source": [
    "value_counts_per_column(data_test, all_labels).style.format(precision=0)"
   ]
  },
  {
   "cell_type": "markdown",
   "metadata": {},
   "source": [
    "Value `-1` shows that the comment is unclassified. Comments like this should be **removed**."
   ]
  },
  {
   "cell_type": "code",
   "execution_count": 43,
   "metadata": {},
   "outputs": [],
   "source": [
    "# Remove unlabelled data\n",
    "data_test = data_test.query(\"toxic != -1\")"
   ]
  },
  {
   "cell_type": "code",
   "execution_count": 44,
   "metadata": {},
   "outputs": [
    {
     "data": {
      "text/plain": [
       "(63978, 9)"
      ]
     },
     "execution_count": 44,
     "metadata": {},
     "output_type": "execute_result"
    }
   ],
   "source": [
    "data_test.shape"
   ]
  },
  {
   "cell_type": "code",
   "execution_count": 45,
   "metadata": {},
   "outputs": [
    {
     "data": {
      "text/html": [
       "<div>\n",
       "<style scoped>\n",
       "    .dataframe tbody tr th:only-of-type {\n",
       "        vertical-align: middle;\n",
       "    }\n",
       "\n",
       "    .dataframe tbody tr th {\n",
       "        vertical-align: top;\n",
       "    }\n",
       "\n",
       "    .dataframe thead th {\n",
       "        text-align: right;\n",
       "    }\n",
       "</style>\n",
       "<table border=\"1\" class=\"dataframe\">\n",
       "  <thead>\n",
       "    <tr style=\"text-align: right;\">\n",
       "      <th></th>\n",
       "      <th>n_missing_values</th>\n",
       "    </tr>\n",
       "  </thead>\n",
       "  <tbody>\n",
       "    <tr>\n",
       "      <th>id</th>\n",
       "      <td>0</td>\n",
       "    </tr>\n",
       "    <tr>\n",
       "      <th>comment_text</th>\n",
       "      <td>0</td>\n",
       "    </tr>\n",
       "    <tr>\n",
       "      <th>toxic</th>\n",
       "      <td>0</td>\n",
       "    </tr>\n",
       "    <tr>\n",
       "      <th>severe_toxic</th>\n",
       "      <td>0</td>\n",
       "    </tr>\n",
       "    <tr>\n",
       "      <th>obscene</th>\n",
       "      <td>0</td>\n",
       "    </tr>\n",
       "    <tr>\n",
       "      <th>threat</th>\n",
       "      <td>0</td>\n",
       "    </tr>\n",
       "    <tr>\n",
       "      <th>insult</th>\n",
       "      <td>0</td>\n",
       "    </tr>\n",
       "    <tr>\n",
       "      <th>identity_hate</th>\n",
       "      <td>0</td>\n",
       "    </tr>\n",
       "    <tr>\n",
       "      <th>non_toxic</th>\n",
       "      <td>0</td>\n",
       "    </tr>\n",
       "  </tbody>\n",
       "</table>\n",
       "</div>"
      ],
      "text/plain": [
       "               n_missing_values\n",
       "id                            0\n",
       "comment_text                  0\n",
       "toxic                         0\n",
       "severe_toxic                  0\n",
       "obscene                       0\n",
       "threat                        0\n",
       "insult                        0\n",
       "identity_hate                 0\n",
       "non_toxic                     0"
      ]
     },
     "execution_count": 45,
     "metadata": {},
     "output_type": "execute_result"
    }
   ],
   "source": [
    "data_test.isna().sum().rename(\"n_missing_values\").to_frame()"
   ]
  },
  {
   "cell_type": "code",
   "execution_count": 46,
   "metadata": {},
   "outputs": [
    {
     "data": {
      "text/plain": [
       "0"
      ]
     },
     "execution_count": 46,
     "metadata": {},
     "output_type": "execute_result"
    }
   ],
   "source": [
    "data_test.duplicated().sum()"
   ]
  },
  {
   "cell_type": "code",
   "execution_count": 47,
   "metadata": {},
   "outputs": [
    {
     "data": {
      "text/html": [
       "<style type=\"text/css\">\n",
       "</style>\n",
       "<table id=\"T_651fb\">\n",
       "  <thead>\n",
       "    <tr>\n",
       "      <th class=\"blank level0\" >&nbsp;</th>\n",
       "      <th id=\"T_651fb_level0_col0\" class=\"col_heading level0 col0\" >↓ label / value →</th>\n",
       "      <th id=\"T_651fb_level0_col1\" class=\"col_heading level0 col1\" >0</th>\n",
       "      <th id=\"T_651fb_level0_col2\" class=\"col_heading level0 col2\" >1</th>\n",
       "    </tr>\n",
       "  </thead>\n",
       "  <tbody>\n",
       "    <tr>\n",
       "      <th id=\"T_651fb_level0_row0\" class=\"row_heading level0 row0\" >0</th>\n",
       "      <td id=\"T_651fb_row0_col0\" class=\"data row0 col0\" >non_toxic</td>\n",
       "      <td id=\"T_651fb_row0_col1\" class=\"data row0 col1\" >6243</td>\n",
       "      <td id=\"T_651fb_row0_col2\" class=\"data row0 col2\" >57735</td>\n",
       "    </tr>\n",
       "    <tr>\n",
       "      <th id=\"T_651fb_level0_row1\" class=\"row_heading level0 row1\" >1</th>\n",
       "      <td id=\"T_651fb_row1_col0\" class=\"data row1 col0\" >toxic</td>\n",
       "      <td id=\"T_651fb_row1_col1\" class=\"data row1 col1\" >57888</td>\n",
       "      <td id=\"T_651fb_row1_col2\" class=\"data row1 col2\" >6090</td>\n",
       "    </tr>\n",
       "    <tr>\n",
       "      <th id=\"T_651fb_level0_row2\" class=\"row_heading level0 row2\" >2</th>\n",
       "      <td id=\"T_651fb_row2_col0\" class=\"data row2 col0\" >severe_toxic</td>\n",
       "      <td id=\"T_651fb_row2_col1\" class=\"data row2 col1\" >63611</td>\n",
       "      <td id=\"T_651fb_row2_col2\" class=\"data row2 col2\" >367</td>\n",
       "    </tr>\n",
       "    <tr>\n",
       "      <th id=\"T_651fb_level0_row3\" class=\"row_heading level0 row3\" >3</th>\n",
       "      <td id=\"T_651fb_row3_col0\" class=\"data row3 col0\" >obscene</td>\n",
       "      <td id=\"T_651fb_row3_col1\" class=\"data row3 col1\" >60287</td>\n",
       "      <td id=\"T_651fb_row3_col2\" class=\"data row3 col2\" >3691</td>\n",
       "    </tr>\n",
       "    <tr>\n",
       "      <th id=\"T_651fb_level0_row4\" class=\"row_heading level0 row4\" >4</th>\n",
       "      <td id=\"T_651fb_row4_col0\" class=\"data row4 col0\" >threat</td>\n",
       "      <td id=\"T_651fb_row4_col1\" class=\"data row4 col1\" >63767</td>\n",
       "      <td id=\"T_651fb_row4_col2\" class=\"data row4 col2\" >211</td>\n",
       "    </tr>\n",
       "    <tr>\n",
       "      <th id=\"T_651fb_level0_row5\" class=\"row_heading level0 row5\" >5</th>\n",
       "      <td id=\"T_651fb_row5_col0\" class=\"data row5 col0\" >insult</td>\n",
       "      <td id=\"T_651fb_row5_col1\" class=\"data row5 col1\" >60551</td>\n",
       "      <td id=\"T_651fb_row5_col2\" class=\"data row5 col2\" >3427</td>\n",
       "    </tr>\n",
       "    <tr>\n",
       "      <th id=\"T_651fb_level0_row6\" class=\"row_heading level0 row6\" >6</th>\n",
       "      <td id=\"T_651fb_row6_col0\" class=\"data row6 col0\" >identity_hate</td>\n",
       "      <td id=\"T_651fb_row6_col1\" class=\"data row6 col1\" >63266</td>\n",
       "      <td id=\"T_651fb_row6_col2\" class=\"data row6 col2\" >712</td>\n",
       "    </tr>\n",
       "  </tbody>\n",
       "</table>\n"
      ],
      "text/plain": [
       "<pandas.io.formats.style.Styler at 0x2c9eb8a13d0>"
      ]
     },
     "execution_count": 47,
     "metadata": {},
     "output_type": "execute_result"
    }
   ],
   "source": [
    "value_counts_per_column(data_test, all_labels).style.format(precision=0)"
   ]
  },
  {
   "cell_type": "code",
   "execution_count": 48,
   "metadata": {},
   "outputs": [
    {
     "name": "stdout",
     "output_type": "stream",
     "text": [
      "<class 'pandas.core.frame.DataFrame'>\n",
      "Index: 63978 entries, 5 to 153156\n",
      "Data columns (total 9 columns):\n",
      " #   Column         Non-Null Count  Dtype \n",
      "---  ------         --------------  ----- \n",
      " 0   id             63978 non-null  object\n",
      " 1   comment_text   63978 non-null  object\n",
      " 2   toxic          63978 non-null  int64 \n",
      " 3   severe_toxic   63978 non-null  int64 \n",
      " 4   obscene        63978 non-null  int64 \n",
      " 5   threat         63978 non-null  int64 \n",
      " 6   insult         63978 non-null  int64 \n",
      " 7   identity_hate  63978 non-null  int64 \n",
      " 8   non_toxic      63978 non-null  int64 \n",
      "dtypes: int64(7), object(2)\n",
      "memory usage: 4.9+ MB\n"
     ]
    }
   ],
   "source": [
    "data_test.info()"
   ]
  },
  {
   "cell_type": "code",
   "execution_count": 49,
   "metadata": {},
   "outputs": [
    {
     "data": {
      "image/png": "[encoded data removed]",
      "text/plain": [
       "<Figure size 1000x300 with 1 Axes>"
      ]
     },
     "metadata": {},
     "output_type": "display_data"
    }
   ],
   "source": [
    "# | label: fig-comment-counts-test\n",
    "# | fig-cap: \"Distribution of comment types (labels) in the *test* data.\n",
    "# |    Each comment can have multiple labels.\"\n",
    "# | code-fold: true\n",
    "plot_label_counts(data_test, all_labels, title=\"Counts of Each Label (Test Data)\")\n",
    "plt.show()"
   ]
  },
  {
   "cell_type": "markdown",
   "metadata": {},
   "source": [
    "## Data Preprocessing: Training, Validation, and Test Sets"
   ]
  },
  {
   "cell_type": "markdown",
   "metadata": {},
   "source": [
    "First, to evaluate the possibilities of doing a stratified split, the frequencies toxic comment label combinations in the training and validation sets were counted. The results are presented in @tbl-comment-type-combinations.\n",
    "The combinations \"1,1,0,1,1,0\" and \"1,1,0,1,0,1\" appeared only once, so these labels were merged into one group \"etc\".\n",
    "\n",
    "The following pre-processing consists of the following steps:\n",
    "\n",
    "1) Split the `data_train_val` into training and validation sets (80% and 20% respectively) stratified by the combinations of different labels. The training set comes in a different so it is already separated from the main training-validation dataset.\n",
    "2) Create the `set` column to indicate whether the row is in the training, validation or test set.\n",
    "3) Bind the training, validation and test sets into a single dataset.\n",
    "4) Clean the text data:\n",
    "   - Fix technical artifacts: replace `\"\"` with `\"`, and remove `\"` from the beginning and the end of the strings with comment text.\n",
    "   - Strip leading and trailing whitespaces too.\n",
    "5) Save the pre-processed data to a file.\n",
    "\n",
    "The sizes of the training, validation and test sets are presented in [Fig. @fig-set-sizes]."
   ]
  },
  {
   "cell_type": "code",
   "execution_count": 50,
   "metadata": {},
   "outputs": [
    {
     "data": {
      "text/html": [
       "<div>\n",
       "<style scoped>\n",
       "    .dataframe tbody tr th:only-of-type {\n",
       "        vertical-align: middle;\n",
       "    }\n",
       "\n",
       "    .dataframe tbody tr th {\n",
       "        vertical-align: top;\n",
       "    }\n",
       "\n",
       "    .dataframe thead th {\n",
       "        text-align: right;\n",
       "    }\n",
       "</style>\n",
       "<table border=\"1\" class=\"dataframe\">\n",
       "  <thead>\n",
       "    <tr style=\"text-align: right;\">\n",
       "      <th></th>\n",
       "      <th>Comment Type Combination</th>\n",
       "      <th>Count</th>\n",
       "    </tr>\n",
       "  </thead>\n",
       "  <tbody>\n",
       "    <tr>\n",
       "      <th>0</th>\n",
       "      <td>0,0,0,0,0,0</td>\n",
       "      <td>143346</td>\n",
       "    </tr>\n",
       "    <tr>\n",
       "      <th>1</th>\n",
       "      <td>1,0,0,0,0,0</td>\n",
       "      <td>5666</td>\n",
       "    </tr>\n",
       "    <tr>\n",
       "      <th>2</th>\n",
       "      <td>1,0,1,0,1,0</td>\n",
       "      <td>3800</td>\n",
       "    </tr>\n",
       "    <tr>\n",
       "      <th>3</th>\n",
       "      <td>1,0,1,0,0,0</td>\n",
       "      <td>1758</td>\n",
       "    </tr>\n",
       "    <tr>\n",
       "      <th>4</th>\n",
       "      <td>1,0,0,0,1,0</td>\n",
       "      <td>1215</td>\n",
       "    </tr>\n",
       "    <tr>\n",
       "      <th>5</th>\n",
       "      <td>1,1,1,0,1,0</td>\n",
       "      <td>989</td>\n",
       "    </tr>\n",
       "    <tr>\n",
       "      <th>6</th>\n",
       "      <td>1,0,1,0,1,1</td>\n",
       "      <td>618</td>\n",
       "    </tr>\n",
       "    <tr>\n",
       "      <th>7</th>\n",
       "      <td>0,0,1,0,0,0</td>\n",
       "      <td>317</td>\n",
       "    </tr>\n",
       "    <tr>\n",
       "      <th>8</th>\n",
       "      <td>0,0,0,0,1,0</td>\n",
       "      <td>301</td>\n",
       "    </tr>\n",
       "    <tr>\n",
       "      <th>9</th>\n",
       "      <td>1,1,1,0,1,1</td>\n",
       "      <td>265</td>\n",
       "    </tr>\n",
       "    <tr>\n",
       "      <th>10</th>\n",
       "      <td>0,0,1,0,1,0</td>\n",
       "      <td>181</td>\n",
       "    </tr>\n",
       "    <tr>\n",
       "      <th>11</th>\n",
       "      <td>1,1,1,0,0,0</td>\n",
       "      <td>158</td>\n",
       "    </tr>\n",
       "    <tr>\n",
       "      <th>12</th>\n",
       "      <td>1,0,0,0,0,1</td>\n",
       "      <td>136</td>\n",
       "    </tr>\n",
       "    <tr>\n",
       "      <th>13</th>\n",
       "      <td>1,0,0,0,1,1</td>\n",
       "      <td>134</td>\n",
       "    </tr>\n",
       "    <tr>\n",
       "      <th>14</th>\n",
       "      <td>1,0,1,1,1,0</td>\n",
       "      <td>131</td>\n",
       "    </tr>\n",
       "    <tr>\n",
       "      <th>15</th>\n",
       "      <td>1,0,0,1,0,0</td>\n",
       "      <td>113</td>\n",
       "    </tr>\n",
       "    <tr>\n",
       "      <th>16</th>\n",
       "      <td>1,1,1,1,1,0</td>\n",
       "      <td>64</td>\n",
       "    </tr>\n",
       "    <tr>\n",
       "      <th>17</th>\n",
       "      <td>1,0,1,1,1,1</td>\n",
       "      <td>56</td>\n",
       "    </tr>\n",
       "    <tr>\n",
       "      <th>18</th>\n",
       "      <td>0,0,0,0,0,1</td>\n",
       "      <td>54</td>\n",
       "    </tr>\n",
       "    <tr>\n",
       "      <th>19</th>\n",
       "      <td>1,1,0,0,0,0</td>\n",
       "      <td>41</td>\n",
       "    </tr>\n",
       "    <tr>\n",
       "      <th>20</th>\n",
       "      <td>1,0,1,0,0,1</td>\n",
       "      <td>35</td>\n",
       "    </tr>\n",
       "    <tr>\n",
       "      <th>21</th>\n",
       "      <td>1,1,1,1,1,1</td>\n",
       "      <td>31</td>\n",
       "    </tr>\n",
       "    <tr>\n",
       "      <th>22</th>\n",
       "      <td>0,0,0,0,1,1</td>\n",
       "      <td>28</td>\n",
       "    </tr>\n",
       "    <tr>\n",
       "      <th>23</th>\n",
       "      <td>0,0,0,1,0,0</td>\n",
       "      <td>22</td>\n",
       "    </tr>\n",
       "    <tr>\n",
       "      <th>24</th>\n",
       "      <td>0,0,1,0,1,1</td>\n",
       "      <td>18</td>\n",
       "    </tr>\n",
       "    <tr>\n",
       "      <th>25</th>\n",
       "      <td>1,0,0,1,1,0</td>\n",
       "      <td>16</td>\n",
       "    </tr>\n",
       "    <tr>\n",
       "      <th>26</th>\n",
       "      <td>1,1,0,0,1,0</td>\n",
       "      <td>14</td>\n",
       "    </tr>\n",
       "    <tr>\n",
       "      <th>27</th>\n",
       "      <td>1,1,0,1,0,0</td>\n",
       "      <td>11</td>\n",
       "    </tr>\n",
       "    <tr>\n",
       "      <th>28</th>\n",
       "      <td>1,0,1,1,0,0</td>\n",
       "      <td>11</td>\n",
       "    </tr>\n",
       "    <tr>\n",
       "      <th>29</th>\n",
       "      <td>1,1,0,0,1,1</td>\n",
       "      <td>7</td>\n",
       "    </tr>\n",
       "    <tr>\n",
       "      <th>30</th>\n",
       "      <td>1,0,0,1,0,1</td>\n",
       "      <td>7</td>\n",
       "    </tr>\n",
       "    <tr>\n",
       "      <th>31</th>\n",
       "      <td>1,1,1,0,0,1</td>\n",
       "      <td>6</td>\n",
       "    </tr>\n",
       "    <tr>\n",
       "      <th>32</th>\n",
       "      <td>1,1,1,1,0,0</td>\n",
       "      <td>4</td>\n",
       "    </tr>\n",
       "    <tr>\n",
       "      <th>33</th>\n",
       "      <td>0,0,0,1,1,0</td>\n",
       "      <td>3</td>\n",
       "    </tr>\n",
       "    <tr>\n",
       "      <th>34</th>\n",
       "      <td>1,0,0,1,1,1</td>\n",
       "      <td>3</td>\n",
       "    </tr>\n",
       "    <tr>\n",
       "      <th>35</th>\n",
       "      <td>1,1,0,0,0,1</td>\n",
       "      <td>3</td>\n",
       "    </tr>\n",
       "    <tr>\n",
       "      <th>36</th>\n",
       "      <td>0,0,1,0,0,1</td>\n",
       "      <td>3</td>\n",
       "    </tr>\n",
       "    <tr>\n",
       "      <th>37</th>\n",
       "      <td>0,0,1,1,0,0</td>\n",
       "      <td>2</td>\n",
       "    </tr>\n",
       "    <tr>\n",
       "      <th>38</th>\n",
       "      <td>0,0,1,1,1,0</td>\n",
       "      <td>2</td>\n",
       "    </tr>\n",
       "    <tr>\n",
       "      <th>39</th>\n",
       "      <td>etc</td>\n",
       "      <td>2</td>\n",
       "    </tr>\n",
       "  </tbody>\n",
       "</table>\n",
       "</div>"
      ],
      "text/plain": [
       "   Comment Type Combination   Count\n",
       "0               0,0,0,0,0,0  143346\n",
       "1               1,0,0,0,0,0    5666\n",
       "2               1,0,1,0,1,0    3800\n",
       "3               1,0,1,0,0,0    1758\n",
       "4               1,0,0,0,1,0    1215\n",
       "5               1,1,1,0,1,0     989\n",
       "6               1,0,1,0,1,1     618\n",
       "7               0,0,1,0,0,0     317\n",
       "8               0,0,0,0,1,0     301\n",
       "9               1,1,1,0,1,1     265\n",
       "10              0,0,1,0,1,0     181\n",
       "11              1,1,1,0,0,0     158\n",
       "12              1,0,0,0,0,1     136\n",
       "13              1,0,0,0,1,1     134\n",
       "14              1,0,1,1,1,0     131\n",
       "15              1,0,0,1,0,0     113\n",
       "16              1,1,1,1,1,0      64\n",
       "17              1,0,1,1,1,1      56\n",
       "18              0,0,0,0,0,1      54\n",
       "19              1,1,0,0,0,0      41\n",
       "20              1,0,1,0,0,1      35\n",
       "21              1,1,1,1,1,1      31\n",
       "22              0,0,0,0,1,1      28\n",
       "23              0,0,0,1,0,0      22\n",
       "24              0,0,1,0,1,1      18\n",
       "25              1,0,0,1,1,0      16\n",
       "26              1,1,0,0,1,0      14\n",
       "27              1,1,0,1,0,0      11\n",
       "28              1,0,1,1,0,0      11\n",
       "29              1,1,0,0,1,1       7\n",
       "30              1,0,0,1,0,1       7\n",
       "31              1,1,1,0,0,1       6\n",
       "32              1,1,1,1,0,0       4\n",
       "33              0,0,0,1,1,0       3\n",
       "34              1,0,0,1,1,1       3\n",
       "35              1,1,0,0,0,1       3\n",
       "36              0,0,1,0,0,1       3\n",
       "37              0,0,1,1,0,0       2\n",
       "38              0,0,1,1,1,0       2\n",
       "39                      etc       2"
      ]
     },
     "execution_count": 50,
     "metadata": {},
     "output_type": "execute_result"
    }
   ],
   "source": [
    "# | label: tbl-comment-type-combinations\n",
    "# | tbl-cap: \"The distribution of toxic comment type combinations\n",
    "# |     in the *training and validation* data. Value `1` indicates presence\n",
    "# |     and `0` indicates absence of comment types in this particular order:\n",
    "# |     toxic, severe_toxic, obscene, threat, insult, identity hate.\"\n",
    "# | code-fold: true\n",
    "strata = (\n",
    "    data_train_val[toxic_labels]\n",
    "    .apply(lambda x: \",\".join(x.astype(str)), axis=1)\n",
    "    # Merge classes with count 1\n",
    "    .str.replace(\"1,1,0,1,1,0\", \"etc\")\n",
    "    .replace(\"1,1,0,1,0,1\", \"etc\")\n",
    ")\n",
    "\n",
    "(\n",
    "    strata.value_counts()\n",
    "    .reset_index()\n",
    "    .rename({\"index\": \"Comment Type Combination\", \"count\": \"Count\"}, axis=1)\n",
    ")"
   ]
  },
  {
   "cell_type": "code",
   "execution_count": 51,
   "metadata": {},
   "outputs": [],
   "source": [
    "# Train-Validation Split\n",
    "data_train, data_val = train_test_split(\n",
    "    data_train_val, test_size=0.2, stratify=strata, random_state=42, shuffle=True\n",
    ")\n",
    "# Pre-processing\n",
    "data_merged = pd.concat(\n",
    "    [\n",
    "        data_train.assign(set=\"train\"),\n",
    "        data_val.assign(set=\"val\"),\n",
    "        data_test.assign(set=\"test\"),\n",
    "    ],\n",
    "    ignore_index=True,\n",
    ").assign(\n",
    "    comment_text=lambda x: (\n",
    "        x.comment_text.str.replace('\"\"', '\"').str.strip('\"').str.strip()\n",
    "    )\n",
    ")"
   ]
  },
  {
   "cell_type": "code",
   "execution_count": 52,
   "metadata": {},
   "outputs": [
    {
     "data": {
      "text/plain": [
       "(223549, 10)"
      ]
     },
     "execution_count": 52,
     "metadata": {},
     "output_type": "execute_result"
    }
   ],
   "source": [
    "data_merged.shape"
   ]
  },
  {
   "cell_type": "code",
   "execution_count": 53,
   "metadata": {},
   "outputs": [
    {
     "name": "stdout",
     "output_type": "stream",
     "text": [
      "<class 'pandas.core.frame.DataFrame'>\n",
      "RangeIndex: 223549 entries, 0 to 223548\n",
      "Data columns (total 10 columns):\n",
      " #   Column         Non-Null Count   Dtype \n",
      "---  ------         --------------   ----- \n",
      " 0   id             223549 non-null  object\n",
      " 1   comment_text   223549 non-null  object\n",
      " 2   toxic          223549 non-null  int64 \n",
      " 3   severe_toxic   223549 non-null  int64 \n",
      " 4   obscene        223549 non-null  int64 \n",
      " 5   threat         223549 non-null  int64 \n",
      " 6   insult         223549 non-null  int64 \n",
      " 7   identity_hate  223549 non-null  int64 \n",
      " 8   non_toxic      223549 non-null  int64 \n",
      " 9   set            223549 non-null  object\n",
      "dtypes: int64(7), object(3)\n",
      "memory usage: 17.1+ MB\n"
     ]
    }
   ],
   "source": [
    "data_merged.info()"
   ]
  },
  {
   "cell_type": "code",
   "execution_count": 54,
   "metadata": {},
   "outputs": [
    {
     "data": {
      "text/html": [
       "<div>\n",
       "<style scoped>\n",
       "    .dataframe tbody tr th:only-of-type {\n",
       "        vertical-align: middle;\n",
       "    }\n",
       "\n",
       "    .dataframe tbody tr th {\n",
       "        vertical-align: top;\n",
       "    }\n",
       "\n",
       "    .dataframe thead th {\n",
       "        text-align: right;\n",
       "    }\n",
       "</style>\n",
       "<table border=\"1\" class=\"dataframe\">\n",
       "  <thead>\n",
       "    <tr style=\"text-align: right;\">\n",
       "      <th></th>\n",
       "      <th>n_missing_values</th>\n",
       "    </tr>\n",
       "  </thead>\n",
       "  <tbody>\n",
       "    <tr>\n",
       "      <th>id</th>\n",
       "      <td>0</td>\n",
       "    </tr>\n",
       "    <tr>\n",
       "      <th>comment_text</th>\n",
       "      <td>0</td>\n",
       "    </tr>\n",
       "    <tr>\n",
       "      <th>toxic</th>\n",
       "      <td>0</td>\n",
       "    </tr>\n",
       "    <tr>\n",
       "      <th>severe_toxic</th>\n",
       "      <td>0</td>\n",
       "    </tr>\n",
       "    <tr>\n",
       "      <th>obscene</th>\n",
       "      <td>0</td>\n",
       "    </tr>\n",
       "    <tr>\n",
       "      <th>threat</th>\n",
       "      <td>0</td>\n",
       "    </tr>\n",
       "    <tr>\n",
       "      <th>insult</th>\n",
       "      <td>0</td>\n",
       "    </tr>\n",
       "    <tr>\n",
       "      <th>identity_hate</th>\n",
       "      <td>0</td>\n",
       "    </tr>\n",
       "    <tr>\n",
       "      <th>non_toxic</th>\n",
       "      <td>0</td>\n",
       "    </tr>\n",
       "    <tr>\n",
       "      <th>set</th>\n",
       "      <td>0</td>\n",
       "    </tr>\n",
       "  </tbody>\n",
       "</table>\n",
       "</div>"
      ],
      "text/plain": [
       "               n_missing_values\n",
       "id                            0\n",
       "comment_text                  0\n",
       "toxic                         0\n",
       "severe_toxic                  0\n",
       "obscene                       0\n",
       "threat                        0\n",
       "insult                        0\n",
       "identity_hate                 0\n",
       "non_toxic                     0\n",
       "set                           0"
      ]
     },
     "execution_count": 54,
     "metadata": {},
     "output_type": "execute_result"
    }
   ],
   "source": [
    "data_merged.isna().sum().rename(\"n_missing_values\").to_frame()"
   ]
  },
  {
   "cell_type": "code",
   "execution_count": 55,
   "metadata": {},
   "outputs": [
    {
     "data": {
      "text/html": [
       "<div>\n",
       "<style scoped>\n",
       "    .dataframe tbody tr th:only-of-type {\n",
       "        vertical-align: middle;\n",
       "    }\n",
       "\n",
       "    .dataframe tbody tr th {\n",
       "        vertical-align: top;\n",
       "    }\n",
       "\n",
       "    .dataframe thead th {\n",
       "        text-align: right;\n",
       "    }\n",
       "</style>\n",
       "<table border=\"1\" class=\"dataframe\">\n",
       "  <thead>\n",
       "    <tr style=\"text-align: right;\">\n",
       "      <th></th>\n",
       "      <th>id</th>\n",
       "      <th>comment_text</th>\n",
       "      <th>toxic</th>\n",
       "      <th>severe_toxic</th>\n",
       "      <th>obscene</th>\n",
       "      <th>threat</th>\n",
       "      <th>insult</th>\n",
       "      <th>identity_hate</th>\n",
       "      <th>non_toxic</th>\n",
       "      <th>set</th>\n",
       "    </tr>\n",
       "  </thead>\n",
       "  <tbody>\n",
       "    <tr>\n",
       "      <th>0</th>\n",
       "      <td>889dc6aa7f451cdb</td>\n",
       "      <td>How to\\nI have cleaned up the page and removed...</td>\n",
       "      <td>0</td>\n",
       "      <td>0</td>\n",
       "      <td>0</td>\n",
       "      <td>0</td>\n",
       "      <td>0</td>\n",
       "      <td>0</td>\n",
       "      <td>1</td>\n",
       "      <td>train</td>\n",
       "    </tr>\n",
       "    <tr>\n",
       "      <th>1</th>\n",
       "      <td>79ab58d53ce5c227</td>\n",
       "      <td>Vigor Microlight Deletion\\nFor the record, I h...</td>\n",
       "      <td>0</td>\n",
       "      <td>0</td>\n",
       "      <td>0</td>\n",
       "      <td>0</td>\n",
       "      <td>0</td>\n",
       "      <td>0</td>\n",
       "      <td>1</td>\n",
       "      <td>train</td>\n",
       "    </tr>\n",
       "    <tr>\n",
       "      <th>2</th>\n",
       "      <td>492f4e1cf8f9d038</td>\n",
       "      <td>Thank you for experimenting with the page Gree...</td>\n",
       "      <td>0</td>\n",
       "      <td>0</td>\n",
       "      <td>0</td>\n",
       "      <td>0</td>\n",
       "      <td>0</td>\n",
       "      <td>0</td>\n",
       "      <td>1</td>\n",
       "      <td>train</td>\n",
       "    </tr>\n",
       "    <tr>\n",
       "      <th>3</th>\n",
       "      <td>90d7a062a60f07a3</td>\n",
       "      <td>General problem with naming conventions for WP...</td>\n",
       "      <td>0</td>\n",
       "      <td>0</td>\n",
       "      <td>0</td>\n",
       "      <td>0</td>\n",
       "      <td>0</td>\n",
       "      <td>0</td>\n",
       "      <td>1</td>\n",
       "      <td>train</td>\n",
       "    </tr>\n",
       "    <tr>\n",
       "      <th>4</th>\n",
       "      <td>db0345aaa361963b</td>\n",
       "      <td>File:ThTP-2D.jpg listed for deletion \\nA file ...</td>\n",
       "      <td>0</td>\n",
       "      <td>0</td>\n",
       "      <td>0</td>\n",
       "      <td>0</td>\n",
       "      <td>0</td>\n",
       "      <td>0</td>\n",
       "      <td>1</td>\n",
       "      <td>train</td>\n",
       "    </tr>\n",
       "  </tbody>\n",
       "</table>\n",
       "</div>"
      ],
      "text/plain": [
       "                 id                                       comment_text  toxic  \\\n",
       "0  889dc6aa7f451cdb  How to\\nI have cleaned up the page and removed...      0   \n",
       "1  79ab58d53ce5c227  Vigor Microlight Deletion\\nFor the record, I h...      0   \n",
       "2  492f4e1cf8f9d038  Thank you for experimenting with the page Gree...      0   \n",
       "3  90d7a062a60f07a3  General problem with naming conventions for WP...      0   \n",
       "4  db0345aaa361963b  File:ThTP-2D.jpg listed for deletion \\nA file ...      0   \n",
       "\n",
       "   severe_toxic  obscene  threat  insult  identity_hate  non_toxic    set  \n",
       "0             0        0       0       0              0          1  train  \n",
       "1             0        0       0       0              0          1  train  \n",
       "2             0        0       0       0              0          1  train  \n",
       "3             0        0       0       0              0          1  train  \n",
       "4             0        0       0       0              0          1  train  "
      ]
     },
     "execution_count": 55,
     "metadata": {},
     "output_type": "execute_result"
    }
   ],
   "source": [
    "data_merged.head()"
   ]
  },
  {
   "cell_type": "code",
   "execution_count": 56,
   "metadata": {},
   "outputs": [
    {
     "name": "stdout",
     "output_type": "stream",
     "text": [
      "How to\n",
      "I have cleaned up the page and removed whole sections on \"How-To\". How-Tos are specificaly listed as not being encyclopedic (please see Wikipedia:What Wikipedia is not#Wikipedia is not an indiscriminate collection of information-> Instruction manuals. I took it on my self to add the deleted information to WikiHOW. It can be seen (and edited) at How to Photograph the Night Sky (Astrophotography). Other sections were re-worded to make them more descriptive and less \"How-To\".\n"
     ]
    }
   ],
   "source": [
    "print(data_merged.iloc[0].comment_text)"
   ]
  },
  {
   "cell_type": "code",
   "execution_count": 57,
   "metadata": {},
   "outputs": [
    {
     "data": {
      "image/png": "[encoded data removed]",
      "text/plain": [
       "<Figure size 1000x400 with 1 Axes>"
      ]
     },
     "metadata": {},
     "output_type": "display_data"
    }
   ],
   "source": [
    "# | label: fig-set-sizes\n",
    "# | fig-cap: Sizes of the training, validation, and test sets.\n",
    "# | code-fold: true\n",
    "\n",
    "set_counts = data_merged.set.value_counts(sort=False)\n",
    "\n",
    "ax = set_counts.plot(kind=\"bar\", rot=0, color=\"skyblue\", ec=\"black\", figsize=(10, 4))\n",
    "\n",
    "for i, v in enumerate(set_counts):\n",
    "    ax.text(\n",
    "        i,\n",
    "        v * 1.02,\n",
    "        f\" {v:,} ({v/len(data_merged) *100:.1f}%)\",\n",
    "        color=\"black\",\n",
    "        va=\"bottom\",\n",
    "        ha=\"center\",\n",
    "        fontweight=\"bold\",\n",
    "    )\n",
    "\n",
    "ax.set_xlabel(\"Set\")\n",
    "ax.set_ylabel(\"Count\")\n",
    "ax.set_ylim(top=ax.get_ylim()[1] * 1.08)\n",
    "ax.set_title(\"The Size of Training, Validation, and Test Sets\")\n",
    "plt.show()"
   ]
  },
  {
   "cell_type": "markdown",
   "metadata": {},
   "source": [
    "Save data to the file."
   ]
  },
  {
   "cell_type": "code",
   "execution_count": 58,
   "metadata": {},
   "outputs": [],
   "source": [
    "data_merged.to_csv(\"data/processed/data_merged.csv\", index=False)"
   ]
  },
  {
   "cell_type": "markdown",
   "metadata": {},
   "source": [
    "# Modeling"
   ]
  },
  {
   "cell_type": "markdown",
   "metadata": {},
   "source": [
    "::: {.callout-tip}\n",
    "## Performed on Colab\n",
    "\n",
    "\n",
    "<img src=\"https://colab.research.google.com/img/colab_favicon_256px.png\" alt=\"Colab\"  width=\"16\" /> This section includes resource-intensive computations that were performed on **Google Colab** with NVIDIA *V100* GPU enabled.\n",
    "\n",
    "<!-- <img src=\"https://colab.research.google.com/assets/colab-badge.svg\" alt=\"Colab\"/> -->\n",
    "\n",
    ":::"
   ]
  },
  {
   "cell_type": "markdown",
   "metadata": {},
   "source": [
    "<!--\n",
    "In Colab with V100 GPU:\n",
    "\n",
    "```\n",
    "conda environment: n/a\n",
    "\n",
    "Python implementation: CPython\n",
    "Python version       : 3.10.12\n",
    "IPython version      : 7.34.0\n",
    "\n",
    "torch       : 2.2.1\n",
    "torchmetrics: 1.3.1\n",
    "torchinfo   : 1.8.0\n",
    "transformers: 4.38.2\n",
    "lightning   : 2.2.1\n",
    "tensorboard : 2.16.2\n",
    "\n",
    "numpy     : 1.26.3\n",
    "pandas    : 1.5.3\n",
    "matplotlib: 3.8.3\n",
    "seaborn   : 0.13.2\n",
    "sklearn   : 1.4.1.post1\n",
    "logging   : 0.5.1.2\n",
    "```\n",
    "\n",
    "-->"
   ]
  },
  {
   "cell_type": "markdown",
   "metadata": {},
   "source": [
    "## Model: DistilBERT"
   ]
  },
  {
   "cell_type": "markdown",
   "metadata": {},
   "source": [
    "Now, the pre-trained DistilBERT model will be loaded and the pre-classifier and classifier (the two last) layers will be prepared for training while the remaining layers will be frozen. "
   ]
  },
  {
   "cell_type": "code",
   "execution_count": 61,
   "metadata": {},
   "outputs": [],
   "source": [
    "# | label: model\n",
    "# Suppress unnecessary messages\n",
    "logging.getLogger(\"transformers.modeling_utils\").setLevel(logging.ERROR)\n",
    "\n",
    "# Load pretrained model/tokenizer\n",
    "pretrained_weights = \"distilbert-base-uncased\"\n",
    "\n",
    "tokenizer = AutoTokenizer.from_pretrained(pretrained_weights)\n",
    "\n",
    "# NOTE: AutoModelForSequenceClassification uses BCEWithLogitsLoss\n",
    "# without weights so we will implement the weighted loss later\n",
    "model = AutoModelForSequenceClassification.from_pretrained(\n",
    "    pretrained_weights,\n",
    "    num_labels=len(all_labels),\n",
    "    problem_type=\"multi_label_classification\",\n",
    ")\n",
    "\n",
    "# Freeze all layers\n",
    "for param in model.parameters():\n",
    "    param.requires_grad = False\n",
    "\n",
    "# Unfreeze last 2 layers for fine-tuning\n",
    "for param in model.pre_classifier.parameters():\n",
    "    param.requires_grad = True\n",
    "\n",
    "for param in model.classifier.parameters():\n",
    "    param.requires_grad = True"
   ]
  },
  {
   "cell_type": "markdown",
   "metadata": {},
   "source": [
    "Model summary and structure:"
   ]
  },
  {
   "cell_type": "code",
   "execution_count": 62,
   "metadata": {},
   "outputs": [
    {
     "data": {
      "text/plain": [
       "================================================================================\n",
       "Layer (type:depth-idx)                                  Param #\n",
       "================================================================================\n",
       "DistilBertForSequenceClassification                     --\n",
       "├─DistilBertModel: 1-1                                  --\n",
       "│    └─Embeddings: 2-1                                  --\n",
       "│    │    └─Embedding: 3-1                              (23,440,896)\n",
       "│    │    └─Embedding: 3-2                              (393,216)\n",
       "│    │    └─LayerNorm: 3-3                              (1,536)\n",
       "│    │    └─Dropout: 3-4                                --\n",
       "│    └─Transformer: 2-2                                 --\n",
       "│    │    └─ModuleList: 3-5                             (42,527,232)\n",
       "├─Linear: 1-2                                           590,592\n",
       "├─Linear: 1-3                                           5,383\n",
       "├─Dropout: 1-4                                          --\n",
       "================================================================================\n",
       "Total params: 66,958,855\n",
       "Trainable params: 595,975\n",
       "Non-trainable params: 66,362,880\n",
       "================================================================================"
      ]
     },
     "execution_count": 62,
     "metadata": {},
     "output_type": "execute_result"
    }
   ],
   "source": [
    "summary(model)"
   ]
  },
  {
   "cell_type": "code",
   "execution_count": 63,
   "metadata": {},
   "outputs": [
    {
     "data": {
      "text/plain": [
       "DistilBertForSequenceClassification(\n",
       "  (distilbert): DistilBertModel(\n",
       "    (embeddings): Embeddings(\n",
       "      (word_embeddings): Embedding(30522, 768, padding_idx=0)\n",
       "      (position_embeddings): Embedding(512, 768)\n",
       "      (LayerNorm): LayerNorm((768,), eps=1e-12, elementwise_affine=True)\n",
       "      (dropout): Dropout(p=0.1, inplace=False)\n",
       "    )\n",
       "    (transformer): Transformer(\n",
       "      (layer): ModuleList(\n",
       "        (0-5): 6 x TransformerBlock(\n",
       "          (attention): MultiHeadSelfAttention(\n",
       "            (dropout): Dropout(p=0.1, inplace=False)\n",
       "            (q_lin): Linear(in_features=768, out_features=768, bias=True)\n",
       "            (k_lin): Linear(in_features=768, out_features=768, bias=True)\n",
       "            (v_lin): Linear(in_features=768, out_features=768, bias=True)\n",
       "            (out_lin): Linear(in_features=768, out_features=768, bias=True)\n",
       "          )\n",
       "          (sa_layer_norm): LayerNorm((768,), eps=1e-12, elementwise_affine=True)\n",
       "          (ffn): FFN(\n",
       "            (dropout): Dropout(p=0.1, inplace=False)\n",
       "            (lin1): Linear(in_features=768, out_features=3072, bias=True)\n",
       "            (lin2): Linear(in_features=3072, out_features=768, bias=True)\n",
       "            (activation): GELUActivation()\n",
       "          )\n",
       "          (output_layer_norm): LayerNorm((768,), eps=1e-12, elementwise_affine=True)\n",
       "        )\n",
       "      )\n",
       "    )\n",
       "  )\n",
       "  (pre_classifier): Linear(in_features=768, out_features=768, bias=True)\n",
       "  (classifier): Linear(in_features=768, out_features=7, bias=True)\n",
       "  (dropout): Dropout(p=0.2, inplace=False)\n",
       ")"
      ]
     },
     "execution_count": 63,
     "metadata": {},
     "output_type": "execute_result"
    }
   ],
   "source": [
    "model"
   ]
  },
  {
   "cell_type": "markdown",
   "metadata": {},
   "source": [
    "## Lightning and PyTorch Classes"
   ]
  },
  {
   "cell_type": "markdown",
   "metadata": {},
   "source": [
    "In this section, PyTorch and Lightning classes are defined to make the building blocks for the deep learning part. Some highlights:\n",
    "\n",
    "1. comments are tokenized at the time when they are loaded by a dataloader;\n",
    "2. maximum number of tokens is set to 512 (the maximum allowed by DistilBERT);\n",
    "3. batch size is set to 16:\n",
    "   - ([here](https://datascience.stackexchange.com/questions/64583/what-are-the-good-parameter-ranges-for-bert-hyperparameters-while-finetuning-it) it was discussed to use either 32 or 16 and [here](https://wandb.ai/jack-morris/david-vs-goliath/reports/Does-Model-Size-Matter-A-Comparison-of-BERT-and-DistilBERT--VmlldzoxMDUxNzU#defining-the-search-space) it was advised to choose between 8, 16, 32, 64, and 128);\n",
    "4. learning rate is set to $5·10^{-5}$: \n",
    "   - (one of the options listed [here](https://datascience.stackexchange.com/questions/64583/what-are-the-good-parameter-ranges-for-bert-hyperparameters-while-finetuning-it) and [here](https://wandb.ai/jack-morris/david-vs-goliath/reports/Does-Model-Size-Matter-A-Comparison-of-BERT-and-DistilBERT--VmlldzoxMDUxNzU#defining-the-search-space));\n",
    "5. early stopping is used to prevent overfitting:\n",
    "    - patience is set to 2;\n",
    "6. *weighted* binary cross-entropy loss is used to address class imbalance;\n",
    "7. AdamW optimizer is used;\n",
    "8. alongside *loss*, *balanced accuracy*, and *F1* score, multi-label *confusion matrices* were logged to TensorBoard at each epoch for both training and validation sets.\n",
    "\n",
    "The details can be found below."
   ]
  },
  {
   "cell_type": "code",
   "execution_count": 64,
   "metadata": {},
   "outputs": [],
   "source": [
    "# | code-summary: Class `CommentsDataset` (Dataset)\n",
    "# | code-fold: show\n",
    "\n",
    "\n",
    "class CommentsDataset(Dataset):\n",
    "\n",
    "    def __init__(self, data, tokenizer, max_tokens=512):\n",
    "        self.data = data\n",
    "        self.tokenizer = tokenizer\n",
    "        self.max_tokens = max_tokens\n",
    "\n",
    "    def __len__(self):\n",
    "        return len(self.data)\n",
    "\n",
    "    def __getitem__(self, idx):\n",
    "        if torch.is_tensor(idx):\n",
    "            idx = idx.tolist()\n",
    "\n",
    "        comment_text = self.data.iloc[idx][\"comment_text\"]\n",
    "        labels = self.data.iloc[idx][all_labels].values\n",
    "\n",
    "        encoded = tokenize_and_encode(\n",
    "            comment_text,\n",
    "            tokenizer=self.tokenizer,\n",
    "            max_tokens=self.max_tokens,\n",
    "        )\n",
    "\n",
    "        return dict(\n",
    "            comment_text=comment_text,\n",
    "            input_ids=encoded[\"input_ids\"].squeeze(0),\n",
    "            attention_mask=encoded[\"attention_mask\"].squeeze(0),\n",
    "            labels=torch.Tensor(labels.tolist()),\n",
    "        )"
   ]
  },
  {
   "cell_type": "code",
   "execution_count": 65,
   "metadata": {},
   "outputs": [],
   "source": [
    "# | code-summary: Class `DataModule` (LightningDataModule)\n",
    "# | code-fold: show\n",
    "\n",
    "\n",
    "class DataModule(L.LightningDataModule):\n",
    "\n",
    "    def __init__(\n",
    "        self,\n",
    "        data_dir,\n",
    "        tokenizer,\n",
    "        batch_size: int = 16,\n",
    "        num_workers: int = 0,\n",
    "        random_state: int = 42,\n",
    "        train_drop_last_batch: bool = False,\n",
    "    ) -> None:\n",
    "        super().__init__()\n",
    "\n",
    "        # Parameters\n",
    "        self.data_dir = data_dir\n",
    "        self.batch_size = batch_size\n",
    "        self.num_workers = num_workers\n",
    "        self.random_state = random_state\n",
    "        self.train_drop_last_batch = train_drop_last_batch\n",
    "        self.tokenizer = tokenizer\n",
    "        self.data_train = None\n",
    "        self.data_val = None\n",
    "        self.data_test = None\n",
    "\n",
    "    def prepare_data(self) -> None:\n",
    "        pass\n",
    "\n",
    "    def setup(self, stage: str = None, limit=False) -> None:\n",
    "        \"\"\"Prepare data by creating metadata and splitting into training,\n",
    "        and test sets.\n",
    "\n",
    "        Args:\n",
    "            stage (str): (Not used.)\n",
    "            limit (int | False): Limit the size (number of rows) of the data.\n",
    "                `False` means no limit.\n",
    "        \"\"\"\n",
    "\n",
    "        # Create the DataFrame with metadata\n",
    "        df = pd.read_csv(self.data_dir).fillna({\"comment_text\": \"\"})\n",
    "\n",
    "        self.data_train = df.query(\"set == 'train'\")\n",
    "        self.data_val = df.query(\"set == 'val'\")\n",
    "        self.data_test = df.query(\"set == 'test'\")\n",
    "\n",
    "        if limit:\n",
    "            self.data_train = self.data_train.head(limit)\n",
    "            self.data_val = self.data_val.head(limit)\n",
    "            self.data_test = self.data_test.head(limit)\n",
    "\n",
    "    def train_dataloader(self) -> DataLoader:\n",
    "        \"\"\"Return training data loader.\"\"\"\n",
    "        return DataLoader(\n",
    "            dataset=CommentsDataset(self.data_train, self.tokenizer),\n",
    "            batch_size=self.batch_size,\n",
    "            drop_last=self.train_drop_last_batch,\n",
    "            shuffle=True,\n",
    "            num_workers=self.num_workers,\n",
    "        )\n",
    "\n",
    "    def val_dataloader(self) -> DataLoader:\n",
    "        \"\"\"Return validation data loader.\"\"\"\n",
    "        return DataLoader(\n",
    "            dataset=CommentsDataset(self.data_val, self.tokenizer),\n",
    "            batch_size=self.batch_size,\n",
    "            drop_last=False,\n",
    "            shuffle=False,\n",
    "            num_workers=self.num_workers,\n",
    "        )\n",
    "\n",
    "    def test_dataloader(self) -> DataLoader:\n",
    "        \"\"\"Return test data loader.\"\"\"\n",
    "        return DataLoader(\n",
    "            dataset=CommentsDataset(self.data_test, self.tokenizer),\n",
    "            batch_size=self.batch_size,\n",
    "            drop_last=False,\n",
    "            shuffle=False,\n",
    "            num_workers=self.num_workers,\n",
    "        )\n",
    "\n",
    "    def predict_dataloader(self, set=\"test\") -> DataLoader:\n",
    "        \"\"\"Return data loader for prediction.\n",
    "\n",
    "        Args:\n",
    "            set (str): Dataset to use. One of \"test\" (default), \"val\", \"train\".\n",
    "        \"\"\"\n",
    "        if set == \"test\":\n",
    "            data = self.data_test\n",
    "        elif set == \"val\":\n",
    "            data = self.data_val\n",
    "        elif set == \"train\":\n",
    "            data = self.data_train\n",
    "        else:\n",
    "            raise ValueError(f\"Unknown set: {set}\")\n",
    "\n",
    "        return DataLoader(\n",
    "            dataset=CommentsDataset(data, self.tokenizer),\n",
    "            batch_size=self.batch_size,\n",
    "            drop_last=False,\n",
    "            shuffle=False,\n",
    "            num_workers=self.num_workers,\n",
    "        )\n",
    "\n",
    "\n",
    "data_module = DataModule(\n",
    "    data_dir=\"data/processed/data_merged.csv\",\n",
    "    tokenizer=tokenizer,\n",
    "    batch_size=16,\n",
    ")\n",
    "data_module.setup()"
   ]
  },
  {
   "cell_type": "markdown",
   "metadata": {},
   "source": [
    "Let's calculate **class weights** (weight 1 is for the most common case: non-toxic comments) as the inverse of the class frequencies."
   ]
  },
  {
   "cell_type": "code",
   "execution_count": 66,
   "metadata": {},
   "outputs": [
    {
     "data": {
      "text/html": [
       "<div>\n",
       "<style scoped>\n",
       "    .dataframe tbody tr th:only-of-type {\n",
       "        vertical-align: middle;\n",
       "    }\n",
       "\n",
       "    .dataframe tbody tr th {\n",
       "        vertical-align: top;\n",
       "    }\n",
       "\n",
       "    .dataframe thead th {\n",
       "        text-align: right;\n",
       "    }\n",
       "</style>\n",
       "<table border=\"1\" class=\"dataframe\">\n",
       "  <thead>\n",
       "    <tr style=\"text-align: right;\">\n",
       "      <th></th>\n",
       "      <th>non_toxic</th>\n",
       "      <th>toxic</th>\n",
       "      <th>severe_toxic</th>\n",
       "      <th>obscene</th>\n",
       "      <th>threat</th>\n",
       "      <th>insult</th>\n",
       "      <th>identity_hate</th>\n",
       "    </tr>\n",
       "  </thead>\n",
       "  <tbody>\n",
       "    <tr>\n",
       "      <th>Class weights</th>\n",
       "      <td>1.00</td>\n",
       "      <td>9.37</td>\n",
       "      <td>89.87</td>\n",
       "      <td>16.97</td>\n",
       "      <td>298.64</td>\n",
       "      <td>18.20</td>\n",
       "      <td>102.12</td>\n",
       "    </tr>\n",
       "  </tbody>\n",
       "</table>\n",
       "</div>"
      ],
      "text/plain": [
       "               non_toxic  toxic  severe_toxic  obscene  threat  insult  \\\n",
       "Class weights       1.00   9.37         89.87    16.97  298.64   18.20   \n",
       "\n",
       "               identity_hate  \n",
       "Class weights         102.12  "
      ]
     },
     "metadata": {},
     "output_type": "display_data"
    }
   ],
   "source": [
    "# | label: tbl-class-weights\n",
    "# | tbl-cap: Class weights for each label based on training set.\n",
    "# | code-fold: show\n",
    "\n",
    "inv_label_counts = 1 / data_module.data_train[all_labels].sum()\n",
    "class_weights = inv_label_counts / min(inv_label_counts)\n",
    "display(class_weights.rename(\"Class weights\").to_frame().T)\n",
    "class_weights = torch.tensor(class_weights.values)"
   ]
  },
  {
   "cell_type": "code",
   "execution_count": 67,
   "metadata": {},
   "outputs": [],
   "source": [
    "# | code-summary: Class `ClassifierModule` (LightningModule)\n",
    "# | code-fold: show\n",
    "class ClassifierModule(L.LightningModule):\n",
    "\n",
    "    def __init__(self, model, class_weights=None, learning_rate=5e-5, num_classes=7):\n",
    "        super().__init__()\n",
    "\n",
    "        self.model = model\n",
    "        self.save_hyperparameters(ignore=[\"model\"])\n",
    "\n",
    "        self.task = \"multilabel\"\n",
    "\n",
    "        # Accuracy metrics\n",
    "        self.train_accuracy = Accuracy(\n",
    "            task=self.task, num_labels=num_classes, average=\"macro\"\n",
    "        )\n",
    "        self.val_accuracy = Accuracy(\n",
    "            task=self.task, num_labels=num_classes, average=\"macro\"\n",
    "        )\n",
    "        self.test_accuracy = Accuracy(\n",
    "            task=self.task, num_labels=num_classes, average=\"macro\"\n",
    "        )\n",
    "\n",
    "        self.train_f1 = F1Score(task=self.task, num_labels=num_classes, average=\"macro\")\n",
    "        self.val_f1 = F1Score(task=self.task, num_labels=num_classes, average=\"macro\")\n",
    "        self.test_f1 = F1Score(task=self.task, num_labels=num_classes, average=\"macro\")\n",
    "\n",
    "        self.train_confusion_matrix = ConfusionMatrix(\n",
    "            task=self.task, num_labels=num_classes, threshold=0.5\n",
    "        )\n",
    "        self.train_confusion_matrix_norm = ConfusionMatrix(\n",
    "            task=self.task, num_labels=num_classes, threshold=0.5, normalize=\"true\"\n",
    "        )\n",
    "\n",
    "        self.val_confusion_matrix = ConfusionMatrix(\n",
    "            task=self.task, num_labels=num_classes, threshold=0.5\n",
    "        )\n",
    "        self.val_confusion_matrix_norm = ConfusionMatrix(\n",
    "            task=self.task, num_labels=num_classes, threshold=0.5, normalize=\"true\"\n",
    "        )\n",
    "\n",
    "        # To accumulate results\n",
    "        self.train_targets = []\n",
    "        self.train_preds = []\n",
    "\n",
    "        self.val_targets = []\n",
    "        self.val_preds = []\n",
    "\n",
    "    def forward(self, input_ids, attention_mask):\n",
    "        return self.model(input_ids, attention_mask=attention_mask)\n",
    "\n",
    "    def _shared_step(self, batch, batch_id, get_loss=True):\n",
    "        inputs = batch[\"input_ids\"]\n",
    "        attention_mask = batch[\"attention_mask\"]\n",
    "        target = batch[\"labels\"]\n",
    "\n",
    "        # Forward pass\n",
    "        outputs = self(inputs, attention_mask=attention_mask)\n",
    "\n",
    "        # Calculate loss (weighted BCE with logits loss)\n",
    "        if get_loss:\n",
    "            loss = torch.nn.functional.binary_cross_entropy_with_logits(\n",
    "                outputs.logits,\n",
    "                target.float(),\n",
    "                weight=self.hparams.class_weights.to(target.device),\n",
    "            )\n",
    "        else:\n",
    "            loss = None\n",
    "\n",
    "        pred = torch.sigmoid(outputs.logits)\n",
    "        return loss, outputs.logits, pred, target\n",
    "\n",
    "    def training_step(self, batch, batch_idx):\n",
    "        loss, logits, pred, target = self._shared_step(batch, batch_idx)\n",
    "\n",
    "        # Log loss\n",
    "        self.log(\"train_loss\", loss, on_step=True, on_epoch=True, prog_bar=True)\n",
    "\n",
    "        # Save targets and predictions\n",
    "        self.train_targets.append(target)\n",
    "        self.train_preds.append(pred)\n",
    "\n",
    "        # Calculate and log accuracy\n",
    "        self.train_accuracy(logits, target)\n",
    "        self.train_f1(logits, target)\n",
    "\n",
    "        metrics_dict = {\n",
    "            \"train_accuracy\": self.train_accuracy,\n",
    "            \"train_f1\": self.train_f1,\n",
    "        }\n",
    "        self.log_dict(metrics_dict, on_step=False, on_epoch=True, prog_bar=False)\n",
    "\n",
    "        # Output\n",
    "        return {\"loss\": loss, \"logits\": logits, \"pred\": pred, \"target\": target}\n",
    "\n",
    "    def validation_step(self, batch, batch_idx):\n",
    "        loss, logits, pred, target = self._shared_step(batch, batch_idx)\n",
    "\n",
    "        # Log loss\n",
    "        self.log(\"val_loss\", loss, on_step=True, on_epoch=True, prog_bar=True)\n",
    "\n",
    "        # Save targets and predictions\n",
    "        self.val_targets.append(target)\n",
    "        self.val_preds.append(pred)\n",
    "\n",
    "        # Calculate and log accuracy\n",
    "        self.val_accuracy(logits, target)\n",
    "        self.val_f1(logits, target)\n",
    "\n",
    "        metrics_dict = {\n",
    "            \"val_accuracy\": self.val_accuracy,\n",
    "            \"val_f1\": self.val_f1,\n",
    "        }\n",
    "        self.log_dict(metrics_dict, on_step=False, on_epoch=True, prog_bar=False)\n",
    "\n",
    "        # Output\n",
    "        return {\"loss\": loss, \"logits\": logits, \"pred\": pred, \"target\": target}\n",
    "\n",
    "    def test_step(self, batch, batch_idx):\n",
    "        loss, logits, pred, target = self._shared_step(batch, batch_idx)\n",
    "\n",
    "        # Log loss\n",
    "        self.log(\"test_loss\", loss, on_step=True, on_epoch=True, prog_bar=True)\n",
    "\n",
    "        # Calculate and log accuracy\n",
    "        self.test_accuracy(logits, target)\n",
    "        self.test_f1(logits, target)\n",
    "\n",
    "        metrics_dict = {\n",
    "            \"test_accuracy\": self.test_accuracy,\n",
    "            \"test_f1\": self.test_f1,\n",
    "        }\n",
    "        self.log_dict(metrics_dict, on_step=False, on_epoch=True, prog_bar=False)\n",
    "\n",
    "        # Output\n",
    "        return {\"loss\": loss, \"logits\": logits, \"pred\": pred, \"target\": target}\n",
    "\n",
    "    def predict_step(self, batch, batch_idx, dataloader_idx=None):\n",
    "        _, _, pred, target = self._shared_step(batch, batch_idx, get_loss=False)\n",
    "        return {\"pred\": pred, \"target\": target}\n",
    "\n",
    "    def on_train_epoch_end(self):\n",
    "        train_targets = torch.cat(self.train_targets)\n",
    "        train_preds = torch.cat(self.train_preds)\n",
    "\n",
    "        # Confusion matrix\n",
    "        self.train_confusion_matrix(train_preds, train_targets.int())\n",
    "        fig_, ax_ = self.train_confusion_matrix.plot(labels=all_labels)\n",
    "        style_multilabel_confusion_matrix(ax_)\n",
    "        self.train_confusion_matrix.reset()\n",
    "        plt.close(fig_)\n",
    "        self.loggers[0].experiment.add_figure(\n",
    "            \"train_Confusion matrix (counts)\", fig_, self.current_epoch\n",
    "        )\n",
    "        del fig_, ax_\n",
    "\n",
    "        # Confusion matrix (normalized)\n",
    "        self.train_confusion_matrix_norm(train_preds, train_targets.int())\n",
    "        fig_, ax_ = self.train_confusion_matrix_norm.plot(labels=all_labels)\n",
    "        style_multilabel_confusion_matrix(ax_, norm=True)\n",
    "        self.train_confusion_matrix_norm.reset()\n",
    "        plt.close(fig_)\n",
    "        self.loggers[0].experiment.add_figure(\n",
    "            \"train_Confusion matrix (normalized)\", fig_, self.current_epoch\n",
    "        )\n",
    "        del fig_, ax_\n",
    "        # Reset\n",
    "        self.train_targets = []\n",
    "        self.train_preds = []\n",
    "\n",
    "    def on_validation_epoch_end(self):\n",
    "        val_targets = torch.cat(self.val_targets)\n",
    "        val_preds = torch.cat(self.val_preds)\n",
    "\n",
    "        # Confusion matrix\n",
    "        self.val_confusion_matrix(val_preds, val_targets.int())\n",
    "        fig_, ax_ = self.val_confusion_matrix.plot(labels=all_labels)\n",
    "        style_multilabel_confusion_matrix(ax_)\n",
    "        self.val_confusion_matrix.reset()\n",
    "        plt.close(fig_)\n",
    "        self.loggers[0].experiment.add_figure(\n",
    "            \"val_Confusion matrix (counts)\", fig_, self.current_epoch\n",
    "        )\n",
    "        del fig_, ax_\n",
    "\n",
    "        # Confusion matrix (normalized)\n",
    "        self.val_confusion_matrix_norm(val_preds, val_targets.int())\n",
    "        fig_, ax_ = self.val_confusion_matrix_norm.plot(labels=all_labels)\n",
    "        style_multilabel_confusion_matrix(ax_, norm=True)\n",
    "        self.val_confusion_matrix_norm.reset()\n",
    "        plt.close(fig_)\n",
    "        self.loggers[0].experiment.add_figure(\n",
    "            \"val_Confusion matrix (normalized)\", fig_, self.current_epoch\n",
    "        )\n",
    "        del fig_, ax_\n",
    "        # Reset\n",
    "        self.val_targets = []\n",
    "        self.val_preds = []\n",
    "\n",
    "    def configure_optimizers(self):\n",
    "        optimizer = torch.optim.AdamW(\n",
    "            self.model.parameters(), lr=self.hparams.learning_rate\n",
    "        )\n",
    "        return optimizer\n",
    "\n",
    "\n",
    "bert_model = ClassifierModule(model, class_weights=class_weights)"
   ]
  },
  {
   "cell_type": "markdown",
   "metadata": {},
   "source": [
    "## Training"
   ]
  },
  {
   "cell_type": "markdown",
   "metadata": {},
   "source": [
    "Information on GPU used for training:"
   ]
  },
  {
   "cell_type": "markdown",
   "metadata": {},
   "source": [
    "```python\n",
    "!nvidia-smi\n",
    "```\n",
    "```\n",
    "Sun Mar 10 12:21:00 2024       \n",
    "+---------------------------------------------------------------------------------------+\n",
    "| NVIDIA-SMI 535.104.05             Driver Version: 535.104.05   CUDA Version: 12.2     |\n",
    "|-----------------------------------------+----------------------+----------------------+\n",
    "| GPU  Name                 Persistence-M | Bus-Id        Disp.A | Volatile Uncorr. ECC |\n",
    "| Fan  Temp   Perf          Pwr:Usage/Cap |         Memory-Usage | GPU-Util  Compute M. |\n",
    "|                                         |                      |               MIG M. |\n",
    "|=========================================+======================+======================|\n",
    "|   0  Tesla V100-SXM2-16GB           Off | 00000000:00:04.0 Off |                    0 |\n",
    "| N/A   41C    P0              27W / 300W |      0MiB / 16384MiB |      0%      Default |\n",
    "|                                         |                      |                  N/A |\n",
    "+-----------------------------------------+----------------------+----------------------+\n",
    "                                                                                         \n",
    "+---------------------------------------------------------------------------------------+\n",
    "| Processes:                                                                            |\n",
    "|  GPU   GI   CI        PID   Type   Process name                            GPU Memory |\n",
    "|        ID   ID                                                             Usage      |\n",
    "|=======================================================================================|\n",
    "|  No running processes found                                                           |\n",
    "+---------------------------------------------------------------------------------------+\n",
    "\n",
    "```"
   ]
  },
  {
   "cell_type": "markdown",
   "metadata": {},
   "source": [
    "```python\n",
    "%%time\n",
    "timestamp()\n",
    "seed_everything(42)\n",
    "\n",
    "trainer = create_trainer(\n",
    "    log_model_name=\"DistilBERT\",\n",
    "    max_epochs=50,\n",
    "    log_every_n_steps=20,\n",
    "    patience=2,\n",
    "    accelerator=\"gpu\",\n",
    "    devices=1,\n",
    ")\n",
    "\n",
    "res_fit = trainer.fit(model=bert_model, datamodule=data_module)\n",
    "\n",
    "timestamp()\n",
    "```\n",
    "\n",
    "Some of the output generated during the training process:\n",
    "\n",
    "```\n",
    "INFO: Seed set to 42\n",
    "2024-03-10 12:22:22\n",
    "\n",
    "INFO: LOCAL_RANK: 0 - CUDA_VISIBLE_DEVICES: [0]\n",
    "INFO:lightning.pytorch.accelerators.cuda:LOCAL_RANK: 0 - CUDA_VISIBLE_DEVICES: [0]\n",
    "INFO:\n",
    "   | Name                        | Type                                | Params\n",
    "-------------------------------------------------------------------------------------\n",
    "0  | model                       | DistilBertForSequenceClassification | 67.0 M\n",
    "1  | train_accuracy              | MultilabelAccuracy                  | 0     \n",
    "2  | val_accuracy                | MultilabelAccuracy                  | 0     \n",
    "3  | test_accuracy               | MultilabelAccuracy                  | 0     \n",
    "4  | train_f1                    | MultilabelF1Score                   | 0     \n",
    "5  | val_f1                      | MultilabelF1Score                   | 0     \n",
    "6  | test_f1                     | MultilabelF1Score                   | 0     \n",
    "7  | train_confusion_matrix      | MultilabelConfusionMatrix           | 0     \n",
    "8  | train_confusion_matrix_norm | MultilabelConfusionMatrix           | 0     \n",
    "9  | val_confusion_matrix        | MultilabelConfusionMatrix           | 0     \n",
    "10 | val_confusion_matrix_norm   | MultilabelConfusionMatrix           | 0     \n",
    "-------------------------------------------------------------------------------------\n",
    "595 K     Trainable params\n",
    "66.4 M    Non-trainable params\n",
    "67.0 M    Total params\n",
    "267.835   Total estimated model params size (MB)\n",
    "\n",
    "Epoch 11: 100%\n",
    " 7979/7979 [11:51<00:00, 11.21it/s, v_num=1, train_loss_step=2.350, val_loss_step=2.380, val_loss_epoch=1.600, train_loss_epoch=1.430]\n",
    "```\n",
    "\n",
    "<details>\n",
    "<summary>Profiler Report</summary>\n",
    "\n",
    "\n",
    "```\n",
    "INFO: FIT Profiler Report\n",
    "Profile stats for: records\n",
    "-------------------------------------------------------  ------------  ------------  ------------  ------------  ------------  ------------  ------------  ------------  ------------  ------------  \n",
    "                                                   Name    Self CPU %      Self CPU   CPU total %     CPU total  CPU time avg     Self CUDA   Self CUDA %    CUDA total  CUDA time avg    # of Calls  \n",
    "-------------------------------------------------------  ------------  ------------  ------------  ------------  ------------  ------------  ------------  ------------  ------------  ------------  \n",
    "                                          ProfilerStep*        24.85%      43.210ms        99.99%     173.897ms      86.948ms       0.000us         0.00%      51.865ms      25.933ms             2  \n",
    "[pl][profile][Strategy]SingleDeviceStrategy.validati...         1.09%       1.892ms        39.08%      67.972ms      33.986ms       0.000us         0.00%      51.824ms      25.912ms             2  \n",
    "                [pl][profile][_EvaluationLoop].val_next         0.11%     200.000us        34.52%      60.030ms      30.015ms       0.000us         0.00%       0.000us       0.000us             2  \n",
    "enumerate(DataLoader)#_SingleProcessDataLoaderIter._...        33.73%      58.667ms        34.40%      59.830ms      29.915ms       0.000us         0.00%       0.000us       0.000us             2  \n",
    "[pl][module]transformers.models.distilbert.modeling_...         0.32%     548.000us        23.81%      41.408ms      20.704ms       0.000us         0.00%      51.289ms      25.645ms             2  \n",
    "[pl][module]transformers.models.distilbert.modeling_...         0.13%     229.000us        22.84%      39.719ms      19.860ms       0.000us         0.00%      51.196ms      25.598ms             2  \n",
    "[pl][module]transformers.models.distilbert.modeling_...         0.25%     443.000us        21.78%      37.881ms      18.941ms       0.000us         0.00%      50.739ms      25.369ms             2  \n",
    "                                               aten::to         0.49%     854.000us        13.03%      22.661ms      61.246us       0.000us         0.00%       7.008ms      18.941us           370  \n",
    "                                         aten::_to_copy         0.80%       1.400ms        12.84%      22.328ms      91.508us       0.000us         0.00%       8.349ms      34.217us           244  \n",
    "                                            aten::copy_         1.91%       3.323ms        11.70%      20.341ms      62.781us      14.355ms        27.68%      14.355ms      44.306us           324  \n",
    "                                           aten::linear         0.81%       1.407ms        11.24%      19.554ms     128.645us       0.000us         0.00%      38.181ms     251.191us           152  \n",
    "                                  cudaStreamSynchronize         7.87%      13.684ms         7.87%      13.684ms     684.200us       0.000us         0.00%       0.000us       0.000us            20  \n",
    "[pl][module]transformers.models.distilbert.modeling_...         0.21%     370.000us         4.67%       8.130ms       4.065ms       0.000us         0.00%       8.470ms       4.235ms             2  \n",
    "                                       cudaLaunchKernel         3.84%       6.670ms         3.84%       6.670ms       8.893us       0.000us         0.00%       0.000us       0.000us           750  \n",
    "[pl][module]transformers.models.distilbert.modeling_...         0.16%     276.000us         3.41%       5.937ms       2.969ms       0.000us         0.00%       8.443ms       4.221ms             2  \n",
    "[pl][module]transformers.models.distilbert.modeling_...         0.16%     279.000us         3.39%       5.894ms       2.947ms       0.000us         0.00%       8.407ms       4.204ms             2  \n",
    "[pl][module]transformers.models.distilbert.modeling_...         0.16%     270.000us         3.37%       5.864ms       2.932ms       0.000us         0.00%       8.457ms       4.229ms             2  \n",
    "[pl][module]transformers.models.distilbert.modeling_...         0.16%     278.000us         3.36%       5.840ms       2.920ms       0.000us         0.00%       8.482ms       4.241ms             2  \n",
    "[pl][module]transformers.models.distilbert.modeling_...         0.15%     262.000us         3.32%       5.773ms       2.886ms       0.000us         0.00%       8.480ms       4.240ms             2  \n",
    "                                           aten::matmul         0.20%     350.000us         3.19%       5.556ms     154.333us       0.000us         0.00%      15.511ms     430.861us            36  \n",
    "-------------------------------------------------------  ------------  ------------  ------------  ------------  ------------  ------------  ------------  ------------  ------------  ------------  \n",
    "Self CPU time total: 173.914ms\n",
    "Self CUDA time total: 51.865ms\n",
    "```\n",
    "</details>\n",
    "\n",
    "```\n",
    "2024-03-10 14:43:48\n",
    "\n",
    "CPU times: user 2h 12min 56s, sys: 1min, total: 2h 13min 57s\n",
    "Wall time: 2h 21min 26s\n",
    "```"
   ]
  },
  {
   "cell_type": "markdown",
   "metadata": {},
   "source": [
    "A single epoch took about 9-12 minutes to train part and 2-3 minutes to validate. In total, 12 epochs took about 2 hours and 21 minutes."
   ]
  },
  {
   "cell_type": "markdown",
   "metadata": {},
   "source": [
    "# Results"
   ]
  },
  {
   "cell_type": "markdown",
   "metadata": {},
   "source": [
    "::: {.callout-tip}\n",
    "## Performed locally\n",
    "\n",
    "The code in the following section was performed **locally** on a Windows 10 machine.\n",
    ":::"
   ]
  },
  {
   "cell_type": "markdown",
   "metadata": {},
   "source": [
    "## Re-Structure Logs"
   ]
  },
  {
   "cell_type": "markdown",
   "metadata": {},
   "source": [
    "Currently, CSV and TensorBoard logs are stored in different directories which contain subfolders for models and versions. It would be more convenient to have a single folder for each model and different type of logs in it."
   ]
  },
  {
   "cell_type": "markdown",
   "metadata": {},
   "source": [
    "Initial structure of `logs` directory:\n",
    "\n"
   ]
  },
  {
   "cell_type": "code",
   "execution_count": null,
   "metadata": {},
   "outputs": [
    {
     "name": "stdout",
     "output_type": "stream",
     "text": [
      "logs\n",
      "├── csv_logs\n",
      "│   └── DistilBERT\n",
      "│       └── version_0\n",
      "│           ├── hparams.yaml\n",
      "│           └── metrics.csv\n",
      "└── tensorboard_logs\n",
      "    └── DistilBERT\n",
      "        └── version_0\n",
      "            ├── checkpoints\n",
      "            │   ├── DistilBERT--epoch=001--step=15958--val_loss=1.74--val_accuracy=0.974.ckpt\n",
      "            │   ├── DistilBERT--epoch=007--step=63832--val_loss=1.60--val_accuracy=0.975.ckpt\n",
      "            │   ├── DistilBERT--epoch=008--step=71811--val_loss=1.61--val_accuracy=0.976.ckpt\n",
      "            │   ├── DistilBERT--epoch=009--step=79790--val_loss=1.58--val_accuracy=0.976.ckpt\n",
      "            │   ├── DistilBERT--epoch=010--step=87769--val_loss=1.60--val_accuracy=0.976.ckpt\n",
      "            │   └── DistilBERT--epoch=011--step=95748--val_loss=1.60--val_accuracy=0.976.ckpt\n",
      "            ├── events.out.tfevents.1710073354.db23b82b7acd.8758.0\n",
      "            ├── fit-[Strategy]SingleDeviceStrategy.training_step.1710073362155335607.pt.trace.json\n",
      "            ├── fit-[Strategy]SingleDeviceStrategy.validation_step.1710073901901402081.pt.trace.json\n",
      "            └── hparams.yaml\n",
      "\n",
      "7 directories, 12 files\n"
     ]
    }
   ],
   "source": [
    "%%bash\n",
    "tree \"logs\""
   ]
  },
  {
   "cell_type": "markdown",
   "metadata": {},
   "source": [
    "<!-- \n",
    "```\n",
    "logs\n",
    "├── csv_logs\n",
    "│   └── DistilBERT\n",
    "│       └── version_0\n",
    "│           ├── hparams.yaml\n",
    "│           └── metrics.csv\n",
    "└── tensorboard_logs\n",
    "    └── DistilBERT\n",
    "        └── version_0\n",
    "            ├── checkpoints\n",
    "            │   ├── DistilBERT--epoch=001--step=15958--val_loss=1.74--val_accuracy=0.974.ckpt\n",
    "            │   ├── DistilBERT--epoch=007--step=63832--val_loss=1.60--val_accuracy=0.975.ckpt\n",
    "            │   ├── DistilBERT--epoch=008--step=71811--val_loss=1.61--val_accuracy=0.976.ckpt\n",
    "            │   ├── DistilBERT--epoch=009--step=79790--val_loss=1.58--val_accuracy=0.976.ckpt\n",
    "            │   ├── DistilBERT--epoch=010--step=87769--val_loss=1.60--val_accuracy=0.976.ckpt\n",
    "            │   └── DistilBERT--epoch=011--step=95748--val_loss=1.60--val_accuracy=0.976.ckpt\n",
    "            ├── events.out.tfevents.1710073354.db23b82b7acd.8758.0\n",
    "            ├── fit-[Strategy]SingleDeviceStrategy.training_step.1710073362155335607.pt.trace.json\n",
    "            ├── fit-[Strategy]SingleDeviceStrategy.validation_step.1710073901901402081.pt.trace.json\n",
    "            └── hparams.yaml\n",
    "\n",
    "7 directories, 12 files\n",
    "```\n",
    "-->"
   ]
  },
  {
   "cell_type": "code",
   "execution_count": null,
   "metadata": {},
   "outputs": [
    {
     "name": "stdout",
     "output_type": "stream",
     "text": [
      " \n",
      "=== Model: DistilBERT ===\n",
      " \n",
      "--- version_0 ---\n",
      "    logs/tensorboard_logs/DistilBERT/version_0/checkpoints/ -> logs/DistilBERT/version_0/checkpoints/\n",
      "    logs/tensorboard_logs/DistilBERT/version_0/ -> logs/DistilBERT/version_0/tensorboard_logs/\n",
      "    logs/csv_logs/DistilBERT/version_0/ -> logs/DistilBERT/version_0/csv_logs/\n"
     ]
    }
   ],
   "source": [
    "%%bash\n",
    "\n",
    "root_dir=\"logs\" # Without trailing slash\n",
    "\n",
    "logger=(\"tensorboard_logs\" \"tensorboard_logs\" \"csv_logs\")\n",
    "subdir=(\"checkpoints/\" \"\" \"\")\n",
    "log_type=(\"checkpoints\" \"tensorboard_logs\" \"csv_logs\")\n",
    "\n",
    "# Read model names (based on the contents of csv_logs directory only)\n",
    "readarray -t models < \\\n",
    "    <(find \"$root_dir/csv_logs\" -mindepth 1 -maxdepth 1 -type d -printf \"%f\\n\" | sort -u)\n",
    "\n",
    "# Iterate over each model and find versions\n",
    "for model in \"${models[@]}\"; do\n",
    "    echo \" \"\n",
    "    echo \"=== Model: $model ===\"\n",
    "    versions=$(find \"$root_dir/csv_logs/$model\" -mindepth 1 -maxdepth 1 -type d -printf \"%f\\n\")\n",
    "    for version in $versions; do\n",
    "        echo \" \"\n",
    "        echo \"--- $version ---\"\n",
    "\n",
    "        # Loop through directories\n",
    "        for ((i=0; i<${#logger[@]}; i++)); do\n",
    "            from=\"$root_dir/${logger[i]}/$model/$version/${subdir[i]}\"\n",
    "            to=\"$root_dir/$model/$version/${log_type[i]}/\"\n",
    "            echo \"    $from -> $to\"\n",
    "            mkdir -p \"$to\" # Create dir if it doesn't exist\n",
    "            mv \"$from\"* \"$to\"\n",
    "        done\n",
    "    done\n",
    "done\n",
    "\n",
    "# Delete empty directories recursively\n",
    "find \"$root_dir\" -type d -empty -delete"
   ]
  },
  {
   "cell_type": "markdown",
   "metadata": {},
   "source": [
    "<!-- \n",
    "```\n",
    "=== Model: DistilBERT ===\n",
    " \n",
    "--- version_0 ---\n",
    "    logs/tensorboard_logs/DistilBERT/version_0/checkpoints/ -> logs/DistilBERT/version_0/checkpoints/\n",
    "    logs/tensorboard_logs/DistilBERT/version_0/ -> logs/DistilBERT/version_0/tensorboard_logs/\n",
    "    logs/csv_logs/DistilBERT/version_0/ -> logs/DistilBERT/version_0/csv_logs/\n",
    "```\n",
    "-->"
   ]
  },
  {
   "cell_type": "markdown",
   "metadata": {},
   "source": [
    "After restructuring:"
   ]
  },
  {
   "cell_type": "code",
   "execution_count": null,
   "metadata": {},
   "outputs": [
    {
     "name": "stdout",
     "output_type": "stream",
     "text": [
      "logs\n",
      "└── DistilBERT\n",
      "    └── version_0\n",
      "        ├── checkpoints\n",
      "        │   ├── DistilBERT--epoch=001--step=15958--val_loss=1.74--val_accuracy=0.974.ckpt\n",
      "        │   ├── DistilBERT--epoch=007--step=63832--val_loss=1.60--val_accuracy=0.975.ckpt\n",
      "        │   ├── DistilBERT--epoch=008--step=71811--val_loss=1.61--val_accuracy=0.976.ckpt\n",
      "        │   ├── DistilBERT--epoch=009--step=79790--val_loss=1.58--val_accuracy=0.976.ckpt\n",
      "        │   ├── DistilBERT--epoch=010--step=87769--val_loss=1.60--val_accuracy=0.976.ckpt\n",
      "        │   └── DistilBERT--epoch=011--step=95748--val_loss=1.60--val_accuracy=0.976.ckpt\n",
      "        ├── csv_logs\n",
      "        │   ├── hparams.yaml\n",
      "        │   └── metrics.csv\n",
      "        └── tensorboard_logs\n",
      "            ├── events.out.tfevents.1710073354.db23b82b7acd.8758.0\n",
      "            ├── fit-[Strategy]SingleDeviceStrategy.training_step.1710073362155335607.pt.trace.json\n",
      "            ├── fit-[Strategy]SingleDeviceStrategy.validation_step.1710073901901402081.pt.trace.json\n",
      "            └── hparams.yaml\n",
      "\n",
      "5 directories, 12 files\n"
     ]
    }
   ],
   "source": [
    "%%bash\n",
    "tree \"logs\""
   ]
  },
  {
   "cell_type": "markdown",
   "metadata": {},
   "source": [
    "<!-- \n",
    "```\n",
    "logs\n",
    "└── DistilBERT\n",
    "    └── version_0\n",
    "        ├── checkpoints\n",
    "        │   ├── DistilBERT--epoch=001--step=15958--val_loss=1.74--val_accuracy=0.974.ckpt\n",
    "        │   ├── DistilBERT--epoch=007--step=63832--val_loss=1.60--val_accuracy=0.975.ckpt\n",
    "        │   ├── DistilBERT--epoch=008--step=71811--val_loss=1.61--val_accuracy=0.976.ckpt\n",
    "        │   ├── DistilBERT--epoch=009--step=79790--val_loss=1.58--val_accuracy=0.976.ckpt\n",
    "        │   ├── DistilBERT--epoch=010--step=87769--val_loss=1.60--val_accuracy=0.976.ckpt\n",
    "        │   └── DistilBERT--epoch=011--step=95748--val_loss=1.60--val_accuracy=0.976.ckpt\n",
    "        ├── csv_logs\n",
    "        │   ├── hparams.yaml\n",
    "        │   └── metrics.csv\n",
    "        └── tensorboard_logs\n",
    "            ├── events.out.tfevents.1710073354.db23b82b7acd.8758.0\n",
    "            ├── fit-[Strategy]SingleDeviceStrategy.training_step.1710073362155335607.pt.trace.json\n",
    "            ├── fit-[Strategy]SingleDeviceStrategy.validation_step.1710073901901402081.pt.trace.json\n",
    "            └── hparams.yaml\n",
    "\n",
    "5 directories, 12 files\n",
    "```\n",
    "-->"
   ]
  },
  {
   "cell_type": "markdown",
   "metadata": {},
   "source": [
    "## Monitor Training Process"
   ]
  },
  {
   "cell_type": "markdown",
   "metadata": {},
   "source": [
    "To monitor the changes in training and validation metrics in each epoch, **TensorBoard** was used ([Fig. @fig-tensorboard-example],  [Fig. @fig-tensorboard-example]). The best validation performance was achieved in epoch 9 (see @tbl-best-val-loss).\n",
    "\n"
   ]
  },
  {
   "cell_type": "code",
   "execution_count": null,
   "metadata": {},
   "outputs": [],
   "source": [
    "%reload_ext tensorboard\n",
    "%tensorboard --logdir=logs/"
   ]
  },
  {
   "cell_type": "markdown",
   "metadata": {},
   "source": [
    "![The tracked metrics in TensorBoard.](img/2024-03-11--00-48-51.png){#fig-tensorboard-metrics width=300px}\n",
    "\n",
    "<br>\n",
    "\n",
    "![Example: monitoring the training process metrics in TensorBoard.](img/2024-03-10--23-16-06.png){#fig-tensorboard-example width=800px}"
   ]
  },
  {
   "cell_type": "markdown",
   "metadata": {},
   "source": [
    "## Model Training Dynamics"
   ]
  },
  {
   "cell_type": "markdown",
   "metadata": {},
   "source": [
    "This sub-section presents model performance at different training epochs.\n",
    "The training process took 12 epochs ([Fig. @fig-duration-vs-epochs]) numbered from 0 to 11 with the best validation performance (weighted loss and F1 score) in epoch 9 (see @tbl-best-val-loss).\n",
    "The results are graphically presented in Fig. [@fig-loss-by-epoch], [@fig-bacc-by-epoch], and [@fig-f1-by-epoch]."
   ]
  },
  {
   "cell_type": "markdown",
   "metadata": {},
   "source": [
    "![Training length in each epoch (a print screen from TensorBoard). The *X-axis* indicates the duration from the beginning of the training.](img/2024-03-10--21-27-17.png){#fig-duration-vs-epochs width=800px}\n"
   ]
  },
  {
   "cell_type": "code",
   "execution_count": 68,
   "metadata": {},
   "outputs": [],
   "source": [
    "# | code-summary: \"Code: Helpers to format results\"\n",
    "# | code-fold: true\n",
    "\n",
    "barcolor = \"#aaa\"\n",
    "palegreen = \"#448f44\""
   ]
  },
  {
   "cell_type": "code",
   "execution_count": 69,
   "metadata": {},
   "outputs": [
    {
     "name": "stdout",
     "output_type": "stream",
     "text": [
      "Dimensions in long format:  (24, 6)\n",
      "Dimensions in wide format:  (12, 11)\n"
     ]
    }
   ],
   "source": [
    "log_path_1 = \"logs/DistilBERT/version_0/csv_logs/metrics.csv\"\n",
    "epoch_performance = read_metrics_log(log_path_1, \"DistilBERT\")\n",
    "epoch_performance_wide = read_metrics_log(log_path_1, \"DistilBERT\", out_format=\"wide\")\n",
    "\n",
    "print(\"Dimensions in long format: \", epoch_performance.shape)\n",
    "print(\"Dimensions in wide format: \", epoch_performance_wide.shape)"
   ]
  },
  {
   "cell_type": "markdown",
   "metadata": {},
   "source": [
    "A few rows of the imported CSV log (**long format**):"
   ]
  },
  {
   "cell_type": "code",
   "execution_count": 70,
   "metadata": {},
   "outputs": [
    {
     "data": {
      "text/html": [
       "<div>\n",
       "<style scoped>\n",
       "    .dataframe tbody tr th:only-of-type {\n",
       "        vertical-align: middle;\n",
       "    }\n",
       "\n",
       "    .dataframe tbody tr th {\n",
       "        vertical-align: top;\n",
       "    }\n",
       "\n",
       "    .dataframe thead th {\n",
       "        text-align: right;\n",
       "    }\n",
       "</style>\n",
       "<table border=\"1\" class=\"dataframe\">\n",
       "  <thead>\n",
       "    <tr style=\"text-align: right;\">\n",
       "      <th></th>\n",
       "      <th>epoch</th>\n",
       "      <th>set</th>\n",
       "      <th>accuracy</th>\n",
       "      <th>f1</th>\n",
       "      <th>loss</th>\n",
       "      <th>model</th>\n",
       "    </tr>\n",
       "  </thead>\n",
       "  <tbody>\n",
       "    <tr>\n",
       "      <th>0</th>\n",
       "      <td>0</td>\n",
       "      <td>train</td>\n",
       "      <td>0.97</td>\n",
       "      <td>0.41</td>\n",
       "      <td>2.51</td>\n",
       "      <td>DistilBERT</td>\n",
       "    </tr>\n",
       "    <tr>\n",
       "      <th>1</th>\n",
       "      <td>0</td>\n",
       "      <td>val</td>\n",
       "      <td>0.97</td>\n",
       "      <td>0.44</td>\n",
       "      <td>1.86</td>\n",
       "      <td>DistilBERT</td>\n",
       "    </tr>\n",
       "    <tr>\n",
       "      <th>2</th>\n",
       "      <td>1</td>\n",
       "      <td>train</td>\n",
       "      <td>0.97</td>\n",
       "      <td>0.51</td>\n",
       "      <td>1.77</td>\n",
       "      <td>DistilBERT</td>\n",
       "    </tr>\n",
       "    <tr>\n",
       "      <th>3</th>\n",
       "      <td>1</td>\n",
       "      <td>val</td>\n",
       "      <td>0.97</td>\n",
       "      <td>0.53</td>\n",
       "      <td>1.74</td>\n",
       "      <td>DistilBERT</td>\n",
       "    </tr>\n",
       "  </tbody>\n",
       "</table>\n",
       "</div>"
      ],
      "text/plain": [
       "   epoch    set  accuracy   f1  loss       model\n",
       "0      0  train      0.97 0.41  2.51  DistilBERT\n",
       "1      0    val      0.97 0.44  1.86  DistilBERT\n",
       "2      1  train      0.97 0.51  1.77  DistilBERT\n",
       "3      1    val      0.97 0.53  1.74  DistilBERT"
      ]
     },
     "metadata": {},
     "output_type": "display_data"
    }
   ],
   "source": [
    "# | label: tbl-epoch-performance-long\n",
    "# | tbl-cap: 'An **example** of imported performance scores in the long format\n",
    "# | (top 4 rows).'\n",
    "display(epoch_performance.head(4))"
   ]
  },
  {
   "cell_type": "markdown",
   "metadata": {},
   "source": [
    "In the following tables:\n",
    "\n",
    "- `train_` – training set scores;\n",
    "- `val_` – validation set scores;\n",
    "- `_diff` – a difference between training and validation sets scores (*positive* numbers show that the *training* score *is higher* than the validation score);\n",
    "- `accuracy` – balanced accuracy;\n",
    "- `f1` – F1 score;\n",
    "- `loss` – weighted binary cross-entropy loss."
   ]
  },
  {
   "cell_type": "code",
   "execution_count": 71,
   "metadata": {},
   "outputs": [
    {
     "data": {
      "text/html": [
       "<style type=\"text/css\">\n",
       "#T_dc16c_row0_col6 {\n",
       "  width: 10em;\n",
       "  background: linear-gradient(90deg, #aaa 53.7%, transparent 53.7%) no-repeat center;\n",
       "  background-size: 100% 80.0%;\n",
       "}\n",
       "#T_dc16c_row0_col9 {\n",
       "  width: 10em;\n",
       "  background: linear-gradient(90deg, transparent 50.0%, #aaa 50.0%, #aaa 77.9%, transparent 77.9%);\n",
       "}\n",
       "#T_dc16c_row1_col6 {\n",
       "  width: 10em;\n",
       "  background: linear-gradient(90deg, #aaa 56.1%, transparent 56.1%) no-repeat center;\n",
       "  background-size: 100% 80.0%;\n",
       "}\n",
       "#T_dc16c_row1_col9 {\n",
       "  width: 10em;\n",
       "  background: linear-gradient(90deg, transparent 50.0%, #aaa 50.0%, #aaa 87.4%, transparent 87.4%);\n",
       "}\n",
       "#T_dc16c_row2_col5, #T_dc16c_row4_col4 {\n",
       "  background-color: #448f44;\n",
       "}\n",
       "#T_dc16c_row2_col6 {\n",
       "  width: 10em;\n",
       "  background: linear-gradient(90deg, #aaa 48.7%, transparent 48.7%) no-repeat center;\n",
       "  background-size: 100% 80.0%;\n",
       "  background-color: #448f44;\n",
       "}\n",
       "#T_dc16c_row2_col9 {\n",
       "  width: 10em;\n",
       "  background: linear-gradient(90deg, transparent 50.0%, #aaa 50.0%, #aaa 84.8%, transparent 84.8%);\n",
       "}\n",
       "#T_dc16c_row3_col6 {\n",
       "  width: 10em;\n",
       "  background: linear-gradient(90deg, #aaa 53.4%, transparent 53.4%) no-repeat center;\n",
       "  background-size: 100% 80.0%;\n",
       "}\n",
       "#T_dc16c_row3_col9 {\n",
       "  width: 10em;\n",
       "  background: linear-gradient(90deg, transparent 50.0%, #aaa 50.0%, #aaa 95.5%, transparent 95.5%);\n",
       "}\n",
       "#T_dc16c_row4_col6 {\n",
       "  width: 10em;\n",
       "  background: linear-gradient(90deg, #aaa 52.3%, transparent 52.3%) no-repeat center;\n",
       "  background-size: 100% 80.0%;\n",
       "}\n",
       "#T_dc16c_row4_col9 {\n",
       "  width: 10em;\n",
       "  background: linear-gradient(90deg, transparent 50.0%, #aaa 50.0%, #aaa 100.0%, transparent 100.0%);\n",
       "}\n",
       "</style>\n",
       "<table id=\"T_dc16c\">\n",
       "  <thead>\n",
       "    <tr>\n",
       "      <th id=\"T_dc16c_level0_col0\" class=\"col_heading level0 col0\" >epoch</th>\n",
       "      <th id=\"T_dc16c_level0_col1\" class=\"col_heading level0 col1\" >train_accuracy</th>\n",
       "      <th id=\"T_dc16c_level0_col2\" class=\"col_heading level0 col2\" >train_f1</th>\n",
       "      <th id=\"T_dc16c_level0_col3\" class=\"col_heading level0 col3\" >train_loss</th>\n",
       "      <th id=\"T_dc16c_level0_col4\" class=\"col_heading level0 col4\" >val_accuracy</th>\n",
       "      <th id=\"T_dc16c_level0_col5\" class=\"col_heading level0 col5\" >val_f1</th>\n",
       "      <th id=\"T_dc16c_level0_col6\" class=\"col_heading level0 col6\" >val_loss</th>\n",
       "      <th id=\"T_dc16c_level0_col7\" class=\"col_heading level0 col7\" >accuracy_diff</th>\n",
       "      <th id=\"T_dc16c_level0_col8\" class=\"col_heading level0 col8\" >f1_diff</th>\n",
       "      <th id=\"T_dc16c_level0_col9\" class=\"col_heading level0 col9\" >loss_diff</th>\n",
       "      <th id=\"T_dc16c_level0_col10\" class=\"col_heading level0 col10\" >model</th>\n",
       "    </tr>\n",
       "  </thead>\n",
       "  <tbody>\n",
       "    <tr>\n",
       "      <td id=\"T_dc16c_row0_col0\" class=\"data row0 col0\" >7</td>\n",
       "      <td id=\"T_dc16c_row0_col1\" class=\"data row0 col1\" >0.976</td>\n",
       "      <td id=\"T_dc16c_row0_col2\" class=\"data row0 col2\" >0.609</td>\n",
       "      <td id=\"T_dc16c_row0_col3\" class=\"data row0 col3\" >1.510</td>\n",
       "      <td id=\"T_dc16c_row0_col4\" class=\"data row0 col4\" >0.975</td>\n",
       "      <td id=\"T_dc16c_row0_col5\" class=\"data row0 col5\" >0.580</td>\n",
       "      <td id=\"T_dc16c_row0_col6\" class=\"data row0 col6\" >1.601</td>\n",
       "      <td id=\"T_dc16c_row0_col7\" class=\"data row0 col7\" >-0.001</td>\n",
       "      <td id=\"T_dc16c_row0_col8\" class=\"data row0 col8\" >-0.029</td>\n",
       "      <td id=\"T_dc16c_row0_col9\" class=\"data row0 col9\" >0.092</td>\n",
       "      <td id=\"T_dc16c_row0_col10\" class=\"data row0 col10\" >DistilBERT</td>\n",
       "    </tr>\n",
       "    <tr>\n",
       "      <td id=\"T_dc16c_row1_col0\" class=\"data row1 col0\" >8</td>\n",
       "      <td id=\"T_dc16c_row1_col1\" class=\"data row1 col1\" >0.976</td>\n",
       "      <td id=\"T_dc16c_row1_col2\" class=\"data row1 col2\" >0.607</td>\n",
       "      <td id=\"T_dc16c_row1_col3\" class=\"data row1 col3\" >1.487</td>\n",
       "      <td id=\"T_dc16c_row1_col4\" class=\"data row1 col4\" >0.976</td>\n",
       "      <td id=\"T_dc16c_row1_col5\" class=\"data row1 col5\" >0.548</td>\n",
       "      <td id=\"T_dc16c_row1_col6\" class=\"data row1 col6\" >1.610</td>\n",
       "      <td id=\"T_dc16c_row1_col7\" class=\"data row1 col7\" >-0.001</td>\n",
       "      <td id=\"T_dc16c_row1_col8\" class=\"data row1 col8\" >-0.058</td>\n",
       "      <td id=\"T_dc16c_row1_col9\" class=\"data row1 col9\" >0.123</td>\n",
       "      <td id=\"T_dc16c_row1_col10\" class=\"data row1 col10\" >DistilBERT</td>\n",
       "    </tr>\n",
       "    <tr>\n",
       "      <td id=\"T_dc16c_row2_col0\" class=\"data row2 col0\" >9</td>\n",
       "      <td id=\"T_dc16c_row2_col1\" class=\"data row2 col1\" >0.976</td>\n",
       "      <td id=\"T_dc16c_row2_col2\" class=\"data row2 col2\" >0.616</td>\n",
       "      <td id=\"T_dc16c_row2_col3\" class=\"data row2 col3\" >1.468</td>\n",
       "      <td id=\"T_dc16c_row2_col4\" class=\"data row2 col4\" >0.976</td>\n",
       "      <td id=\"T_dc16c_row2_col5\" class=\"data row2 col5\" >0.585</td>\n",
       "      <td id=\"T_dc16c_row2_col6\" class=\"data row2 col6\" >1.583</td>\n",
       "      <td id=\"T_dc16c_row2_col7\" class=\"data row2 col7\" >-0.001</td>\n",
       "      <td id=\"T_dc16c_row2_col8\" class=\"data row2 col8\" >-0.031</td>\n",
       "      <td id=\"T_dc16c_row2_col9\" class=\"data row2 col9\" >0.115</td>\n",
       "      <td id=\"T_dc16c_row2_col10\" class=\"data row2 col10\" >DistilBERT</td>\n",
       "    </tr>\n",
       "    <tr>\n",
       "      <td id=\"T_dc16c_row3_col0\" class=\"data row3 col0\" >10</td>\n",
       "      <td id=\"T_dc16c_row3_col1\" class=\"data row3 col1\" >0.977</td>\n",
       "      <td id=\"T_dc16c_row3_col2\" class=\"data row3 col2\" >0.621</td>\n",
       "      <td id=\"T_dc16c_row3_col3\" class=\"data row3 col3\" >1.450</td>\n",
       "      <td id=\"T_dc16c_row3_col4\" class=\"data row3 col4\" >0.976</td>\n",
       "      <td id=\"T_dc16c_row3_col5\" class=\"data row3 col5\" >0.576</td>\n",
       "      <td id=\"T_dc16c_row3_col6\" class=\"data row3 col6\" >1.600</td>\n",
       "      <td id=\"T_dc16c_row3_col7\" class=\"data row3 col7\" >-0.001</td>\n",
       "      <td id=\"T_dc16c_row3_col8\" class=\"data row3 col8\" >-0.045</td>\n",
       "      <td id=\"T_dc16c_row3_col9\" class=\"data row3 col9\" >0.150</td>\n",
       "      <td id=\"T_dc16c_row3_col10\" class=\"data row3 col10\" >DistilBERT</td>\n",
       "    </tr>\n",
       "    <tr>\n",
       "      <td id=\"T_dc16c_row4_col0\" class=\"data row4 col0\" >11</td>\n",
       "      <td id=\"T_dc16c_row4_col1\" class=\"data row4 col1\" >0.977</td>\n",
       "      <td id=\"T_dc16c_row4_col2\" class=\"data row4 col2\" >0.626</td>\n",
       "      <td id=\"T_dc16c_row4_col3\" class=\"data row4 col3\" >1.431</td>\n",
       "      <td id=\"T_dc16c_row4_col4\" class=\"data row4 col4\" >0.976</td>\n",
       "      <td id=\"T_dc16c_row4_col5\" class=\"data row4 col5\" >0.578</td>\n",
       "      <td id=\"T_dc16c_row4_col6\" class=\"data row4 col6\" >1.596</td>\n",
       "      <td id=\"T_dc16c_row4_col7\" class=\"data row4 col7\" >-0.001</td>\n",
       "      <td id=\"T_dc16c_row4_col8\" class=\"data row4 col8\" >-0.048</td>\n",
       "      <td id=\"T_dc16c_row4_col9\" class=\"data row4 col9\" >0.165</td>\n",
       "      <td id=\"T_dc16c_row4_col10\" class=\"data row4 col10\" >DistilBERT</td>\n",
       "    </tr>\n",
       "  </tbody>\n",
       "</table>\n"
      ],
      "text/plain": [
       "<pandas.io.formats.style.Styler at 0x2c9ea662450>"
      ]
     },
     "metadata": {},
     "output_type": "display_data"
    }
   ],
   "source": [
    "# | label: tbl-best-val-loss\n",
    "# | tbl-cap: 'The results in five best-performing epochs. The best values of\n",
    "# |    **validation** macro-averaged balanced accuracy, F1 score, and\n",
    "# |     weighted binary cross-entropy **loss** are highlighted in green.'\n",
    "# | code-fold: true\n",
    "\n",
    "\n",
    "display(\n",
    "    epoch_performance_wide.sort_values([\"val_loss\"])\n",
    "    .groupby(\"model\")\n",
    "    .head(5)\n",
    "    .sort_values([\"epoch\"])\n",
    "    .reset_index(drop=True)\n",
    "    .style.format(precision=3)\n",
    "    .bar(subset=[\"val_loss\"], color=barcolor, vmin=1.4, vmax=1.7, height=80, width=80)\n",
    "    .bar(subset=[\"loss_diff\"], color=barcolor, align=\"zero\")\n",
    "    .highlight_min(subset=[\"val_loss\"], color=palegreen, axis=0)\n",
    "    .highlight_max(subset=[\"val_accuracy\", \"val_f1\"], color=palegreen, axis=0)\n",
    "    .hide(axis=\"index\")\n",
    ")"
   ]
  },
  {
   "cell_type": "code",
   "execution_count": 72,
   "metadata": {},
   "outputs": [
    {
     "data": {
      "image/png": "[encoded data removed]",
      "text/plain": [
       "<Figure size 800x500 with 2 Axes>"
      ]
     },
     "metadata": {},
     "output_type": "display_data"
    }
   ],
   "source": [
    "# | label: fig-loss-by-epoch\n",
    "# | fig-cap: 'The change in weighted binary cross-entropy **loss** values by epoch.'\n",
    "# | code-fold: true\n",
    "\n",
    "n_epochs = epoch_performance_wide.epoch.max()\n",
    "\n",
    "# Create subplots\n",
    "fig, axes = plt.subplots(\n",
    "    nrows=2, ncols=1, figsize=(8, 5), gridspec_kw={\"height_ratios\": [9, 5]}\n",
    ")\n",
    "\n",
    "# Plot the first line plot\n",
    "sns.lineplot(\n",
    "    data=epoch_performance,\n",
    "    x=\"epoch\",\n",
    "    y=\"loss\",\n",
    "    hue=\"model\",\n",
    "    style=\"set\",\n",
    "    markers=True,\n",
    "    ax=axes[0],\n",
    ")\n",
    "# axes[0].set_yscale('log')\n",
    "axes[0].set_title(\"Weighted Binary Cross-Entropy Loss\")\n",
    "axes[0].set_xlim(-0.25, n_epochs + 0.5)\n",
    "axes[0].set_ylim(0.0, 2.6)\n",
    "axes[0].set_xlabel(\"\")  # Remove x-axis title\n",
    "axes[0].set_ylabel(\"Loss\")\n",
    "\n",
    "# Plot the second line plot\n",
    "sns.lineplot(\n",
    "    data=epoch_performance_wide,\n",
    "    x=\"epoch\",\n",
    "    y=\"loss_diff\",\n",
    "    hue=\"model\",\n",
    "    markers=True,\n",
    "    ax=axes[1],\n",
    ")\n",
    "axes[1].axhline(y=0, color=\"grey\", linestyle=\"--\")\n",
    "axes[1].set_xlabel(\"Epoch\")\n",
    "axes[1].set_ylabel(\"Difference in Loss\\n(Validation – Training)\")\n",
    "axes[1].set_xlim(-0.25, n_epochs + 0.5)\n",
    "axes[1].set_ylim(-1.0, 0.5)\n",
    "\n",
    "# Common\n",
    "\n",
    "# Align y-axis labels\n",
    "plt.tight_layout()\n",
    "plt.show()"
   ]
  },
  {
   "cell_type": "code",
   "execution_count": 73,
   "metadata": {},
   "outputs": [
    {
     "data": {
      "image/png": "[encoded data removed]",
      "text/plain": [
       "<Figure size 800x500 with 2 Axes>"
      ]
     },
     "metadata": {},
     "output_type": "display_data"
    }
   ],
   "source": [
    "# | label: fig-bacc-by-epoch\n",
    "# | fig-cap: 'The change in macro averaged balanced **accuracy** values by epoch.'\n",
    "# | code-fold: true\n",
    "\n",
    "n_epochs = epoch_performance_wide.epoch.max()\n",
    "\n",
    "# Create subplots\n",
    "fig, axes = plt.subplots(\n",
    "    nrows=2, ncols=1, figsize=(8, 5), gridspec_kw={\"height_ratios\": [9, 5]}\n",
    ")\n",
    "\n",
    "# Plot the first line plot\n",
    "sns.lineplot(\n",
    "    data=epoch_performance,\n",
    "    x=\"epoch\",\n",
    "    y=\"accuracy\",\n",
    "    hue=\"model\",\n",
    "    style=\"set\",\n",
    "    markers=True,\n",
    "    palette=[\"darkred\"],\n",
    "    ax=axes[0],\n",
    ")\n",
    "axes[0].set_title(\"Balanced Accuracy\")\n",
    "axes[0].set_xlim(-0.25, n_epochs + 0.5)\n",
    "axes[0].set_ylim(0.96, 1)\n",
    "axes[0].set_xlabel(\"\")  # Remove x-axis title\n",
    "axes[0].set_ylabel(\"Accuracy\")\n",
    "\n",
    "# Plot the second line plot\n",
    "sns.lineplot(\n",
    "    data=epoch_performance_wide,\n",
    "    x=\"epoch\",\n",
    "    y=\"accuracy_diff\",\n",
    "    hue=\"model\",\n",
    "    markers=True,\n",
    "    palette=[\"darkred\"],\n",
    "    ax=axes[1],\n",
    ")\n",
    "axes[1].axhline(y=0, color=\"grey\", linestyle=\"--\")\n",
    "axes[1].set_xlabel(\"Epoch\")\n",
    "axes[1].set_ylabel(\"Difference in Accuracy\\n(Validation – Training)\")\n",
    "axes[1].set_xlim(-0.25, n_epochs + 0.5)\n",
    "axes[1].set_ylim(-0.005, 0.010)\n",
    "\n",
    "# Common\n",
    "plt.tight_layout()\n",
    "plt.show()"
   ]
  },
  {
   "cell_type": "code",
   "execution_count": 74,
   "metadata": {},
   "outputs": [
    {
     "data": {
      "image/png": "[encoded data removed]",
      "text/plain": [
       "<Figure size 800x500 with 2 Axes>"
      ]
     },
     "metadata": {},
     "output_type": "display_data"
    }
   ],
   "source": [
    "# | label: fig-f1-by-epoch\n",
    "# | fig-cap: 'The change in macro averaged **F1** scores by epoch.'\n",
    "# | code-fold: true\n",
    "\n",
    "n_epochs = epoch_performance_wide.epoch.max()\n",
    "\n",
    "# Create subplots\n",
    "fig, axes = plt.subplots(\n",
    "    nrows=2, ncols=1, figsize=(8, 5), gridspec_kw={\"height_ratios\": [9, 5]}\n",
    ")\n",
    "\n",
    "# Plot the first line plot\n",
    "sns.lineplot(\n",
    "    data=epoch_performance,\n",
    "    x=\"epoch\",\n",
    "    y=\"f1\",\n",
    "    hue=\"model\",\n",
    "    style=\"set\",\n",
    "    markers=True,\n",
    "    palette=[\"#2ca02c\"],\n",
    "    ax=axes[0],\n",
    ")\n",
    "axes[0].set_title(\"F1 Score\")\n",
    "axes[0].set_xlim(-0.25, n_epochs + 0.5)\n",
    "axes[0].set_ylim(0, 1)\n",
    "axes[0].set_xlabel(\"\")  # Remove x-axis title\n",
    "axes[0].set_ylabel(\"F1\")\n",
    "\n",
    "# Plot the second line plot\n",
    "sns.lineplot(\n",
    "    data=epoch_performance_wide,\n",
    "    x=\"epoch\",\n",
    "    y=\"f1_diff\",\n",
    "    hue=\"model\",\n",
    "    markers=True,\n",
    "    palette=[\"#2ca02c\"],\n",
    "    ax=axes[1],\n",
    ")\n",
    "axes[1].axhline(y=0, color=\"grey\", linestyle=\"--\")\n",
    "axes[1].set_xlabel(\"Epoch\")\n",
    "axes[1].set_ylabel(\"Difference in F1\\n(Validation – Training)\")\n",
    "axes[1].set_xlim(-0.25, n_epochs + 0.5)\n",
    "axes[1].set_ylim(-0.11, 0.15)\n",
    "\n",
    "# Common\n",
    "plt.tight_layout()\n",
    "plt.show()"
   ]
  },
  {
   "cell_type": "markdown",
   "metadata": {},
   "source": [
    "<br>\n",
    "<br>"
   ]
  },
  {
   "cell_type": "markdown",
   "metadata": {},
   "source": [
    "Figures [-@fig-conf-mat-07-val]–[-@fig-conf-mat-10-val] show confusion matrices for multi-label classification of best-performing epochs. The images are exported from the TensorBoard log. Each matrix represents a single label, which is written above the matrix. Value `0` indicates absence and `1` indicates presence of the label."
   ]
  },
  {
   "cell_type": "markdown",
   "metadata": {},
   "source": [
    "![Confusion matrices for multi-label classification in **epoch 7** (validation). For details, refer description in the text.](logs/DistilBERT/version_0/tensorboard_logs/exported/confusion-mat--epoch-07-val.png){#fig-conf-mat-07-val width=400px}\n",
    "\n",
    "<br>\n",
    "\n",
    "![Confusion matrices for multi-label classification in **epoch 8** (validation). For details, refer description in the text.](logs/DistilBERT/version_0/tensorboard_logs/exported/confusion-mat--epoch-08-val.png){#fig-conf-mat-09-val width=400px}\n",
    "\n",
    "<br>\n",
    "\n",
    "![Confusion matrices for multi-label classification in **epoch 9** (validation), which indicates the **best** performance. For details, refer description in the text.](logs/DistilBERT/version_0/tensorboard_logs/exported/confusion-mat--epoch-09-val.png){#fig-conf-mat-09-val width=400px}\n",
    "\n",
    "<br>\n",
    "\n",
    "![Confusion matrices for multi-label classification in **epoch 10** (validation). For details, refer description in the text.](logs/DistilBERT/version_0/tensorboard_logs/exported/confusion-mat--epoch-10-val.png){#fig-conf-mat-10-val width=400px}\n",
    "\n",
    "<br>\n",
    "\n",
    "![Confusion matrices for multi-label classification in **epoch 11** (validation). For details, refer description in the text.](logs/DistilBERT/version_0/tensorboard_logs/exported/confusion-mat--epoch-11-val.png){#fig-conf-mat-11-val width=400px}"
   ]
  },
  {
   "cell_type": "markdown",
   "metadata": {},
   "source": [
    "## Best Model Evaluation"
   ]
  },
  {
   "cell_type": "markdown",
   "metadata": {},
   "source": [
    "::: {.callout-tip}\n",
    "## Performed on Colab\n",
    "\n",
    "\n",
    "<img src=\"https://colab.research.google.com/img/colab_favicon_256px.png\" alt=\"Colab\"  width=\"16\" /> This section includes resource-intensive computations that were performed on **Google Colab** with NVIDIA *A100* GPU enabled.\n",
    "\n",
    "<!-- <img src=\"https://colab.research.google.com/assets/colab-badge.svg\" alt=\"Colab\"/> -->\n",
    "\n",
    ":::"
   ]
  },
  {
   "cell_type": "markdown",
   "metadata": {},
   "source": [
    "In this section, the final model was evaluated on the **test set**. Compared to the validation set, the test set showed a slightly lower performance: (validation → test) weighted loss 1.583 → 1.977, macro-averaged balanced **accuracy** 0.976 → **0.964**, and macro-averaged **F1** score 0.584 → **0.551**. Smaller groups showed lower individual F1 score values (e.g., \"threat\" n=211, F1=0.367) compared to larger groups (e.g., \"non-toxic\" n=57,735, F1=0.956). Inference speed on powerful NVIDIA A100 GPU was approx 400 comments per second. More details are presented below."
   ]
  },
  {
   "cell_type": "markdown",
   "metadata": {},
   "source": [
    "Information on GPU used in this section:\n"
   ]
  },
  {
   "cell_type": "markdown",
   "metadata": {},
   "source": [
    "```python\n",
    "!nvidia-smi\n",
    "```\n",
    "```\n",
    "Mon Mar 11 18:32:27 2024       \n",
    "+---------------------------------------------------------------------------------------+\n",
    "| NVIDIA-SMI 535.104.05             Driver Version: 535.104.05   CUDA Version: 12.2     |\n",
    "|-----------------------------------------+----------------------+----------------------+\n",
    "| GPU  Name                 Persistence-M | Bus-Id        Disp.A | Volatile Uncorr. ECC |\n",
    "| Fan  Temp   Perf          Pwr:Usage/Cap |         Memory-Usage | GPU-Util  Compute M. |\n",
    "|                                         |                      |               MIG M. |\n",
    "|=========================================+======================+======================|\n",
    "|   0  NVIDIA A100-SXM4-40GB          Off | 00000000:00:04.0 Off |                    0 |\n",
    "| N/A   30C    P0              40W / 400W |      2MiB / 40960MiB |      0%      Default |\n",
    "|                                         |                      |             Disabled |\n",
    "+-----------------------------------------+----------------------+----------------------+\n",
    "                                                                                         \n",
    "+---------------------------------------------------------------------------------------+\n",
    "| Processes:                                                                            |\n",
    "|  GPU   GI   CI        PID   Type   Process name                            GPU Memory |\n",
    "|        ID   ID                                                             Usage      |\n",
    "|=======================================================================================|\n",
    "|  No running processes found                                                           |\n",
    "+---------------------------------------------------------------------------------------+\n",
    "\n",
    "```"
   ]
  },
  {
   "cell_type": "markdown",
   "metadata": {},
   "source": [
    "The results are presented below."
   ]
  },
  {
   "cell_type": "code",
   "execution_count": 61,
   "metadata": {},
   "outputs": [],
   "source": [
    "# | code-summary: \"Code: Load final model (Epoch 9) and create its trainer object\"\n",
    "# | code-fold: show\n",
    "\n",
    "bert = ClassifierModule.load_from_checkpoint(\n",
    "    \"logs/DistilBERT/version_0/checkpoints/\"\n",
    "    \"DistilBERT--epoch=009--step=79790--val_loss=1.58--val_accuracy=0.976.ckpt\",\n",
    "    model=model,\n",
    ")\n",
    "\n",
    "trainer_gpu = create_trainer(\"DistilBERT-final\", profiler=None)"
   ]
  },
  {
   "cell_type": "code",
   "execution_count": null,
   "metadata": {},
   "outputs": [
    {
     "data": {
      "application/vnd.jupyter.widget-view+json": {
       "model_id": "40899e1b3bcc4ca2bd3e5f8b47d9a081",
       "version_major": 2,
       "version_minor": 0
      },
      "text/plain": [
       "Validation: |          | 0/? [00:00<?, ?it/s]"
      ]
     },
     "metadata": {},
     "output_type": "display_data"
    },
    {
     "data": {
      "text/html": [
       "<pre style=\"white-space:pre;overflow-x:auto;line-height:normal;font-family:Menlo,'DejaVu Sans Mono',consolas,'Courier New',monospace\">┏━━━━━━━━━━━━━━━━━━━━━━━━━━━┳━━━━━━━━━━━━━━━━━━━━━━━━━━━┓\n",
       "┃<span style=\"font-weight: bold\">      Validate metric      </span>┃<span style=\"font-weight: bold\">       DataLoader 0        </span>┃\n",
       "┡━━━━━━━━━━━━━━━━━━━━━━━━━━━╇━━━━━━━━━━━━━━━━━━━━━━━━━━━┩\n",
       "│<span style=\"color: #008080; text-decoration-color: #008080\">       val_accuracy        </span>│<span style=\"color: #800080; text-decoration-color: #800080\">    0.9758017659187317     </span>│\n",
       "│<span style=\"color: #008080; text-decoration-color: #008080\">          val_f1           </span>│<span style=\"color: #800080; text-decoration-color: #800080\">    0.5844826698303223     </span>│\n",
       "│<span style=\"color: #008080; text-decoration-color: #008080\">      val_loss_epoch       </span>│<span style=\"color: #800080; text-decoration-color: #800080\">    1.5825492143630981     </span>│\n",
       "└───────────────────────────┴───────────────────────────┘\n",
       "</pre>\n"
      ],
      "text/plain": [
       "┏━━━━━━━━━━━━━━━━━━━━━━━━━━━┳━━━━━━━━━━━━━━━━━━━━━━━━━━━┓\n",
       "┃\u001b[1m \u001b[0m\u001b[1m     Validate metric     \u001b[0m\u001b[1m \u001b[0m┃\u001b[1m \u001b[0m\u001b[1m      DataLoader 0       \u001b[0m\u001b[1m \u001b[0m┃\n",
       "┡━━━━━━━━━━━━━━━━━━━━━━━━━━━╇━━━━━━━━━━━━━━━━━━━━━━━━━━━┩\n",
       "│\u001b[36m \u001b[0m\u001b[36m      val_accuracy       \u001b[0m\u001b[36m \u001b[0m│\u001b[35m \u001b[0m\u001b[35m   0.9758017659187317    \u001b[0m\u001b[35m \u001b[0m│\n",
       "│\u001b[36m \u001b[0m\u001b[36m         val_f1          \u001b[0m\u001b[36m \u001b[0m│\u001b[35m \u001b[0m\u001b[35m   0.5844826698303223    \u001b[0m\u001b[35m \u001b[0m│\n",
       "│\u001b[36m \u001b[0m\u001b[36m     val_loss_epoch      \u001b[0m\u001b[36m \u001b[0m│\u001b[35m \u001b[0m\u001b[35m   1.5825492143630981    \u001b[0m\u001b[35m \u001b[0m│\n",
       "└───────────────────────────┴───────────────────────────┘\n"
      ]
     },
     "metadata": {},
     "output_type": "display_data"
    }
   ],
   "source": [
    "# | code-summary: \"Code: Evaluation on the validation set\"\n",
    "# | code-fold: true\n",
    "\n",
    "with suppress_certain_logs_and_warnings():\n",
    "    trainer_gpu.validate(model=bert, datamodule=data_module)"
   ]
  },
  {
   "cell_type": "code",
   "execution_count": null,
   "metadata": {},
   "outputs": [
    {
     "data": {
      "application/vnd.jupyter.widget-view+json": {
       "model_id": "760f6a9c59304047aa7ed7a5258e8e98",
       "version_major": 2,
       "version_minor": 0
      },
      "text/plain": [
       "Testing: |          | 0/? [00:00<?, ?it/s]"
      ]
     },
     "metadata": {},
     "output_type": "display_data"
    },
    {
     "data": {
      "text/html": [
       "<pre style=\"white-space:pre;overflow-x:auto;line-height:normal;font-family:Menlo,'DejaVu Sans Mono',consolas,'Courier New',monospace\">┏━━━━━━━━━━━━━━━━━━━━━━━━━━━┳━━━━━━━━━━━━━━━━━━━━━━━━━━━┓\n",
       "┃<span style=\"font-weight: bold\">        Test metric        </span>┃<span style=\"font-weight: bold\">       DataLoader 0        </span>┃\n",
       "┡━━━━━━━━━━━━━━━━━━━━━━━━━━━╇━━━━━━━━━━━━━━━━━━━━━━━━━━━┩\n",
       "│<span style=\"color: #008080; text-decoration-color: #008080\">       test_accuracy       </span>│<span style=\"color: #800080; text-decoration-color: #800080\">    0.9638603925704956     </span>│\n",
       "│<span style=\"color: #008080; text-decoration-color: #008080\">          test_f1          </span>│<span style=\"color: #800080; text-decoration-color: #800080\">     0.551001787185669     </span>│\n",
       "│<span style=\"color: #008080; text-decoration-color: #008080\">      test_loss_epoch      </span>│<span style=\"color: #800080; text-decoration-color: #800080\">    1.9768834114074707     </span>│\n",
       "└───────────────────────────┴───────────────────────────┘\n",
       "</pre>\n"
      ],
      "text/plain": [
       "┏━━━━━━━━━━━━━━━━━━━━━━━━━━━┳━━━━━━━━━━━━━━━━━━━━━━━━━━━┓\n",
       "┃\u001b[1m \u001b[0m\u001b[1m       Test metric       \u001b[0m\u001b[1m \u001b[0m┃\u001b[1m \u001b[0m\u001b[1m      DataLoader 0       \u001b[0m\u001b[1m \u001b[0m┃\n",
       "┡━━━━━━━━━━━━━━━━━━━━━━━━━━━╇━━━━━━━━━━━━━━━━━━━━━━━━━━━┩\n",
       "│\u001b[36m \u001b[0m\u001b[36m      test_accuracy      \u001b[0m\u001b[36m \u001b[0m│\u001b[35m \u001b[0m\u001b[35m   0.9638603925704956    \u001b[0m\u001b[35m \u001b[0m│\n",
       "│\u001b[36m \u001b[0m\u001b[36m         test_f1         \u001b[0m\u001b[36m \u001b[0m│\u001b[35m \u001b[0m\u001b[35m    0.551001787185669    \u001b[0m\u001b[35m \u001b[0m│\n",
       "│\u001b[36m \u001b[0m\u001b[36m     test_loss_epoch     \u001b[0m\u001b[36m \u001b[0m│\u001b[35m \u001b[0m\u001b[35m   1.9768834114074707    \u001b[0m\u001b[35m \u001b[0m│\n",
       "└───────────────────────────┴───────────────────────────┘\n"
      ]
     },
     "metadata": {},
     "output_type": "display_data"
    }
   ],
   "source": [
    "# | code-summary: \"Code: Evaluation on the test set\"\n",
    "# | code-fold: true\n",
    "\n",
    "with suppress_certain_logs_and_warnings():\n",
    "    trainer_gpu.test(model=bert, datamodule=data_module)"
   ]
  },
  {
   "cell_type": "markdown",
   "metadata": {},
   "source": []
  },
  {
   "cell_type": "code",
   "execution_count": null,
   "metadata": {},
   "outputs": [
    {
     "data": {
      "application/vnd.jupyter.widget-view+json": {
       "model_id": "d7c373ee81a240c499cb93a7cdc62fb9",
       "version_major": 2,
       "version_minor": 0
      },
      "text/plain": [
       "Predicting: |          | 0/? [00:00<?, ?it/s]"
      ]
     },
     "metadata": {},
     "output_type": "display_data"
    }
   ],
   "source": [
    "# | code-summary: \"Code: Prediction on test set\"\n",
    "# | code-fold: true\n",
    "\n",
    "with suppress_certain_logs_and_warnings():\n",
    "    test_results = trainer_gpu.predict(model=bert, datamodule=data_module)"
   ]
  },
  {
   "cell_type": "markdown",
   "metadata": {},
   "source": [
    "In Colab with NVIDIA A100 GPU, inference for 63,978 comments in 3999 batches took about 2 minutes and 30 seconds (approx. 400 comments per second).\n",
    "\n",
    "![Inference speed on NVIDIA A100 GPU.](img/2024-03-12--04-30-58.png){#fig-inference-on-a100 width=800px}"
   ]
  },
  {
   "cell_type": "code",
   "execution_count": null,
   "metadata": {},
   "outputs": [],
   "source": [
    "# | code-summary: \"Code: Collect data from different batches\"\n",
    "# | code-fold: true\n",
    "\n",
    "# Collect data from different batches\n",
    "test_preds = []\n",
    "test_targets = []\n",
    "\n",
    "for batch_result in test_results:\n",
    "    test_preds.extend(batch_result[\"pred\"].tolist())\n",
    "    test_targets.extend(batch_result[\"target\"].tolist())\n",
    "\n",
    "# As NumPy arrays\n",
    "test_preds_np = np.array(test_preds)\n",
    "test_targets_np = np.array(test_targets)\n",
    "\n",
    "# As tensors\n",
    "test_preds_pt = torch.tensor(test_preds_np)\n",
    "test_targets_pt = torch.tensor(test_targets_np).int()"
   ]
  },
  {
   "cell_type": "code",
   "execution_count": 77,
   "metadata": {},
   "outputs": [
    {
     "name": "stdout",
     "output_type": "stream",
     "text": [
      "               precision    recall  f1-score   support\n",
      "\n",
      "    non_toxic      0.961     0.950     0.956     57735\n",
      "        toxic      0.596     0.637     0.616      6090\n",
      " severe_toxic      0.416     0.330     0.368       367\n",
      "      obscene      0.705     0.556     0.622      3691\n",
      "       threat      0.596     0.265     0.367       211\n",
      "       insult      0.714     0.443     0.547      3427\n",
      "identity_hate      0.611     0.278     0.382       712\n",
      "\n",
      "    micro avg      0.904     0.868     0.886     72233\n",
      "    macro avg      0.657     0.494     0.551     72233\n",
      " weighted avg      0.899     0.868     0.880     72233\n",
      "  samples avg      0.914     0.906     0.907     72233\n",
      "\n"
     ]
    }
   ],
   "source": [
    "# | code-summary: \"Code: Classification report for the test set\"\n",
    "# | code-fold: true\n",
    "report = classification_report(\n",
    "    test_targets_np,\n",
    "    (test_preds_np > 0.5).astype(int),\n",
    "    target_names=all_labels,\n",
    "    digits=3,\n",
    "    zero_division=0,\n",
    ")\n",
    "print(report)"
   ]
  },
  {
   "cell_type": "code",
   "execution_count": 148,
   "metadata": {},
   "outputs": [
    {
     "data": {
      "image/png": "[encoded data removed]",
      "text/plain": [
       "<Figure size 550x550 with 7 Axes>"
      ]
     },
     "metadata": {},
     "output_type": "display_data"
    }
   ],
   "source": [
    "# | label: fig-confusion-matrix-test\n",
    "# | fig-cap: \"Confusion matrix for the test set.\"\n",
    "# | code-fold: true\n",
    "\n",
    "confusion_matrix = ConfusionMatrix(task=\"multilabel\", num_labels=7, threshold=0.5)\n",
    "confusion_matrix(test_preds_pt, test_targets_pt)\n",
    "\n",
    "fig1, ax1 = confusion_matrix.plot(labels=all_labels)\n",
    "fig1.set_size_inches(5.5, 5.5)\n",
    "fig1.suptitle(\"Confusion Matrix (Test Set)\", fontsize=12, y=1.05)\n",
    "style_multilabel_confusion_matrix(ax1, label_font_size=12)"
   ]
  },
  {
   "cell_type": "code",
   "execution_count": 149,
   "metadata": {},
   "outputs": [
    {
     "data": {
      "image/png": "[encoded data removed]",
      "text/plain": [
       "<Figure size 550x550 with 7 Axes>"
      ]
     },
     "metadata": {},
     "output_type": "display_data"
    }
   ],
   "source": [
    "# | label: fig-confusion-matrix-test-true-norm\n",
    "# | fig-cap: \"True labels normalized confusion matrix for the test set.\"\n",
    "# | code-fold: true\n",
    "\n",
    "confusion_matrix_norm = ConfusionMatrix(\n",
    "    task=\"multilabel\", num_labels=7, threshold=0.5, normalize=\"true\"\n",
    ")\n",
    "confusion_matrix_norm(test_preds_pt, test_targets_pt)\n",
    "\n",
    "fig2, ax2 = confusion_matrix_norm.plot(labels=all_labels)\n",
    "fig2.set_size_inches(5.5, 5.5)\n",
    "fig2.suptitle(\"True Labels Normalized Confusion Matrix (Test Set)\", fontsize=12, y=1.05)\n",
    "style_multilabel_confusion_matrix(ax2, norm=True, precision=3, label_font_size=12)"
   ]
  },
  {
   "cell_type": "code",
   "execution_count": 150,
   "metadata": {},
   "outputs": [
    {
     "data": {
      "image/png": "[encoded data removed]",
      "text/plain": [
       "<Figure size 550x550 with 7 Axes>"
      ]
     },
     "metadata": {},
     "output_type": "display_data"
    }
   ],
   "source": [
    "# | label: fig-confusion-matrix-test-pred-norm\n",
    "# | fig-cap: \"Predicted labels normalized confusion matrix for the test set.\"\n",
    "# | code-fold: true\n",
    "\n",
    "confusion_matrix_norm_pred = ConfusionMatrix(\n",
    "    task=\"multilabel\", num_labels=7, threshold=0.5, normalize=\"pred\"\n",
    ")\n",
    "confusion_matrix_norm_pred(test_preds_pt, test_targets_pt)\n",
    "\n",
    "fig3, ax3 = confusion_matrix_norm_pred.plot(labels=all_labels)\n",
    "fig3.set_size_inches(5.5, 5.5)\n",
    "fig3.suptitle(\n",
    "    \"Predicted Labels Normalized Confusion Matrix (Test Set)\", fontsize=12, y=1.05\n",
    ")\n",
    "style_multilabel_confusion_matrix(ax3, norm=True, precision=3, label_font_size=12)"
   ]
  },
  {
   "cell_type": "markdown",
   "metadata": {},
   "source": [
    "# Final Remarks {.unnumbered}"
   ]
  },
  {
   "cell_type": "markdown",
   "metadata": {},
   "source": [
    "1. Hyperparameter tuning was not performed in this project but it might be beneficial to do so.\n",
    "2. The project was performed on 2 different machines: local and Colab. It would be less confusing and more reproducible to perform the whole project on a single machine.\n",
    "3. Several different models/model architectures (e.g., BERT, RoBERTa, etc.) could be tested to find the best one for this task.\n",
    "4. Confusion matrices from the TensoBoard used the default settings and were not well formatted. Based on this fact, the confusion matrices for the test set were improved."
   ]
  }
 ],
 "metadata": {
  "kernelspec": {
   "display_name": "TC-M4",
   "language": "python",
   "name": "python3"
  },
  "language_info": {
   "codemirror_mode": {
    "name": "ipython",
    "version": 3
   },
   "file_extension": ".py",
   "mimetype": "text/x-python",
   "name": "python",
   "nbconvert_exporter": "python",
   "pygments_lexer": "ipython3",
   "version": "3.11.8"
  }
 },
 "nbformat": 4,
 "nbformat_minor": 2
}
